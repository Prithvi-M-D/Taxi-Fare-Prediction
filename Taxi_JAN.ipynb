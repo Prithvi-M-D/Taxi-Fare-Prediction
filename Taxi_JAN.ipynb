{
 "cells": [
  {
   "cell_type": "code",
   "execution_count": 26,
   "metadata": {},
   "outputs": [],
   "source": [
    "import pandas as pd\n",
    "import numpy as np\n",
    "import csv\n",
    "import json\n",
    "import matplotlib.pyplot as plt\n",
    "import plotly as ply\n",
    "import seaborn as sns\n",
    "import geopy.distance\n",
    "%matplotlib inline\n",
    "import warnings\n",
    "warnings.filterwarnings(\"ignore\")"
   ]
  },
  {
   "cell_type": "code",
   "execution_count": 2,
   "metadata": {
    "scrolled": true
   },
   "outputs": [],
   "source": [
    "data = pd.read_csv(\"C:/Users/Prithvi dayanand/Desktop/DML/Chicago/chicago_taxi_trips_2016_01.csv\")"
   ]
  },
  {
   "cell_type": "code",
   "execution_count": 3,
   "metadata": {},
   "outputs": [
    {
     "data": {
      "text/plain": [
       "taxi_id                        23\n",
       "trip_start_timestamp            0\n",
       "trip_end_timestamp            125\n",
       "trip_seconds                  314\n",
       "trip_miles                     14\n",
       "pickup_census_tract       1705805\n",
       "dropoff_census_tract       738326\n",
       "pickup_community_area      285789\n",
       "dropoff_community_area     313655\n",
       "fare                           33\n",
       "tips                           33\n",
       "tolls                          33\n",
       "extras                         33\n",
       "trip_total                     33\n",
       "payment_type                    0\n",
       "company                    632726\n",
       "pickup_latitude            285757\n",
       "pickup_longitude           285757\n",
       "dropoff_latitude           311682\n",
       "dropoff_longitude          311682\n",
       "dtype: int64"
      ]
     },
     "execution_count": 3,
     "metadata": {},
     "output_type": "execute_result"
    }
   ],
   "source": [
    "data.isna().sum()"
   ]
  },
  {
   "cell_type": "code",
   "execution_count": 4,
   "metadata": {},
   "outputs": [
    {
     "data": {
      "image/png": "[encoded data removed]",
      "text/plain": [
       "<Figure size 432x288 with 2 Axes>"
      ]
     },
     "metadata": {
      "needs_background": "light"
     },
     "output_type": "display_data"
    }
   ],
   "source": [
    "correlation= data.corr()\n",
    "sn.heatmap(correlation, annot=False)\n",
    "plt.show()"
   ]
  },
  {
   "cell_type": "markdown",
   "metadata": {},
   "source": [
    "### Preprocessing "
   ]
  },
  {
   "cell_type": "code",
   "execution_count": 5,
   "metadata": {},
   "outputs": [
    {
     "name": "stdout",
     "output_type": "stream",
     "text": [
      "Dropping the columns which aren't required for prediction\n"
     ]
    }
   ],
   "source": [
    "print('''Dropping the columns which aren't required for prediction''')\n",
    "data.drop(\"pickup_census_tract\", axis=1, inplace=True)\n",
    "data.drop(\"dropoff_census_tract\", axis=1, inplace=True)\n",
    "data=data.drop([\"tips\"], axis=\"columns\")\n",
    "data=data.drop([\"tolls\"], axis=\"columns\")\n",
    "data=data.drop([\"extras\"], axis=\"columns\")\n",
    "data=data.drop([\"trip_total\"], axis=\"columns\")\n",
    "data=data.drop([\"payment_type\"], axis=\"columns\")\n",
    "data=data.drop([\"taxi_id\"], axis='columns')\n",
    "data=data.drop([\"company\"], axis='columns')\n",
    "data=data.drop(index=data[data[\"fare\"].isna()].index)"
   ]
  },
  {
   "cell_type": "code",
   "execution_count": 6,
   "metadata": {},
   "outputs": [
    {
     "name": "stdout",
     "output_type": "stream",
     "text": [
      "Correlation matrix\n"
     ]
    },
    {
     "data": {
      "text/html": [
       "<style  type=\"text/css\" >\n",
       "#T_cff8c788_aaa2_11eb_b741_c8e2651f549arow0_col0,#T_cff8c788_aaa2_11eb_b741_c8e2651f549arow1_col1,#T_cff8c788_aaa2_11eb_b741_c8e2651f549arow2_col2,#T_cff8c788_aaa2_11eb_b741_c8e2651f549arow3_col3,#T_cff8c788_aaa2_11eb_b741_c8e2651f549arow4_col4,#T_cff8c788_aaa2_11eb_b741_c8e2651f549arow5_col5,#T_cff8c788_aaa2_11eb_b741_c8e2651f549arow6_col6,#T_cff8c788_aaa2_11eb_b741_c8e2651f549arow7_col7,#T_cff8c788_aaa2_11eb_b741_c8e2651f549arow8_col8{\n",
       "            background-color:  #b40426;\n",
       "            color:  #f1f1f1;\n",
       "        }#T_cff8c788_aaa2_11eb_b741_c8e2651f549arow0_col1,#T_cff8c788_aaa2_11eb_b741_c8e2651f549arow1_col3,#T_cff8c788_aaa2_11eb_b741_c8e2651f549arow5_col7{\n",
       "            background-color:  #7295f4;\n",
       "            color:  #000000;\n",
       "        }#T_cff8c788_aaa2_11eb_b741_c8e2651f549arow0_col2{\n",
       "            background-color:  #afcafc;\n",
       "            color:  #000000;\n",
       "        }#T_cff8c788_aaa2_11eb_b741_c8e2651f549arow0_col3{\n",
       "            background-color:  #8badfd;\n",
       "            color:  #000000;\n",
       "        }#T_cff8c788_aaa2_11eb_b741_c8e2651f549arow0_col4{\n",
       "            background-color:  #89acfd;\n",
       "            color:  #000000;\n",
       "        }#T_cff8c788_aaa2_11eb_b741_c8e2651f549arow0_col5,#T_cff8c788_aaa2_11eb_b741_c8e2651f549arow1_col5,#T_cff8c788_aaa2_11eb_b741_c8e2651f549arow4_col5{\n",
       "            background-color:  #6485ec;\n",
       "            color:  #000000;\n",
       "        }#T_cff8c788_aaa2_11eb_b741_c8e2651f549arow0_col6{\n",
       "            background-color:  #3d50c3;\n",
       "            color:  #f1f1f1;\n",
       "        }#T_cff8c788_aaa2_11eb_b741_c8e2651f549arow0_col7,#T_cff8c788_aaa2_11eb_b741_c8e2651f549arow1_col7,#T_cff8c788_aaa2_11eb_b741_c8e2651f549arow4_col1,#T_cff8c788_aaa2_11eb_b741_c8e2651f549arow4_col7{\n",
       "            background-color:  #6180e9;\n",
       "            color:  #000000;\n",
       "        }#T_cff8c788_aaa2_11eb_b741_c8e2651f549arow0_col8,#T_cff8c788_aaa2_11eb_b741_c8e2651f549arow3_col6{\n",
       "            background-color:  #506bda;\n",
       "            color:  #000000;\n",
       "        }#T_cff8c788_aaa2_11eb_b741_c8e2651f549arow1_col0,#T_cff8c788_aaa2_11eb_b741_c8e2651f549arow6_col8{\n",
       "            background-color:  #80a3fa;\n",
       "            color:  #000000;\n",
       "        }#T_cff8c788_aaa2_11eb_b741_c8e2651f549arow1_col2{\n",
       "            background-color:  #86a9fc;\n",
       "            color:  #000000;\n",
       "        }#T_cff8c788_aaa2_11eb_b741_c8e2651f549arow1_col4{\n",
       "            background-color:  #6788ee;\n",
       "            color:  #000000;\n",
       "        }#T_cff8c788_aaa2_11eb_b741_c8e2651f549arow1_col6{\n",
       "            background-color:  #4b64d5;\n",
       "            color:  #f1f1f1;\n",
       "        }#T_cff8c788_aaa2_11eb_b741_c8e2651f549arow1_col8{\n",
       "            background-color:  #5875e1;\n",
       "            color:  #000000;\n",
       "        }#T_cff8c788_aaa2_11eb_b741_c8e2651f549arow2_col0{\n",
       "            background-color:  #a3c2fe;\n",
       "            color:  #000000;\n",
       "        }#T_cff8c788_aaa2_11eb_b741_c8e2651f549arow2_col1{\n",
       "            background-color:  #6a8bef;\n",
       "            color:  #000000;\n",
       "        }#T_cff8c788_aaa2_11eb_b741_c8e2651f549arow2_col3,#T_cff8c788_aaa2_11eb_b741_c8e2651f549arow4_col2{\n",
       "            background-color:  #97b8ff;\n",
       "            color:  #000000;\n",
       "        }#T_cff8c788_aaa2_11eb_b741_c8e2651f549arow2_col4,#T_cff8c788_aaa2_11eb_b741_c8e2651f549arow3_col0{\n",
       "            background-color:  #81a4fb;\n",
       "            color:  #000000;\n",
       "        }#T_cff8c788_aaa2_11eb_b741_c8e2651f549arow2_col5,#T_cff8c788_aaa2_11eb_b741_c8e2651f549arow2_col6,#T_cff8c788_aaa2_11eb_b741_c8e2651f549arow3_col7,#T_cff8c788_aaa2_11eb_b741_c8e2651f549arow5_col2,#T_cff8c788_aaa2_11eb_b741_c8e2651f549arow6_col0,#T_cff8c788_aaa2_11eb_b741_c8e2651f549arow6_col1,#T_cff8c788_aaa2_11eb_b741_c8e2651f549arow6_col4,#T_cff8c788_aaa2_11eb_b741_c8e2651f549arow7_col3,#T_cff8c788_aaa2_11eb_b741_c8e2651f549arow7_col8{\n",
       "            background-color:  #3b4cc0;\n",
       "            color:  #f1f1f1;\n",
       "        }#T_cff8c788_aaa2_11eb_b741_c8e2651f549arow2_col7,#T_cff8c788_aaa2_11eb_b741_c8e2651f549arow3_col5{\n",
       "            background-color:  #5a78e4;\n",
       "            color:  #000000;\n",
       "        }#T_cff8c788_aaa2_11eb_b741_c8e2651f549arow2_col8{\n",
       "            background-color:  #5673e0;\n",
       "            color:  #000000;\n",
       "        }#T_cff8c788_aaa2_11eb_b741_c8e2651f549arow3_col1,#T_cff8c788_aaa2_11eb_b741_c8e2651f549arow6_col3{\n",
       "            background-color:  #5977e3;\n",
       "            color:  #000000;\n",
       "        }#T_cff8c788_aaa2_11eb_b741_c8e2651f549arow3_col2{\n",
       "            background-color:  #9bbcff;\n",
       "            color:  #000000;\n",
       "        }#T_cff8c788_aaa2_11eb_b741_c8e2651f549arow3_col4{\n",
       "            background-color:  #6b8df0;\n",
       "            color:  #000000;\n",
       "        }#T_cff8c788_aaa2_11eb_b741_c8e2651f549arow3_col8,#T_cff8c788_aaa2_11eb_b741_c8e2651f549arow4_col6{\n",
       "            background-color:  #455cce;\n",
       "            color:  #f1f1f1;\n",
       "        }#T_cff8c788_aaa2_11eb_b741_c8e2651f549arow4_col0{\n",
       "            background-color:  #90b2fe;\n",
       "            color:  #000000;\n",
       "        }#T_cff8c788_aaa2_11eb_b741_c8e2651f549arow4_col3{\n",
       "            background-color:  #7ea1fa;\n",
       "            color:  #000000;\n",
       "        }#T_cff8c788_aaa2_11eb_b741_c8e2651f549arow4_col8,#T_cff8c788_aaa2_11eb_b741_c8e2651f549arow5_col0,#T_cff8c788_aaa2_11eb_b741_c8e2651f549arow7_col6{\n",
       "            background-color:  #5470de;\n",
       "            color:  #000000;\n",
       "        }#T_cff8c788_aaa2_11eb_b741_c8e2651f549arow5_col1{\n",
       "            background-color:  #465ecf;\n",
       "            color:  #f1f1f1;\n",
       "        }#T_cff8c788_aaa2_11eb_b741_c8e2651f549arow5_col3,#T_cff8c788_aaa2_11eb_b741_c8e2651f549arow7_col0{\n",
       "            background-color:  #5572df;\n",
       "            color:  #000000;\n",
       "        }#T_cff8c788_aaa2_11eb_b741_c8e2651f549arow5_col4{\n",
       "            background-color:  #4c66d6;\n",
       "            color:  #000000;\n",
       "        }#T_cff8c788_aaa2_11eb_b741_c8e2651f549arow5_col6{\n",
       "            background-color:  #4055c8;\n",
       "            color:  #f1f1f1;\n",
       "        }#T_cff8c788_aaa2_11eb_b741_c8e2651f549arow5_col8,#T_cff8c788_aaa2_11eb_b741_c8e2651f549arow6_col7{\n",
       "            background-color:  #5b7ae5;\n",
       "            color:  #000000;\n",
       "        }#T_cff8c788_aaa2_11eb_b741_c8e2651f549arow6_col2,#T_cff8c788_aaa2_11eb_b741_c8e2651f549arow7_col1,#T_cff8c788_aaa2_11eb_b741_c8e2651f549arow8_col0,#T_cff8c788_aaa2_11eb_b741_c8e2651f549arow8_col3{\n",
       "            background-color:  #485fd1;\n",
       "            color:  #f1f1f1;\n",
       "        }#T_cff8c788_aaa2_11eb_b741_c8e2651f549arow6_col5,#T_cff8c788_aaa2_11eb_b741_c8e2651f549arow7_col4{\n",
       "            background-color:  #4e68d8;\n",
       "            color:  #000000;\n",
       "        }#T_cff8c788_aaa2_11eb_b741_c8e2651f549arow7_col2{\n",
       "            background-color:  #5e7de7;\n",
       "            color:  #000000;\n",
       "        }#T_cff8c788_aaa2_11eb_b741_c8e2651f549arow7_col5{\n",
       "            background-color:  #779af7;\n",
       "            color:  #000000;\n",
       "        }#T_cff8c788_aaa2_11eb_b741_c8e2651f549arow8_col1{\n",
       "            background-color:  #4257c9;\n",
       "            color:  #f1f1f1;\n",
       "        }#T_cff8c788_aaa2_11eb_b741_c8e2651f549arow8_col2{\n",
       "            background-color:  #5d7ce6;\n",
       "            color:  #000000;\n",
       "        }#T_cff8c788_aaa2_11eb_b741_c8e2651f549arow8_col4{\n",
       "            background-color:  #4358cb;\n",
       "            color:  #f1f1f1;\n",
       "        }#T_cff8c788_aaa2_11eb_b741_c8e2651f549arow8_col5{\n",
       "            background-color:  #6384eb;\n",
       "            color:  #000000;\n",
       "        }#T_cff8c788_aaa2_11eb_b741_c8e2651f549arow8_col6{\n",
       "            background-color:  #7a9df8;\n",
       "            color:  #000000;\n",
       "        }#T_cff8c788_aaa2_11eb_b741_c8e2651f549arow8_col7{\n",
       "            background-color:  #3c4ec2;\n",
       "            color:  #f1f1f1;\n",
       "        }</style><table id=\"T_cff8c788_aaa2_11eb_b741_c8e2651f549a\" ><thead>    <tr>        <th class=\"blank level0\" ></th>        <th class=\"col_heading level0 col0\" >trip_seconds</th>        <th class=\"col_heading level0 col1\" >trip_miles</th>        <th class=\"col_heading level0 col2\" >pickup_community_area</th>        <th class=\"col_heading level0 col3\" >dropoff_community_area</th>        <th class=\"col_heading level0 col4\" >fare</th>        <th class=\"col_heading level0 col5\" >pickup_latitude</th>        <th class=\"col_heading level0 col6\" >pickup_longitude</th>        <th class=\"col_heading level0 col7\" >dropoff_latitude</th>        <th class=\"col_heading level0 col8\" >dropoff_longitude</th>    </tr></thead><tbody>\n",
       "                <tr>\n",
       "                        <th id=\"T_cff8c788_aaa2_11eb_b741_c8e2651f549alevel0_row0\" class=\"row_heading level0 row0\" >trip_seconds</th>\n",
       "                        <td id=\"T_cff8c788_aaa2_11eb_b741_c8e2651f549arow0_col0\" class=\"data row0 col0\" >1.000000</td>\n",
       "                        <td id=\"T_cff8c788_aaa2_11eb_b741_c8e2651f549arow0_col1\" class=\"data row0 col1\" >0.134308</td>\n",
       "                        <td id=\"T_cff8c788_aaa2_11eb_b741_c8e2651f549arow0_col2\" class=\"data row0 col2\" >0.246059</td>\n",
       "                        <td id=\"T_cff8c788_aaa2_11eb_b741_c8e2651f549arow0_col3\" class=\"data row0 col3\" >0.139301</td>\n",
       "                        <td id=\"T_cff8c788_aaa2_11eb_b741_c8e2651f549arow0_col4\" class=\"data row0 col4\" >0.188177</td>\n",
       "                        <td id=\"T_cff8c788_aaa2_11eb_b741_c8e2651f549arow0_col5\" class=\"data row0 col5\" >-0.005592</td>\n",
       "                        <td id=\"T_cff8c788_aaa2_11eb_b741_c8e2651f549arow0_col6\" class=\"data row0 col6\" >-0.097252</td>\n",
       "                        <td id=\"T_cff8c788_aaa2_11eb_b741_c8e2651f549arow0_col7\" class=\"data row0 col7\" >-0.001501</td>\n",
       "                        <td id=\"T_cff8c788_aaa2_11eb_b741_c8e2651f549arow0_col8\" class=\"data row0 col8\" >-0.048807</td>\n",
       "            </tr>\n",
       "            <tr>\n",
       "                        <th id=\"T_cff8c788_aaa2_11eb_b741_c8e2651f549alevel0_row1\" class=\"row_heading level0 row1\" >trip_miles</th>\n",
       "                        <td id=\"T_cff8c788_aaa2_11eb_b741_c8e2651f549arow1_col0\" class=\"data row1 col0\" >0.134308</td>\n",
       "                        <td id=\"T_cff8c788_aaa2_11eb_b741_c8e2651f549arow1_col1\" class=\"data row1 col1\" >1.000000</td>\n",
       "                        <td id=\"T_cff8c788_aaa2_11eb_b741_c8e2651f549arow1_col2\" class=\"data row1 col2\" >0.109671</td>\n",
       "                        <td id=\"T_cff8c788_aaa2_11eb_b741_c8e2651f549arow1_col3\" class=\"data row1 col3\" >0.057842</td>\n",
       "                        <td id=\"T_cff8c788_aaa2_11eb_b741_c8e2651f549arow1_col4\" class=\"data row1 col4\" >0.082282</td>\n",
       "                        <td id=\"T_cff8c788_aaa2_11eb_b741_c8e2651f549arow1_col5\" class=\"data row1 col5\" >-0.003070</td>\n",
       "                        <td id=\"T_cff8c788_aaa2_11eb_b741_c8e2651f549arow1_col6\" class=\"data row1 col6\" >-0.047441</td>\n",
       "                        <td id=\"T_cff8c788_aaa2_11eb_b741_c8e2651f549arow1_col7\" class=\"data row1 col7\" >-0.001033</td>\n",
       "                        <td id=\"T_cff8c788_aaa2_11eb_b741_c8e2651f549arow1_col8\" class=\"data row1 col8\" >-0.022089</td>\n",
       "            </tr>\n",
       "            <tr>\n",
       "                        <th id=\"T_cff8c788_aaa2_11eb_b741_c8e2651f549alevel0_row2\" class=\"row_heading level0 row2\" >pickup_community_area</th>\n",
       "                        <td id=\"T_cff8c788_aaa2_11eb_b741_c8e2651f549arow2_col0\" class=\"data row2 col0\" >0.246059</td>\n",
       "                        <td id=\"T_cff8c788_aaa2_11eb_b741_c8e2651f549arow2_col1\" class=\"data row2 col1\" >0.109671</td>\n",
       "                        <td id=\"T_cff8c788_aaa2_11eb_b741_c8e2651f549arow2_col2\" class=\"data row2 col2\" >1.000000</td>\n",
       "                        <td id=\"T_cff8c788_aaa2_11eb_b741_c8e2651f549arow2_col3\" class=\"data row2 col3\" >0.178544</td>\n",
       "                        <td id=\"T_cff8c788_aaa2_11eb_b741_c8e2651f549arow2_col4\" class=\"data row2 col4\" >0.163656</td>\n",
       "                        <td id=\"T_cff8c788_aaa2_11eb_b741_c8e2651f549arow2_col5\" class=\"data row2 col5\" >-0.160377</td>\n",
       "                        <td id=\"T_cff8c788_aaa2_11eb_b741_c8e2651f549arow2_col6\" class=\"data row2 col6\" >-0.109311</td>\n",
       "                        <td id=\"T_cff8c788_aaa2_11eb_b741_c8e2651f549arow2_col7\" class=\"data row2 col7\" >-0.024813</td>\n",
       "                        <td id=\"T_cff8c788_aaa2_11eb_b741_c8e2651f549arow2_col8\" class=\"data row2 col8\" >-0.029055</td>\n",
       "            </tr>\n",
       "            <tr>\n",
       "                        <th id=\"T_cff8c788_aaa2_11eb_b741_c8e2651f549alevel0_row3\" class=\"row_heading level0 row3\" >dropoff_community_area</th>\n",
       "                        <td id=\"T_cff8c788_aaa2_11eb_b741_c8e2651f549arow3_col0\" class=\"data row3 col0\" >0.139301</td>\n",
       "                        <td id=\"T_cff8c788_aaa2_11eb_b741_c8e2651f549arow3_col1\" class=\"data row3 col1\" >0.057842</td>\n",
       "                        <td id=\"T_cff8c788_aaa2_11eb_b741_c8e2651f549arow3_col2\" class=\"data row3 col2\" >0.178544</td>\n",
       "                        <td id=\"T_cff8c788_aaa2_11eb_b741_c8e2651f549arow3_col3\" class=\"data row3 col3\" >1.000000</td>\n",
       "                        <td id=\"T_cff8c788_aaa2_11eb_b741_c8e2651f549arow3_col4\" class=\"data row3 col4\" >0.096247</td>\n",
       "                        <td id=\"T_cff8c788_aaa2_11eb_b741_c8e2651f549arow3_col5\" class=\"data row3 col5\" >-0.041703</td>\n",
       "                        <td id=\"T_cff8c788_aaa2_11eb_b741_c8e2651f549arow3_col6\" class=\"data row3 col6\" >-0.027013</td>\n",
       "                        <td id=\"T_cff8c788_aaa2_11eb_b741_c8e2651f549arow3_col7\" class=\"data row3 col7\" >-0.140689</td>\n",
       "                        <td id=\"T_cff8c788_aaa2_11eb_b741_c8e2651f549arow3_col8\" class=\"data row3 col8\" >-0.089147</td>\n",
       "            </tr>\n",
       "            <tr>\n",
       "                        <th id=\"T_cff8c788_aaa2_11eb_b741_c8e2651f549alevel0_row4\" class=\"row_heading level0 row4\" >fare</th>\n",
       "                        <td id=\"T_cff8c788_aaa2_11eb_b741_c8e2651f549arow4_col0\" class=\"data row4 col0\" >0.188177</td>\n",
       "                        <td id=\"T_cff8c788_aaa2_11eb_b741_c8e2651f549arow4_col1\" class=\"data row4 col1\" >0.082282</td>\n",
       "                        <td id=\"T_cff8c788_aaa2_11eb_b741_c8e2651f549arow4_col2\" class=\"data row4 col2\" >0.163656</td>\n",
       "                        <td id=\"T_cff8c788_aaa2_11eb_b741_c8e2651f549arow4_col3\" class=\"data row4 col3\" >0.096247</td>\n",
       "                        <td id=\"T_cff8c788_aaa2_11eb_b741_c8e2651f549arow4_col4\" class=\"data row4 col4\" >1.000000</td>\n",
       "                        <td id=\"T_cff8c788_aaa2_11eb_b741_c8e2651f549arow4_col5\" class=\"data row4 col5\" >-0.003543</td>\n",
       "                        <td id=\"T_cff8c788_aaa2_11eb_b741_c8e2651f549arow4_col6\" class=\"data row4 col6\" >-0.068600</td>\n",
       "                        <td id=\"T_cff8c788_aaa2_11eb_b741_c8e2651f549arow4_col7\" class=\"data row4 col7\" >-0.001510</td>\n",
       "                        <td id=\"T_cff8c788_aaa2_11eb_b741_c8e2651f549arow4_col8\" class=\"data row4 col8\" >-0.038514</td>\n",
       "            </tr>\n",
       "            <tr>\n",
       "                        <th id=\"T_cff8c788_aaa2_11eb_b741_c8e2651f549alevel0_row5\" class=\"row_heading level0 row5\" >pickup_latitude</th>\n",
       "                        <td id=\"T_cff8c788_aaa2_11eb_b741_c8e2651f549arow5_col0\" class=\"data row5 col0\" >-0.005592</td>\n",
       "                        <td id=\"T_cff8c788_aaa2_11eb_b741_c8e2651f549arow5_col1\" class=\"data row5 col1\" >-0.003070</td>\n",
       "                        <td id=\"T_cff8c788_aaa2_11eb_b741_c8e2651f549arow5_col2\" class=\"data row5 col2\" >-0.160377</td>\n",
       "                        <td id=\"T_cff8c788_aaa2_11eb_b741_c8e2651f549arow5_col3\" class=\"data row5 col3\" >-0.041703</td>\n",
       "                        <td id=\"T_cff8c788_aaa2_11eb_b741_c8e2651f549arow5_col4\" class=\"data row5 col4\" >-0.003543</td>\n",
       "                        <td id=\"T_cff8c788_aaa2_11eb_b741_c8e2651f549arow5_col5\" class=\"data row5 col5\" >1.000000</td>\n",
       "                        <td id=\"T_cff8c788_aaa2_11eb_b741_c8e2651f549arow5_col6\" class=\"data row5 col6\" >-0.085840</td>\n",
       "                        <td id=\"T_cff8c788_aaa2_11eb_b741_c8e2651f549arow5_col7\" class=\"data row5 col7\" >0.058767</td>\n",
       "                        <td id=\"T_cff8c788_aaa2_11eb_b741_c8e2651f549arow5_col8\" class=\"data row5 col8\" >-0.008549</td>\n",
       "            </tr>\n",
       "            <tr>\n",
       "                        <th id=\"T_cff8c788_aaa2_11eb_b741_c8e2651f549alevel0_row6\" class=\"row_heading level0 row6\" >pickup_longitude</th>\n",
       "                        <td id=\"T_cff8c788_aaa2_11eb_b741_c8e2651f549arow6_col0\" class=\"data row6 col0\" >-0.097252</td>\n",
       "                        <td id=\"T_cff8c788_aaa2_11eb_b741_c8e2651f549arow6_col1\" class=\"data row6 col1\" >-0.047441</td>\n",
       "                        <td id=\"T_cff8c788_aaa2_11eb_b741_c8e2651f549arow6_col2\" class=\"data row6 col2\" >-0.109311</td>\n",
       "                        <td id=\"T_cff8c788_aaa2_11eb_b741_c8e2651f549arow6_col3\" class=\"data row6 col3\" >-0.027013</td>\n",
       "                        <td id=\"T_cff8c788_aaa2_11eb_b741_c8e2651f549arow6_col4\" class=\"data row6 col4\" >-0.068600</td>\n",
       "                        <td id=\"T_cff8c788_aaa2_11eb_b741_c8e2651f549arow6_col5\" class=\"data row6 col5\" >-0.085840</td>\n",
       "                        <td id=\"T_cff8c788_aaa2_11eb_b741_c8e2651f549arow6_col6\" class=\"data row6 col6\" >1.000000</td>\n",
       "                        <td id=\"T_cff8c788_aaa2_11eb_b741_c8e2651f549arow6_col7\" class=\"data row6 col7\" >-0.017301</td>\n",
       "                        <td id=\"T_cff8c788_aaa2_11eb_b741_c8e2651f549arow6_col8\" class=\"data row6 col8\" >0.107737</td>\n",
       "            </tr>\n",
       "            <tr>\n",
       "                        <th id=\"T_cff8c788_aaa2_11eb_b741_c8e2651f549alevel0_row7\" class=\"row_heading level0 row7\" >dropoff_latitude</th>\n",
       "                        <td id=\"T_cff8c788_aaa2_11eb_b741_c8e2651f549arow7_col0\" class=\"data row7 col0\" >-0.001501</td>\n",
       "                        <td id=\"T_cff8c788_aaa2_11eb_b741_c8e2651f549arow7_col1\" class=\"data row7 col1\" >-0.001033</td>\n",
       "                        <td id=\"T_cff8c788_aaa2_11eb_b741_c8e2651f549arow7_col2\" class=\"data row7 col2\" >-0.024813</td>\n",
       "                        <td id=\"T_cff8c788_aaa2_11eb_b741_c8e2651f549arow7_col3\" class=\"data row7 col3\" >-0.140689</td>\n",
       "                        <td id=\"T_cff8c788_aaa2_11eb_b741_c8e2651f549arow7_col4\" class=\"data row7 col4\" >-0.001510</td>\n",
       "                        <td id=\"T_cff8c788_aaa2_11eb_b741_c8e2651f549arow7_col5\" class=\"data row7 col5\" >0.058767</td>\n",
       "                        <td id=\"T_cff8c788_aaa2_11eb_b741_c8e2651f549arow7_col6\" class=\"data row7 col6\" >-0.017301</td>\n",
       "                        <td id=\"T_cff8c788_aaa2_11eb_b741_c8e2651f549arow7_col7\" class=\"data row7 col7\" >1.000000</td>\n",
       "                        <td id=\"T_cff8c788_aaa2_11eb_b741_c8e2651f549arow7_col8\" class=\"data row7 col8\" >-0.131826</td>\n",
       "            </tr>\n",
       "            <tr>\n",
       "                        <th id=\"T_cff8c788_aaa2_11eb_b741_c8e2651f549alevel0_row8\" class=\"row_heading level0 row8\" >dropoff_longitude</th>\n",
       "                        <td id=\"T_cff8c788_aaa2_11eb_b741_c8e2651f549arow8_col0\" class=\"data row8 col0\" >-0.048807</td>\n",
       "                        <td id=\"T_cff8c788_aaa2_11eb_b741_c8e2651f549arow8_col1\" class=\"data row8 col1\" >-0.022089</td>\n",
       "                        <td id=\"T_cff8c788_aaa2_11eb_b741_c8e2651f549arow8_col2\" class=\"data row8 col2\" >-0.029055</td>\n",
       "                        <td id=\"T_cff8c788_aaa2_11eb_b741_c8e2651f549arow8_col3\" class=\"data row8 col3\" >-0.089147</td>\n",
       "                        <td id=\"T_cff8c788_aaa2_11eb_b741_c8e2651f549arow8_col4\" class=\"data row8 col4\" >-0.038514</td>\n",
       "                        <td id=\"T_cff8c788_aaa2_11eb_b741_c8e2651f549arow8_col5\" class=\"data row8 col5\" >-0.008549</td>\n",
       "                        <td id=\"T_cff8c788_aaa2_11eb_b741_c8e2651f549arow8_col6\" class=\"data row8 col6\" >0.107737</td>\n",
       "                        <td id=\"T_cff8c788_aaa2_11eb_b741_c8e2651f549arow8_col7\" class=\"data row8 col7\" >-0.131826</td>\n",
       "                        <td id=\"T_cff8c788_aaa2_11eb_b741_c8e2651f549arow8_col8\" class=\"data row8 col8\" >1.000000</td>\n",
       "            </tr>\n",
       "    </tbody></table>"
      ],
      "text/plain": [
       "<pandas.io.formats.style.Styler at 0x24a80333a60>"
      ]
     },
     "execution_count": 6,
     "metadata": {},
     "output_type": "execute_result"
    }
   ],
   "source": [
    "print('''Correlation matrix''')\n",
    "rs = np.random.RandomState(0)\n",
    "corr = data.corr()\n",
    "corr.style.background_gradient(cmap='coolwarm')\n"
   ]
  },
  {
   "cell_type": "code",
   "execution_count": 7,
   "metadata": {},
   "outputs": [
    {
     "name": "stdout",
     "output_type": "stream",
     "text": [
      "Removing the records with missing latitude or longitude\n"
     ]
    }
   ],
   "source": [
    "print('Removing the records with missing latitude or longitude')\n",
    "data=data.drop(index=data[(data[\"pickup_latitude\"].isna()) | (data[\"pickup_longitude\"].isna()) | (data[\"dropoff_latitude\"].isna()) | (data[\"dropoff_longitude\"].isna())].index)"
   ]
  },
  {
   "cell_type": "code",
   "execution_count": 8,
   "metadata": {},
   "outputs": [],
   "source": [
    "mean_trip_seconds = data[\"trip_seconds\"].mean()\n",
    "data[\"trip_seconds\"] = data[\"trip_seconds\"].replace(['NaN'], round(mean_trip_seconds))"
   ]
  },
  {
   "cell_type": "code",
   "execution_count": 9,
   "metadata": {},
   "outputs": [],
   "source": [
    "data=data.drop(index=data[data[\"pickup_community_area\"].isnull()].index)\n",
    "data=data.drop(index=data[data[\"dropoff_community_area\"].isnull()].index)"
   ]
  },
  {
   "cell_type": "code",
   "execution_count": 10,
   "metadata": {},
   "outputs": [
    {
     "data": {
      "text/html": [
       "<div>\n",
       "<style scoped>\n",
       "    .dataframe tbody tr th:only-of-type {\n",
       "        vertical-align: middle;\n",
       "    }\n",
       "\n",
       "    .dataframe tbody tr th {\n",
       "        vertical-align: top;\n",
       "    }\n",
       "\n",
       "    .dataframe thead th {\n",
       "        text-align: right;\n",
       "    }\n",
       "</style>\n",
       "<table border=\"1\" class=\"dataframe\">\n",
       "  <thead>\n",
       "    <tr style=\"text-align: right;\">\n",
       "      <th></th>\n",
       "      <th>trip_start_timestamp</th>\n",
       "      <th>trip_end_timestamp</th>\n",
       "      <th>trip_seconds</th>\n",
       "      <th>trip_miles</th>\n",
       "      <th>pickup_community_area</th>\n",
       "      <th>dropoff_community_area</th>\n",
       "      <th>fare</th>\n",
       "      <th>pickup_latitude</th>\n",
       "      <th>pickup_longitude</th>\n",
       "      <th>dropoff_latitude</th>\n",
       "      <th>dropoff_longitude</th>\n",
       "    </tr>\n",
       "  </thead>\n",
       "  <tbody>\n",
       "    <tr>\n",
       "      <th>0</th>\n",
       "      <td>2016-1-13 06:15:00</td>\n",
       "      <td>2016-1-13 06:15:00</td>\n",
       "      <td>180.0</td>\n",
       "      <td>0.4</td>\n",
       "      <td>24.0</td>\n",
       "      <td>24.0</td>\n",
       "      <td>4.5</td>\n",
       "      <td>199.0</td>\n",
       "      <td>510.0</td>\n",
       "      <td>199.0</td>\n",
       "      <td>510.0</td>\n",
       "    </tr>\n",
       "    <tr>\n",
       "      <th>3</th>\n",
       "      <td>2016-1-23 17:30:00</td>\n",
       "      <td>2016-1-23 17:30:00</td>\n",
       "      <td>480.0</td>\n",
       "      <td>1.1</td>\n",
       "      <td>6.0</td>\n",
       "      <td>6.0</td>\n",
       "      <td>7.0</td>\n",
       "      <td>686.0</td>\n",
       "      <td>500.0</td>\n",
       "      <td>686.0</td>\n",
       "      <td>500.0</td>\n",
       "    </tr>\n",
       "  </tbody>\n",
       "</table>\n",
       "</div>"
      ],
      "text/plain": [
       "  trip_start_timestamp  trip_end_timestamp  trip_seconds  trip_miles  \\\n",
       "0   2016-1-13 06:15:00  2016-1-13 06:15:00         180.0         0.4   \n",
       "3   2016-1-23 17:30:00  2016-1-23 17:30:00         480.0         1.1   \n",
       "\n",
       "   pickup_community_area  dropoff_community_area  fare  pickup_latitude  \\\n",
       "0                   24.0                    24.0   4.5            199.0   \n",
       "3                    6.0                     6.0   7.0            686.0   \n",
       "\n",
       "   pickup_longitude  dropoff_latitude  dropoff_longitude  \n",
       "0             510.0             199.0              510.0  \n",
       "3             500.0             686.0              500.0  "
      ]
     },
     "execution_count": 10,
     "metadata": {},
     "output_type": "execute_result"
    }
   ],
   "source": [
    "data.head(2)"
   ]
  },
  {
   "cell_type": "markdown",
   "metadata": {},
   "source": [
    "### Transformation\n"
   ]
  },
  {
   "cell_type": "code",
   "execution_count": 11,
   "metadata": {},
   "outputs": [
    {
     "name": "stdout",
     "output_type": "stream",
     "text": [
      "Splitting the timestamp and extarcting the day and time\n"
     ]
    }
   ],
   "source": [
    "print('Splitting the timestamp and extarcting the day and time')\n",
    "data[\"trip_start_time\"] = data['trip_start_timestamp'].str.split(\" \", n=1, expand=True)[1]\n",
    "data[\"trip_end_time\"] = data['trip_end_timestamp'].str.split(\" \", n=1, expand=True)[1]\n",
    "data[\"trip_day\"]= pd.to_datetime(data['trip_start_timestamp']).dt.day_name()"
   ]
  },
  {
   "cell_type": "code",
   "execution_count": 12,
   "metadata": {},
   "outputs": [],
   "source": [
    "data[\"trip_start_time\"]=data[\"trip_start_time\"].str.replace(\":\", \"\")\n",
    "data[\"trip_start_time_hour\"]=data[\"trip_start_time\"].astype(int)"
   ]
  },
  {
   "cell_type": "code",
   "execution_count": 13,
   "metadata": {},
   "outputs": [],
   "source": [
    "data[\"trip_end_time\"]=data[\"trip_end_time\"].str.replace(\":\", \"\")\n",
    "data[\"trip_end_time_hour\"]=data[\"trip_end_time\"].astype(int)"
   ]
  },
  {
   "cell_type": "code",
   "execution_count": 14,
   "metadata": {},
   "outputs": [],
   "source": [
    "data[\"isPeak\"] = data[\"trip_start_time_hour\"].apply(lambda x :1 if ((len(str(x)) == 5) & ((x > 70000) & (x < 100000)) | (len(str(x)) == 6) & ( ((x < 110000) & (x < 100000))  | ((x > 160000) & (x < 193000)) )) else 0)"
   ]
  },
  {
   "cell_type": "code",
   "execution_count": 15,
   "metadata": {},
   "outputs": [],
   "source": [
    "data[\"isDayTime\"]=data[\"trip_start_time_hour\"].apply(lambda x :1 if ((len(str(x)) == 5) & (x > 60000)  | (len(str(x)) == 6) & ( (x > 100000) & (x < 183000))) else 0)"
   ]
  },
  {
   "cell_type": "code",
   "execution_count": 16,
   "metadata": {},
   "outputs": [],
   "source": [
    "data.drop(\"trip_start_timestamp\", axis=1, inplace=True)\n",
    "data.drop(\"trip_end_timestamp\", axis=1, inplace=True)"
   ]
  },
  {
   "cell_type": "code",
   "execution_count": 17,
   "metadata": {},
   "outputs": [],
   "source": [
    "# Load lookup table given in kaggle\n",
    "lt = pd.read_json(\"C:/Users/Prithvi dayanand/Desktop/DML/Chicago/column_remapping.json\")\n",
    "# Change indices with the real value\n",
    "data['pickup_latitude'] = data['pickup_latitude'].map(lambda x: lt.pickup_latitude[x])\n",
    "data['pickup_longitude'] = data['pickup_longitude'].map(lambda x: lt.pickup_longitude[x])\n",
    "data['dropoff_latitude'] = data['dropoff_latitude'].map(lambda x: lt.dropoff_latitude[x])\n",
    "data['dropoff_longitude'] = data['dropoff_longitude'].map(lambda x: lt.dropoff_longitude[x])"
   ]
  },
  {
   "cell_type": "code",
   "execution_count": 18,
   "metadata": {},
   "outputs": [
    {
     "data": {
      "text/html": [
       "<div>\n",
       "<style scoped>\n",
       "    .dataframe tbody tr th:only-of-type {\n",
       "        vertical-align: middle;\n",
       "    }\n",
       "\n",
       "    .dataframe tbody tr th {\n",
       "        vertical-align: top;\n",
       "    }\n",
       "\n",
       "    .dataframe thead th {\n",
       "        text-align: right;\n",
       "    }\n",
       "</style>\n",
       "<table border=\"1\" class=\"dataframe\">\n",
       "  <thead>\n",
       "    <tr style=\"text-align: right;\">\n",
       "      <th></th>\n",
       "      <th>trip_seconds</th>\n",
       "      <th>trip_miles</th>\n",
       "      <th>pickup_community_area</th>\n",
       "      <th>dropoff_community_area</th>\n",
       "      <th>fare</th>\n",
       "      <th>pickup_latitude</th>\n",
       "      <th>pickup_longitude</th>\n",
       "      <th>dropoff_latitude</th>\n",
       "      <th>dropoff_longitude</th>\n",
       "      <th>trip_start_time</th>\n",
       "      <th>trip_end_time</th>\n",
       "      <th>trip_day</th>\n",
       "      <th>trip_start_time_hour</th>\n",
       "      <th>trip_end_time_hour</th>\n",
       "      <th>isPeak</th>\n",
       "      <th>isDayTime</th>\n",
       "    </tr>\n",
       "  </thead>\n",
       "  <tbody>\n",
       "    <tr>\n",
       "      <th>0</th>\n",
       "      <td>180.0</td>\n",
       "      <td>0.4</td>\n",
       "      <td>24.0</td>\n",
       "      <td>24.0</td>\n",
       "      <td>4.5</td>\n",
       "      <td>41.901207</td>\n",
       "      <td>-87.676356</td>\n",
       "      <td>41.901207</td>\n",
       "      <td>-87.676356</td>\n",
       "      <td>061500</td>\n",
       "      <td>061500</td>\n",
       "      <td>Wednesday</td>\n",
       "      <td>61500</td>\n",
       "      <td>61500</td>\n",
       "      <td>0</td>\n",
       "      <td>1</td>\n",
       "    </tr>\n",
       "    <tr>\n",
       "      <th>3</th>\n",
       "      <td>480.0</td>\n",
       "      <td>1.1</td>\n",
       "      <td>6.0</td>\n",
       "      <td>6.0</td>\n",
       "      <td>7.0</td>\n",
       "      <td>41.944227</td>\n",
       "      <td>-87.655998</td>\n",
       "      <td>41.944227</td>\n",
       "      <td>-87.655998</td>\n",
       "      <td>173000</td>\n",
       "      <td>173000</td>\n",
       "      <td>Saturday</td>\n",
       "      <td>173000</td>\n",
       "      <td>173000</td>\n",
       "      <td>1</td>\n",
       "      <td>1</td>\n",
       "    </tr>\n",
       "  </tbody>\n",
       "</table>\n",
       "</div>"
      ],
      "text/plain": [
       "   trip_seconds  trip_miles  pickup_community_area  dropoff_community_area  \\\n",
       "0         180.0         0.4                   24.0                    24.0   \n",
       "3         480.0         1.1                    6.0                     6.0   \n",
       "\n",
       "   fare  pickup_latitude  pickup_longitude  dropoff_latitude  \\\n",
       "0   4.5        41.901207        -87.676356         41.901207   \n",
       "3   7.0        41.944227        -87.655998         41.944227   \n",
       "\n",
       "   dropoff_longitude trip_start_time trip_end_time   trip_day  \\\n",
       "0         -87.676356          061500        061500  Wednesday   \n",
       "3         -87.655998          173000        173000   Saturday   \n",
       "\n",
       "   trip_start_time_hour  trip_end_time_hour  isPeak  isDayTime  \n",
       "0                 61500               61500       0          1  \n",
       "3                173000              173000       1          1  "
      ]
     },
     "execution_count": 18,
     "metadata": {},
     "output_type": "execute_result"
    }
   ],
   "source": [
    "data.head(2)"
   ]
  },
  {
   "cell_type": "code",
   "execution_count": 19,
   "metadata": {},
   "outputs": [],
   "source": [
    "# Calculate lineal distance or displacement using coordinates\n",
    "def calculate_distance(src):\n",
    "    coords_1 = (src[\"pickup_latitude\"], src[\"pickup_longitude\"])\n",
    "    coords_2 = (src[\"dropoff_latitude\"],src[\"dropoff_longitude\"])\n",
    "    return geopy.distance.distance(coords_1, coords_2).m\n",
    "\n",
    "# Generate lineal distance field\n",
    "data['distance'] = data.apply(calculate_distance, axis='columns')"
   ]
  },
  {
   "cell_type": "code",
   "execution_count": null,
   "metadata": {},
   "outputs": [],
   "source": [
    "# import reverse_geocoder\n",
    "# r=[]\n",
    "# for i in range(0,10000):\n",
    "#     r.append(reverse_geocoder.search([data[\"pickup_latitude\"].iloc[i], data[\"pickup_longitude\"].iloc[i]]))\n",
    "\n",
    "# c=(41.892508,-87.626215)\n",
    "\n",
    "# def pickup_location(src):\n",
    "#     coords_1= (src[\"pickup_latitude\"])\n",
    "#     coords_2= (src[\"pickup_longitude\"])\n",
    "#     return reverse_geocoder.search([coords_1, coords_2])\n",
    "    \n",
    "# data['pickup'] = data.apply(pickup_location, axis='columns')\n",
    "data.head(4)"
   ]
  },
  {
   "cell_type": "code",
   "execution_count": 20,
   "metadata": {},
   "outputs": [],
   "source": [
    "data['pickup'] = data['pickup_latitude'].apply(lambda x: 1 if x < 41.8781 else 0) & data['pickup_longitude'].apply(lambda x: 1 if x < 88.0118 else 0)\n",
    "data['drop'] = data['dropoff_latitude'].apply(lambda x: 1 if x < 41.8781 else 0) & data['dropoff_longitude'].apply(lambda x: 1 if x < 88.0118 else 0)"
   ]
  },
  {
   "cell_type": "code",
   "execution_count": 30,
   "metadata": {},
   "outputs": [],
   "source": [
    "data=data.drop([\"trip_start_time\"], axis=\"columns\")\n",
    "data=data.drop([\"trip_end_time\"], axis=\"columns\")"
   ]
  },
  {
   "cell_type": "markdown",
   "metadata": {},
   "source": [
    "### Categorizing the obtained cities into 2 i.e; suburbs and downtown and one hot encoding them"
   ]
  },
  {
   "cell_type": "code",
   "execution_count": 21,
   "metadata": {},
   "outputs": [
    {
     "name": "stdout",
     "output_type": "stream",
     "text": [
      "Placing 1 if the ride begun at suburbs and 0 if the ride begun at downtown\n"
     ]
    },
    {
     "data": {
      "text/html": [
       "<div>\n",
       "<style scoped>\n",
       "    .dataframe tbody tr th:only-of-type {\n",
       "        vertical-align: middle;\n",
       "    }\n",
       "\n",
       "    .dataframe tbody tr th {\n",
       "        vertical-align: top;\n",
       "    }\n",
       "\n",
       "    .dataframe thead th {\n",
       "        text-align: right;\n",
       "    }\n",
       "</style>\n",
       "<table border=\"1\" class=\"dataframe\">\n",
       "  <thead>\n",
       "    <tr style=\"text-align: right;\">\n",
       "      <th></th>\n",
       "      <th>trip_seconds</th>\n",
       "      <th>trip_miles</th>\n",
       "      <th>pickup_community_area</th>\n",
       "      <th>dropoff_community_area</th>\n",
       "      <th>fare</th>\n",
       "      <th>pickup_latitude</th>\n",
       "      <th>pickup_longitude</th>\n",
       "      <th>dropoff_latitude</th>\n",
       "      <th>dropoff_longitude</th>\n",
       "      <th>trip_start_time</th>\n",
       "      <th>...</th>\n",
       "      <th>trip_day</th>\n",
       "      <th>trip_start_time_hour</th>\n",
       "      <th>trip_end_time_hour</th>\n",
       "      <th>isPeak</th>\n",
       "      <th>isDayTime</th>\n",
       "      <th>distance</th>\n",
       "      <th>pickup</th>\n",
       "      <th>drop</th>\n",
       "      <th>0</th>\n",
       "      <th>1</th>\n",
       "    </tr>\n",
       "  </thead>\n",
       "  <tbody>\n",
       "    <tr>\n",
       "      <th>0</th>\n",
       "      <td>180.0</td>\n",
       "      <td>0.4</td>\n",
       "      <td>24.0</td>\n",
       "      <td>24.0</td>\n",
       "      <td>4.5</td>\n",
       "      <td>41.901207</td>\n",
       "      <td>-87.676356</td>\n",
       "      <td>41.901207</td>\n",
       "      <td>-87.676356</td>\n",
       "      <td>061500</td>\n",
       "      <td>...</td>\n",
       "      <td>Wednesday</td>\n",
       "      <td>61500</td>\n",
       "      <td>61500</td>\n",
       "      <td>0</td>\n",
       "      <td>1</td>\n",
       "      <td>0.0</td>\n",
       "      <td>0</td>\n",
       "      <td>0</td>\n",
       "      <td>1</td>\n",
       "      <td>0</td>\n",
       "    </tr>\n",
       "    <tr>\n",
       "      <th>3</th>\n",
       "      <td>480.0</td>\n",
       "      <td>1.1</td>\n",
       "      <td>6.0</td>\n",
       "      <td>6.0</td>\n",
       "      <td>7.0</td>\n",
       "      <td>41.944227</td>\n",
       "      <td>-87.655998</td>\n",
       "      <td>41.944227</td>\n",
       "      <td>-87.655998</td>\n",
       "      <td>173000</td>\n",
       "      <td>...</td>\n",
       "      <td>Saturday</td>\n",
       "      <td>173000</td>\n",
       "      <td>173000</td>\n",
       "      <td>1</td>\n",
       "      <td>1</td>\n",
       "      <td>0.0</td>\n",
       "      <td>0</td>\n",
       "      <td>0</td>\n",
       "      <td>1</td>\n",
       "      <td>0</td>\n",
       "    </tr>\n",
       "  </tbody>\n",
       "</table>\n",
       "<p>2 rows × 21 columns</p>\n",
       "</div>"
      ],
      "text/plain": [
       "   trip_seconds  trip_miles  pickup_community_area  dropoff_community_area  \\\n",
       "0         180.0         0.4                   24.0                    24.0   \n",
       "3         480.0         1.1                    6.0                     6.0   \n",
       "\n",
       "   fare  pickup_latitude  pickup_longitude  dropoff_latitude  \\\n",
       "0   4.5        41.901207        -87.676356         41.901207   \n",
       "3   7.0        41.944227        -87.655998         41.944227   \n",
       "\n",
       "   dropoff_longitude trip_start_time  ...   trip_day trip_start_time_hour  \\\n",
       "0         -87.676356          061500  ...  Wednesday                61500   \n",
       "3         -87.655998          173000  ...   Saturday               173000   \n",
       "\n",
       "   trip_end_time_hour  isPeak  isDayTime  distance  pickup  drop  0  1  \n",
       "0               61500       0          1       0.0       0     0  1  0  \n",
       "3              173000       1          1       0.0       0     0  1  0  \n",
       "\n",
       "[2 rows x 21 columns]"
      ]
     },
     "execution_count": 21,
     "metadata": {},
     "output_type": "execute_result"
    }
   ],
   "source": [
    "print('''Placing 1 if the ride begun at suburbs and 0 if the ride begun at downtown''')\n",
    "citydummies = pd.get_dummies(data['pickup'])\n",
    "data = pd.concat([data, citydummies], axis='columns')\n",
    "data.head(2)"
   ]
  },
  {
   "cell_type": "code",
   "execution_count": 22,
   "metadata": {},
   "outputs": [
    {
     "name": "stdout",
     "output_type": "stream",
     "text": [
      "Renaming the columns as Downtown and Suburb\n"
     ]
    }
   ],
   "source": [
    "print('''Renaming the columns as Downtown and Suburb''')\n",
    "data=data.rename(columns= {0:'Downtown', 1:'Suburb'})\n",
    "data=data.drop([\"pickup\",\"drop\",\"pickup_latitude\",\"pickup_longitude\",\"dropoff_latitude\",\"dropoff_longitude\" ], axis='columns')"
   ]
  },
  {
   "cell_type": "code",
   "execution_count": 23,
   "metadata": {},
   "outputs": [
    {
     "data": {
      "text/html": [
       "<div>\n",
       "<style scoped>\n",
       "    .dataframe tbody tr th:only-of-type {\n",
       "        vertical-align: middle;\n",
       "    }\n",
       "\n",
       "    .dataframe tbody tr th {\n",
       "        vertical-align: top;\n",
       "    }\n",
       "\n",
       "    .dataframe thead th {\n",
       "        text-align: right;\n",
       "    }\n",
       "</style>\n",
       "<table border=\"1\" class=\"dataframe\">\n",
       "  <thead>\n",
       "    <tr style=\"text-align: right;\">\n",
       "      <th></th>\n",
       "      <th>trip_seconds</th>\n",
       "      <th>trip_miles</th>\n",
       "      <th>pickup_community_area</th>\n",
       "      <th>dropoff_community_area</th>\n",
       "      <th>fare</th>\n",
       "      <th>trip_start_time</th>\n",
       "      <th>trip_end_time</th>\n",
       "      <th>trip_day</th>\n",
       "      <th>trip_start_time_hour</th>\n",
       "      <th>trip_end_time_hour</th>\n",
       "      <th>isPeak</th>\n",
       "      <th>isDayTime</th>\n",
       "      <th>distance</th>\n",
       "      <th>Downtown</th>\n",
       "      <th>Suburb</th>\n",
       "    </tr>\n",
       "  </thead>\n",
       "  <tbody>\n",
       "    <tr>\n",
       "      <th>0</th>\n",
       "      <td>180.0</td>\n",
       "      <td>0.4</td>\n",
       "      <td>24.0</td>\n",
       "      <td>24.0</td>\n",
       "      <td>4.5</td>\n",
       "      <td>061500</td>\n",
       "      <td>061500</td>\n",
       "      <td>Wednesday</td>\n",
       "      <td>61500</td>\n",
       "      <td>61500</td>\n",
       "      <td>0</td>\n",
       "      <td>1</td>\n",
       "      <td>0.0</td>\n",
       "      <td>1</td>\n",
       "      <td>0</td>\n",
       "    </tr>\n",
       "    <tr>\n",
       "      <th>3</th>\n",
       "      <td>480.0</td>\n",
       "      <td>1.1</td>\n",
       "      <td>6.0</td>\n",
       "      <td>6.0</td>\n",
       "      <td>7.0</td>\n",
       "      <td>173000</td>\n",
       "      <td>173000</td>\n",
       "      <td>Saturday</td>\n",
       "      <td>173000</td>\n",
       "      <td>173000</td>\n",
       "      <td>1</td>\n",
       "      <td>1</td>\n",
       "      <td>0.0</td>\n",
       "      <td>1</td>\n",
       "      <td>0</td>\n",
       "    </tr>\n",
       "  </tbody>\n",
       "</table>\n",
       "</div>"
      ],
      "text/plain": [
       "   trip_seconds  trip_miles  pickup_community_area  dropoff_community_area  \\\n",
       "0         180.0         0.4                   24.0                    24.0   \n",
       "3         480.0         1.1                    6.0                     6.0   \n",
       "\n",
       "   fare trip_start_time trip_end_time   trip_day  trip_start_time_hour  \\\n",
       "0   4.5          061500        061500  Wednesday                 61500   \n",
       "3   7.0          173000        173000   Saturday                173000   \n",
       "\n",
       "   trip_end_time_hour  isPeak  isDayTime  distance  Downtown  Suburb  \n",
       "0               61500       0          1       0.0         1       0  \n",
       "3              173000       1          1       0.0         1       0  "
      ]
     },
     "execution_count": 23,
     "metadata": {},
     "output_type": "execute_result"
    }
   ],
   "source": [
    "data.head(2)"
   ]
  },
  {
   "cell_type": "markdown",
   "metadata": {},
   "source": [
    "### Removing the outliers which are above 300 dollors and above"
   ]
  },
  {
   "cell_type": "code",
   "execution_count": 27,
   "metadata": {},
   "outputs": [
    {
     "name": "stdout",
     "output_type": "stream",
     "text": [
      "Before removing outliers\n"
     ]
    },
    {
     "data": {
      "text/plain": [
       "<AxesSubplot:xlabel='fare'>"
      ]
     },
     "execution_count": 27,
     "metadata": {},
     "output_type": "execute_result"
    },
    {
     "data": {
      "image/png": "[encoded data removed]",
      "text/plain": [
       "<Figure size 432x288 with 1 Axes>"
      ]
     },
     "metadata": {
      "needs_background": "light"
     },
     "output_type": "display_data"
    }
   ],
   "source": [
    "print('''Before removing outliers''')\n",
    "sns.boxplot(x=data['fare'])"
   ]
  },
  {
   "cell_type": "code",
   "execution_count": 28,
   "metadata": {},
   "outputs": [],
   "source": [
    "data[\"farecheck\"]=data[\"fare\"].apply(lambda x : 1 if x > 300 else 0)\n",
    "filter= data[\"fare\"] < 300\n",
    "data.where(filter,inplace=True)"
   ]
  },
  {
   "cell_type": "code",
   "execution_count": 29,
   "metadata": {},
   "outputs": [
    {
     "name": "stdout",
     "output_type": "stream",
     "text": [
      "After removing outliers\n"
     ]
    },
    {
     "data": {
      "text/plain": [
       "<AxesSubplot:xlabel='fare'>"
      ]
     },
     "execution_count": 29,
     "metadata": {},
     "output_type": "execute_result"
    },
    {
     "data": {
      "image/png": "[encoded data removed]",
      "text/plain": [
       "<Figure size 432x288 with 1 Axes>"
      ]
     },
     "metadata": {
      "needs_background": "light"
     },
     "output_type": "display_data"
    }
   ],
   "source": [
    "print('''After removing outliers''')\n",
    "sns.boxplot(x=data['fare'])"
   ]
  },
  {
   "cell_type": "code",
   "execution_count": 34,
   "metadata": {},
   "outputs": [
    {
     "name": "stderr",
     "output_type": "stream",
     "text": [
      "C:\\Users\\Prithvi dayanand\\anaconda3\\lib\\site-packages\\seaborn\\distributions.py:2551: FutureWarning: `distplot` is a deprecated function and will be removed in a future version. Please adapt your code to use either `displot` (a figure-level function with similar flexibility) or `histplot` (an axes-level function for histograms).\n",
      "  warnings.warn(msg, FutureWarning)\n"
     ]
    },
    {
     "data": {
      "text/plain": [
       "<AxesSubplot:xlabel='distance', ylabel='Density'>"
      ]
     },
     "execution_count": 34,
     "metadata": {},
     "output_type": "execute_result"
    },
    {
     "data": {
      "image/png": "[encoded data removed]",
      "text/plain": [
       "<Figure size 432x288 with 1 Axes>"
      ]
     },
     "metadata": {
      "needs_background": "light"
     },
     "output_type": "display_data"
    }
   ],
   "source": [
    "sns.distplot(data[\"distance\"])"
   ]
  },
  {
   "cell_type": "code",
   "execution_count": 35,
   "metadata": {},
   "outputs": [
    {
     "name": "stderr",
     "output_type": "stream",
     "text": [
      "C:\\Users\\Prithvi dayanand\\anaconda3\\lib\\site-packages\\seaborn\\distributions.py:2551: FutureWarning: `distplot` is a deprecated function and will be removed in a future version. Please adapt your code to use either `displot` (a figure-level function with similar flexibility) or `histplot` (an axes-level function for histograms).\n",
      "  warnings.warn(msg, FutureWarning)\n"
     ]
    },
    {
     "data": {
      "text/plain": [
       "<AxesSubplot:xlabel='distance', ylabel='Density'>"
      ]
     },
     "execution_count": 35,
     "metadata": {},
     "output_type": "execute_result"
    },
    {
     "data": {
      "image/png": "[encoded data removed]",
      "text/plain": [
       "<Figure size 432x288 with 1 Axes>"
      ]
     },
     "metadata": {
      "needs_background": "light"
     },
     "output_type": "display_data"
    }
   ],
   "source": [
    "data = data[data.distance != 0]\n",
    "data = data[data.distance <= 35000]\n",
    "sns.distplot(data[\"distance\"])"
   ]
  },
  {
   "cell_type": "code",
   "execution_count": 39,
   "metadata": {},
   "outputs": [
    {
     "data": {
      "text/plain": [
       "Index(['trip_seconds', 'trip_miles', 'pickup_community_area',\n",
       "       'dropoff_community_area', 'fare', 'trip_start_time_hour',\n",
       "       'trip_end_time_hour', 'isPeak', 'isDayTime', 'distance', 'Downtown',\n",
       "       'Suburb', 'farecheck', 'Friday', 'Monday', 'Saturday', 'Sunday',\n",
       "       'Thursday', 'Tuesday', 'Wednesday'],\n",
       "      dtype='object')"
      ]
     },
     "execution_count": 39,
     "metadata": {},
     "output_type": "execute_result"
    }
   ],
   "source": [
    "sns.countplot(data[\"trip_day\"])\n"
   ]
  },
  {
   "cell_type": "markdown",
   "metadata": {},
   "source": [
    "### One hot encoding"
   ]
  },
  {
   "cell_type": "code",
   "execution_count": 44,
   "metadata": {},
   "outputs": [],
   "source": [
    "weekday_dummies=pd.get_dummies(data[\"trip_day\"])\n",
    "data=pd.concat([data, weekday_dummies], axis='columns')\n",
    "data=data.drop([\"trip_day\"], axis=\"columns\")"
   ]
  },
  {
   "cell_type": "code",
   "execution_count": 71,
   "metadata": {},
   "outputs": [
    {
     "data": {
      "text/html": [
       "<div>\n",
       "<style scoped>\n",
       "    .dataframe tbody tr th:only-of-type {\n",
       "        vertical-align: middle;\n",
       "    }\n",
       "\n",
       "    .dataframe tbody tr th {\n",
       "        vertical-align: top;\n",
       "    }\n",
       "\n",
       "    .dataframe thead th {\n",
       "        text-align: right;\n",
       "    }\n",
       "</style>\n",
       "<table border=\"1\" class=\"dataframe\">\n",
       "  <thead>\n",
       "    <tr style=\"text-align: right;\">\n",
       "      <th></th>\n",
       "      <th>trip_seconds</th>\n",
       "      <th>trip_miles</th>\n",
       "      <th>pickup_community_area</th>\n",
       "      <th>dropoff_community_area</th>\n",
       "      <th>fare</th>\n",
       "      <th>trip_start_time_hour</th>\n",
       "      <th>trip_end_time_hour</th>\n",
       "      <th>isPeak</th>\n",
       "      <th>isDayTime</th>\n",
       "      <th>distance</th>\n",
       "      <th>Downtown</th>\n",
       "      <th>Suburb</th>\n",
       "      <th>farecheck</th>\n",
       "      <th>Friday</th>\n",
       "      <th>Monday</th>\n",
       "      <th>Saturday</th>\n",
       "      <th>Sunday</th>\n",
       "      <th>Thursday</th>\n",
       "      <th>Tuesday</th>\n",
       "      <th>Wednesday</th>\n",
       "    </tr>\n",
       "  </thead>\n",
       "  <tbody>\n",
       "    <tr>\n",
       "      <th>5</th>\n",
       "      <td>1080.0</td>\n",
       "      <td>6.2</td>\n",
       "      <td>8.0</td>\n",
       "      <td>3.0</td>\n",
       "      <td>17.75</td>\n",
       "      <td>181500.0</td>\n",
       "      <td>184500.0</td>\n",
       "      <td>1.0</td>\n",
       "      <td>1.0</td>\n",
       "      <td>7588.575486</td>\n",
       "      <td>1.0</td>\n",
       "      <td>0.0</td>\n",
       "      <td>0.0</td>\n",
       "      <td>1</td>\n",
       "      <td>0</td>\n",
       "      <td>0</td>\n",
       "      <td>0</td>\n",
       "      <td>0</td>\n",
       "      <td>0</td>\n",
       "      <td>0</td>\n",
       "    </tr>\n",
       "    <tr>\n",
       "      <th>8</th>\n",
       "      <td>180.0</td>\n",
       "      <td>0.0</td>\n",
       "      <td>8.0</td>\n",
       "      <td>32.0</td>\n",
       "      <td>5.00</td>\n",
       "      <td>113000.0</td>\n",
       "      <td>114500.0</td>\n",
       "      <td>0.0</td>\n",
       "      <td>1.0</td>\n",
       "      <td>941.060331</td>\n",
       "      <td>1.0</td>\n",
       "      <td>0.0</td>\n",
       "      <td>0.0</td>\n",
       "      <td>1</td>\n",
       "      <td>0</td>\n",
       "      <td>0</td>\n",
       "      <td>0</td>\n",
       "      <td>0</td>\n",
       "      <td>0</td>\n",
       "      <td>0</td>\n",
       "    </tr>\n",
       "  </tbody>\n",
       "</table>\n",
       "</div>"
      ],
      "text/plain": [
       "   trip_seconds  trip_miles  pickup_community_area  dropoff_community_area  \\\n",
       "5        1080.0         6.2                    8.0                     3.0   \n",
       "8         180.0         0.0                    8.0                    32.0   \n",
       "\n",
       "    fare  trip_start_time_hour  trip_end_time_hour  isPeak  isDayTime  \\\n",
       "5  17.75              181500.0            184500.0     1.0        1.0   \n",
       "8   5.00              113000.0            114500.0     0.0        1.0   \n",
       "\n",
       "      distance  Downtown  Suburb  farecheck  Friday  Monday  Saturday  Sunday  \\\n",
       "5  7588.575486       1.0     0.0        0.0       1       0         0       0   \n",
       "8   941.060331       1.0     0.0        0.0       1       0         0       0   \n",
       "\n",
       "   Thursday  Tuesday  Wednesday  \n",
       "5         0        0          0  \n",
       "8         0        0          0  "
      ]
     },
     "execution_count": 71,
     "metadata": {},
     "output_type": "execute_result"
    }
   ],
   "source": [
    "data.head(2)"
   ]
  },
  {
   "cell_type": "code",
   "execution_count": 70,
   "metadata": {},
   "outputs": [
    {
     "name": "stdout",
     "output_type": "stream",
     "text": [
      "Correlation matrix\n"
     ]
    },
    {
     "name": "stderr",
     "output_type": "stream",
     "text": [
      "C:\\Users\\Prithvi dayanand\\anaconda3\\lib\\site-packages\\pandas\\io\\formats\\style.py:1126: RuntimeWarning: All-NaN slice encountered\n",
      "  smin = np.nanmin(s.to_numpy()) if vmin is None else vmin\n",
      "C:\\Users\\Prithvi dayanand\\anaconda3\\lib\\site-packages\\pandas\\io\\formats\\style.py:1127: RuntimeWarning: All-NaN slice encountered\n",
      "  smax = np.nanmax(s.to_numpy()) if vmax is None else vmax\n"
     ]
    },
    {
     "data": {
      "text/html": [
       "<style  type=\"text/css\" >\n",
       "#T_8df09ac9_aaa7_11eb_ac93_c8e2651f549arow0_col0,#T_8df09ac9_aaa7_11eb_ac93_c8e2651f549arow1_col1,#T_8df09ac9_aaa7_11eb_ac93_c8e2651f549arow2_col2,#T_8df09ac9_aaa7_11eb_ac93_c8e2651f549arow3_col3,#T_8df09ac9_aaa7_11eb_ac93_c8e2651f549arow4_col4,#T_8df09ac9_aaa7_11eb_ac93_c8e2651f549arow5_col5,#T_8df09ac9_aaa7_11eb_ac93_c8e2651f549arow6_col6,#T_8df09ac9_aaa7_11eb_ac93_c8e2651f549arow7_col7,#T_8df09ac9_aaa7_11eb_ac93_c8e2651f549arow8_col8,#T_8df09ac9_aaa7_11eb_ac93_c8e2651f549arow9_col9,#T_8df09ac9_aaa7_11eb_ac93_c8e2651f549arow10_col10,#T_8df09ac9_aaa7_11eb_ac93_c8e2651f549arow11_col11,#T_8df09ac9_aaa7_11eb_ac93_c8e2651f549arow13_col13,#T_8df09ac9_aaa7_11eb_ac93_c8e2651f549arow14_col14,#T_8df09ac9_aaa7_11eb_ac93_c8e2651f549arow15_col15,#T_8df09ac9_aaa7_11eb_ac93_c8e2651f549arow16_col16,#T_8df09ac9_aaa7_11eb_ac93_c8e2651f549arow17_col17,#T_8df09ac9_aaa7_11eb_ac93_c8e2651f549arow18_col18,#T_8df09ac9_aaa7_11eb_ac93_c8e2651f549arow19_col19{\n",
       "            background-color:  #b40426;\n",
       "            color:  #f1f1f1;\n",
       "        }#T_8df09ac9_aaa7_11eb_ac93_c8e2651f549arow0_col1,#T_8df09ac9_aaa7_11eb_ac93_c8e2651f549arow4_col13,#T_8df09ac9_aaa7_11eb_ac93_c8e2651f549arow6_col15,#T_8df09ac9_aaa7_11eb_ac93_c8e2651f549arow7_col0,#T_8df09ac9_aaa7_11eb_ac93_c8e2651f549arow9_col13,#T_8df09ac9_aaa7_11eb_ac93_c8e2651f549arow11_col0,#T_8df09ac9_aaa7_11eb_ac93_c8e2651f549arow15_col5,#T_8df09ac9_aaa7_11eb_ac93_c8e2651f549arow16_col2{\n",
       "            background-color:  #6b8df0;\n",
       "            color:  #000000;\n",
       "        }#T_8df09ac9_aaa7_11eb_ac93_c8e2651f549arow0_col2,#T_8df09ac9_aaa7_11eb_ac93_c8e2651f549arow9_col10{\n",
       "            background-color:  #cedaeb;\n",
       "            color:  #000000;\n",
       "        }#T_8df09ac9_aaa7_11eb_ac93_c8e2651f549arow0_col3,#T_8df09ac9_aaa7_11eb_ac93_c8e2651f549arow3_col0{\n",
       "            background-color:  #8db0fe;\n",
       "            color:  #000000;\n",
       "        }#T_8df09ac9_aaa7_11eb_ac93_c8e2651f549arow0_col4{\n",
       "            background-color:  #f7a889;\n",
       "            color:  #000000;\n",
       "        }#T_8df09ac9_aaa7_11eb_ac93_c8e2651f549arow0_col5,#T_8df09ac9_aaa7_11eb_ac93_c8e2651f549arow3_col19{\n",
       "            background-color:  #799cf8;\n",
       "            color:  #000000;\n",
       "        }#T_8df09ac9_aaa7_11eb_ac93_c8e2651f549arow0_col6,#T_8df09ac9_aaa7_11eb_ac93_c8e2651f549arow2_col14,#T_8df09ac9_aaa7_11eb_ac93_c8e2651f549arow3_col17,#T_8df09ac9_aaa7_11eb_ac93_c8e2651f549arow6_col7{\n",
       "            background-color:  #7a9df8;\n",
       "            color:  #000000;\n",
       "        }#T_8df09ac9_aaa7_11eb_ac93_c8e2651f549arow0_col7,#T_8df09ac9_aaa7_11eb_ac93_c8e2651f549arow1_col5,#T_8df09ac9_aaa7_11eb_ac93_c8e2651f549arow1_col16,#T_8df09ac9_aaa7_11eb_ac93_c8e2651f549arow1_col17,#T_8df09ac9_aaa7_11eb_ac93_c8e2651f549arow3_col13,#T_8df09ac9_aaa7_11eb_ac93_c8e2651f549arow7_col13,#T_8df09ac9_aaa7_11eb_ac93_c8e2651f549arow11_col17{\n",
       "            background-color:  #7093f3;\n",
       "            color:  #000000;\n",
       "        }#T_8df09ac9_aaa7_11eb_ac93_c8e2651f549arow0_col8,#T_8df09ac9_aaa7_11eb_ac93_c8e2651f549arow0_col16,#T_8df09ac9_aaa7_11eb_ac93_c8e2651f549arow11_col8,#T_8df09ac9_aaa7_11eb_ac93_c8e2651f549arow18_col7{\n",
       "            background-color:  #6a8bef;\n",
       "            color:  #000000;\n",
       "        }#T_8df09ac9_aaa7_11eb_ac93_c8e2651f549arow0_col9{\n",
       "            background-color:  #f5c2aa;\n",
       "            color:  #000000;\n",
       "        }#T_8df09ac9_aaa7_11eb_ac93_c8e2651f549arow0_col10,#T_8df09ac9_aaa7_11eb_ac93_c8e2651f549arow3_col10{\n",
       "            background-color:  #d2dbe8;\n",
       "            color:  #000000;\n",
       "        }#T_8df09ac9_aaa7_11eb_ac93_c8e2651f549arow0_col11,#T_8df09ac9_aaa7_11eb_ac93_c8e2651f549arow3_col11{\n",
       "            background-color:  #e7d7ce;\n",
       "            color:  #000000;\n",
       "        }#T_8df09ac9_aaa7_11eb_ac93_c8e2651f549arow0_col12,#T_8df09ac9_aaa7_11eb_ac93_c8e2651f549arow1_col12,#T_8df09ac9_aaa7_11eb_ac93_c8e2651f549arow2_col12,#T_8df09ac9_aaa7_11eb_ac93_c8e2651f549arow3_col12,#T_8df09ac9_aaa7_11eb_ac93_c8e2651f549arow4_col12,#T_8df09ac9_aaa7_11eb_ac93_c8e2651f549arow5_col12,#T_8df09ac9_aaa7_11eb_ac93_c8e2651f549arow6_col12,#T_8df09ac9_aaa7_11eb_ac93_c8e2651f549arow7_col12,#T_8df09ac9_aaa7_11eb_ac93_c8e2651f549arow8_col12,#T_8df09ac9_aaa7_11eb_ac93_c8e2651f549arow9_col12,#T_8df09ac9_aaa7_11eb_ac93_c8e2651f549arow10_col12,#T_8df09ac9_aaa7_11eb_ac93_c8e2651f549arow11_col12,#T_8df09ac9_aaa7_11eb_ac93_c8e2651f549arow12_col0,#T_8df09ac9_aaa7_11eb_ac93_c8e2651f549arow12_col1,#T_8df09ac9_aaa7_11eb_ac93_c8e2651f549arow12_col2,#T_8df09ac9_aaa7_11eb_ac93_c8e2651f549arow12_col3,#T_8df09ac9_aaa7_11eb_ac93_c8e2651f549arow12_col4,#T_8df09ac9_aaa7_11eb_ac93_c8e2651f549arow12_col5,#T_8df09ac9_aaa7_11eb_ac93_c8e2651f549arow12_col6,#T_8df09ac9_aaa7_11eb_ac93_c8e2651f549arow12_col7,#T_8df09ac9_aaa7_11eb_ac93_c8e2651f549arow12_col8,#T_8df09ac9_aaa7_11eb_ac93_c8e2651f549arow12_col9,#T_8df09ac9_aaa7_11eb_ac93_c8e2651f549arow12_col10,#T_8df09ac9_aaa7_11eb_ac93_c8e2651f549arow12_col11,#T_8df09ac9_aaa7_11eb_ac93_c8e2651f549arow12_col12,#T_8df09ac9_aaa7_11eb_ac93_c8e2651f549arow12_col13,#T_8df09ac9_aaa7_11eb_ac93_c8e2651f549arow12_col14,#T_8df09ac9_aaa7_11eb_ac93_c8e2651f549arow12_col15,#T_8df09ac9_aaa7_11eb_ac93_c8e2651f549arow12_col16,#T_8df09ac9_aaa7_11eb_ac93_c8e2651f549arow12_col17,#T_8df09ac9_aaa7_11eb_ac93_c8e2651f549arow12_col18,#T_8df09ac9_aaa7_11eb_ac93_c8e2651f549arow12_col19,#T_8df09ac9_aaa7_11eb_ac93_c8e2651f549arow13_col12,#T_8df09ac9_aaa7_11eb_ac93_c8e2651f549arow14_col12,#T_8df09ac9_aaa7_11eb_ac93_c8e2651f549arow15_col12,#T_8df09ac9_aaa7_11eb_ac93_c8e2651f549arow16_col12,#T_8df09ac9_aaa7_11eb_ac93_c8e2651f549arow17_col12,#T_8df09ac9_aaa7_11eb_ac93_c8e2651f549arow18_col12,#T_8df09ac9_aaa7_11eb_ac93_c8e2651f549arow19_col12{\n",
       "            background-color:  #000000;\n",
       "            color:  #f1f1f1;\n",
       "        }#T_8df09ac9_aaa7_11eb_ac93_c8e2651f549arow0_col13,#T_8df09ac9_aaa7_11eb_ac93_c8e2651f549arow2_col8,#T_8df09ac9_aaa7_11eb_ac93_c8e2651f549arow9_col5,#T_8df09ac9_aaa7_11eb_ac93_c8e2651f549arow9_col17,#T_8df09ac9_aaa7_11eb_ac93_c8e2651f549arow13_col6,#T_8df09ac9_aaa7_11eb_ac93_c8e2651f549arow14_col5,#T_8df09ac9_aaa7_11eb_ac93_c8e2651f549arow14_col6{\n",
       "            background-color:  #7396f5;\n",
       "            color:  #000000;\n",
       "        }#T_8df09ac9_aaa7_11eb_ac93_c8e2651f549arow0_col14,#T_8df09ac9_aaa7_11eb_ac93_c8e2651f549arow0_col18,#T_8df09ac9_aaa7_11eb_ac93_c8e2651f549arow1_col15,#T_8df09ac9_aaa7_11eb_ac93_c8e2651f549arow1_col19,#T_8df09ac9_aaa7_11eb_ac93_c8e2651f549arow4_col19,#T_8df09ac9_aaa7_11eb_ac93_c8e2651f549arow10_col17,#T_8df09ac9_aaa7_11eb_ac93_c8e2651f549arow10_col19,#T_8df09ac9_aaa7_11eb_ac93_c8e2651f549arow11_col13,#T_8df09ac9_aaa7_11eb_ac93_c8e2651f549arow11_col15,#T_8df09ac9_aaa7_11eb_ac93_c8e2651f549arow11_col19{\n",
       "            background-color:  #6f92f3;\n",
       "            color:  #000000;\n",
       "        }#T_8df09ac9_aaa7_11eb_ac93_c8e2651f549arow0_col15,#T_8df09ac9_aaa7_11eb_ac93_c8e2651f549arow1_col3,#T_8df09ac9_aaa7_11eb_ac93_c8e2651f549arow17_col7{\n",
       "            background-color:  #6687ed;\n",
       "            color:  #000000;\n",
       "        }#T_8df09ac9_aaa7_11eb_ac93_c8e2651f549arow0_col17,#T_8df09ac9_aaa7_11eb_ac93_c8e2651f549arow4_col6,#T_8df09ac9_aaa7_11eb_ac93_c8e2651f549arow5_col13,#T_8df09ac9_aaa7_11eb_ac93_c8e2651f549arow7_col14,#T_8df09ac9_aaa7_11eb_ac93_c8e2651f549arow9_col16,#T_8df09ac9_aaa7_11eb_ac93_c8e2651f549arow11_col5,#T_8df09ac9_aaa7_11eb_ac93_c8e2651f549arow11_col6{\n",
       "            background-color:  #779af7;\n",
       "            color:  #000000;\n",
       "        }#T_8df09ac9_aaa7_11eb_ac93_c8e2651f549arow0_col19,#T_8df09ac9_aaa7_11eb_ac93_c8e2651f549arow1_col6,#T_8df09ac9_aaa7_11eb_ac93_c8e2651f549arow1_col13,#T_8df09ac9_aaa7_11eb_ac93_c8e2651f549arow11_col16,#T_8df09ac9_aaa7_11eb_ac93_c8e2651f549arow14_col8,#T_8df09ac9_aaa7_11eb_ac93_c8e2651f549arow19_col8{\n",
       "            background-color:  #7295f4;\n",
       "            color:  #000000;\n",
       "        }#T_8df09ac9_aaa7_11eb_ac93_c8e2651f549arow1_col0,#T_8df09ac9_aaa7_11eb_ac93_c8e2651f549arow2_col17,#T_8df09ac9_aaa7_11eb_ac93_c8e2651f549arow6_col18,#T_8df09ac9_aaa7_11eb_ac93_c8e2651f549arow7_col17{\n",
       "            background-color:  #7da0f9;\n",
       "            color:  #000000;\n",
       "        }#T_8df09ac9_aaa7_11eb_ac93_c8e2651f549arow1_col2{\n",
       "            background-color:  #9bbcff;\n",
       "            color:  #000000;\n",
       "        }#T_8df09ac9_aaa7_11eb_ac93_c8e2651f549arow1_col4,#T_8df09ac9_aaa7_11eb_ac93_c8e2651f549arow6_col2{\n",
       "            background-color:  #9ebeff;\n",
       "            color:  #000000;\n",
       "        }#T_8df09ac9_aaa7_11eb_ac93_c8e2651f549arow1_col7,#T_8df09ac9_aaa7_11eb_ac93_c8e2651f549arow7_col4,#T_8df09ac9_aaa7_11eb_ac93_c8e2651f549arow14_col0,#T_8df09ac9_aaa7_11eb_ac93_c8e2651f549arow18_col9{\n",
       "            background-color:  #5875e1;\n",
       "            color:  #000000;\n",
       "        }#T_8df09ac9_aaa7_11eb_ac93_c8e2651f549arow1_col8,#T_8df09ac9_aaa7_11eb_ac93_c8e2651f549arow3_col5,#T_8df09ac9_aaa7_11eb_ac93_c8e2651f549arow15_col2{\n",
       "            background-color:  #5f7fe8;\n",
       "            color:  #000000;\n",
       "        }#T_8df09ac9_aaa7_11eb_ac93_c8e2651f549arow1_col9{\n",
       "            background-color:  #98b9ff;\n",
       "            color:  #000000;\n",
       "        }#T_8df09ac9_aaa7_11eb_ac93_c8e2651f549arow1_col10{\n",
       "            background-color:  #dadce0;\n",
       "            color:  #000000;\n",
       "        }#T_8df09ac9_aaa7_11eb_ac93_c8e2651f549arow1_col11{\n",
       "            background-color:  #dfdbd9;\n",
       "            color:  #000000;\n",
       "        }#T_8df09ac9_aaa7_11eb_ac93_c8e2651f549arow1_col14,#T_8df09ac9_aaa7_11eb_ac93_c8e2651f549arow1_col18,#T_8df09ac9_aaa7_11eb_ac93_c8e2651f549arow2_col13,#T_8df09ac9_aaa7_11eb_ac93_c8e2651f549arow10_col18,#T_8df09ac9_aaa7_11eb_ac93_c8e2651f549arow11_col3,#T_8df09ac9_aaa7_11eb_ac93_c8e2651f549arow11_col14{\n",
       "            background-color:  #6c8ff1;\n",
       "            color:  #000000;\n",
       "        }#T_8df09ac9_aaa7_11eb_ac93_c8e2651f549arow2_col0{\n",
       "            background-color:  #b5cdfa;\n",
       "            color:  #000000;\n",
       "        }#T_8df09ac9_aaa7_11eb_ac93_c8e2651f549arow2_col1,#T_8df09ac9_aaa7_11eb_ac93_c8e2651f549arow3_col16,#T_8df09ac9_aaa7_11eb_ac93_c8e2651f549arow6_col4,#T_8df09ac9_aaa7_11eb_ac93_c8e2651f549arow14_col9{\n",
       "            background-color:  #6384eb;\n",
       "            color:  #000000;\n",
       "        }#T_8df09ac9_aaa7_11eb_ac93_c8e2651f549arow2_col3,#T_8df09ac9_aaa7_11eb_ac93_c8e2651f549arow3_col1,#T_8df09ac9_aaa7_11eb_ac93_c8e2651f549arow13_col0,#T_8df09ac9_aaa7_11eb_ac93_c8e2651f549arow13_col4{\n",
       "            background-color:  #5470de;\n",
       "            color:  #000000;\n",
       "        }#T_8df09ac9_aaa7_11eb_ac93_c8e2651f549arow2_col4,#T_8df09ac9_aaa7_11eb_ac93_c8e2651f549arow4_col11{\n",
       "            background-color:  #ebd3c6;\n",
       "            color:  #000000;\n",
       "        }#T_8df09ac9_aaa7_11eb_ac93_c8e2651f549arow2_col5{\n",
       "            background-color:  #93b5fe;\n",
       "            color:  #000000;\n",
       "        }#T_8df09ac9_aaa7_11eb_ac93_c8e2651f549arow2_col6{\n",
       "            background-color:  #94b6ff;\n",
       "            color:  #000000;\n",
       "        }#T_8df09ac9_aaa7_11eb_ac93_c8e2651f549arow2_col7,#T_8df09ac9_aaa7_11eb_ac93_c8e2651f549arow4_col15,#T_8df09ac9_aaa7_11eb_ac93_c8e2651f549arow9_col15{\n",
       "            background-color:  #6485ec;\n",
       "            color:  #000000;\n",
       "        }#T_8df09ac9_aaa7_11eb_ac93_c8e2651f549arow2_col9{\n",
       "            background-color:  #f0cdbb;\n",
       "            color:  #000000;\n",
       "        }#T_8df09ac9_aaa7_11eb_ac93_c8e2651f549arow2_col10{\n",
       "            background-color:  #b9d0f9;\n",
       "            color:  #000000;\n",
       "        }#T_8df09ac9_aaa7_11eb_ac93_c8e2651f549arow2_col11{\n",
       "            background-color:  #f4c5ad;\n",
       "            color:  #000000;\n",
       "        }#T_8df09ac9_aaa7_11eb_ac93_c8e2651f549arow2_col15,#T_8df09ac9_aaa7_11eb_ac93_c8e2651f549arow8_col6,#T_8df09ac9_aaa7_11eb_ac93_c8e2651f549arow10_col7,#T_8df09ac9_aaa7_11eb_ac93_c8e2651f549arow13_col7,#T_8df09ac9_aaa7_11eb_ac93_c8e2651f549arow19_col9{\n",
       "            background-color:  #5673e0;\n",
       "            color:  #000000;\n",
       "        }#T_8df09ac9_aaa7_11eb_ac93_c8e2651f549arow2_col16,#T_8df09ac9_aaa7_11eb_ac93_c8e2651f549arow5_col4,#T_8df09ac9_aaa7_11eb_ac93_c8e2651f549arow7_col3,#T_8df09ac9_aaa7_11eb_ac93_c8e2651f549arow8_col4,#T_8df09ac9_aaa7_11eb_ac93_c8e2651f549arow17_col4{\n",
       "            background-color:  #6180e9;\n",
       "            color:  #000000;\n",
       "        }#T_8df09ac9_aaa7_11eb_ac93_c8e2651f549arow2_col18,#T_8df09ac9_aaa7_11eb_ac93_c8e2651f549arow2_col19,#T_8df09ac9_aaa7_11eb_ac93_c8e2651f549arow3_col2,#T_8df09ac9_aaa7_11eb_ac93_c8e2651f549arow5_col18{\n",
       "            background-color:  #7b9ff9;\n",
       "            color:  #000000;\n",
       "        }#T_8df09ac9_aaa7_11eb_ac93_c8e2651f549arow3_col4,#T_8df09ac9_aaa7_11eb_ac93_c8e2651f549arow7_col8{\n",
       "            background-color:  #bed2f6;\n",
       "            color:  #000000;\n",
       "        }#T_8df09ac9_aaa7_11eb_ac93_c8e2651f549arow3_col6,#T_8df09ac9_aaa7_11eb_ac93_c8e2651f549arow4_col8,#T_8df09ac9_aaa7_11eb_ac93_c8e2651f549arow9_col8,#T_8df09ac9_aaa7_11eb_ac93_c8e2651f549arow16_col4{\n",
       "            background-color:  #6282ea;\n",
       "            color:  #000000;\n",
       "        }#T_8df09ac9_aaa7_11eb_ac93_c8e2651f549arow3_col7,#T_8df09ac9_aaa7_11eb_ac93_c8e2651f549arow10_col14,#T_8df09ac9_aaa7_11eb_ac93_c8e2651f549arow14_col4,#T_8df09ac9_aaa7_11eb_ac93_c8e2651f549arow14_col7{\n",
       "            background-color:  #6788ee;\n",
       "            color:  #000000;\n",
       "        }#T_8df09ac9_aaa7_11eb_ac93_c8e2651f549arow3_col8{\n",
       "            background-color:  #92b4fe;\n",
       "            color:  #000000;\n",
       "        }#T_8df09ac9_aaa7_11eb_ac93_c8e2651f549arow3_col9,#T_8df09ac9_aaa7_11eb_ac93_c8e2651f549arow11_col2{\n",
       "            background-color:  #bfd3f6;\n",
       "            color:  #000000;\n",
       "        }#T_8df09ac9_aaa7_11eb_ac93_c8e2651f549arow3_col14,#T_8df09ac9_aaa7_11eb_ac93_c8e2651f549arow4_col5,#T_8df09ac9_aaa7_11eb_ac93_c8e2651f549arow4_col17,#T_8df09ac9_aaa7_11eb_ac93_c8e2651f549arow5_col7,#T_8df09ac9_aaa7_11eb_ac93_c8e2651f549arow10_col13,#T_8df09ac9_aaa7_11eb_ac93_c8e2651f549arow10_col15,#T_8df09ac9_aaa7_11eb_ac93_c8e2651f549arow13_col2,#T_8df09ac9_aaa7_11eb_ac93_c8e2651f549arow13_col5,#T_8df09ac9_aaa7_11eb_ac93_c8e2651f549arow18_col8{\n",
       "            background-color:  #7597f6;\n",
       "            color:  #000000;\n",
       "        }#T_8df09ac9_aaa7_11eb_ac93_c8e2651f549arow3_col15,#T_8df09ac9_aaa7_11eb_ac93_c8e2651f549arow8_col9,#T_8df09ac9_aaa7_11eb_ac93_c8e2651f549arow18_col3,#T_8df09ac9_aaa7_11eb_ac93_c8e2651f549arow19_col3,#T_8df09ac9_aaa7_11eb_ac93_c8e2651f549arow19_col4{\n",
       "            background-color:  #5b7ae5;\n",
       "            color:  #000000;\n",
       "        }#T_8df09ac9_aaa7_11eb_ac93_c8e2651f549arow3_col18,#T_8df09ac9_aaa7_11eb_ac93_c8e2651f549arow4_col14,#T_8df09ac9_aaa7_11eb_ac93_c8e2651f549arow4_col16,#T_8df09ac9_aaa7_11eb_ac93_c8e2651f549arow6_col13,#T_8df09ac9_aaa7_11eb_ac93_c8e2651f549arow9_col6,#T_8df09ac9_aaa7_11eb_ac93_c8e2651f549arow9_col14,#T_8df09ac9_aaa7_11eb_ac93_c8e2651f549arow11_col9{\n",
       "            background-color:  #7699f6;\n",
       "            color:  #000000;\n",
       "        }#T_8df09ac9_aaa7_11eb_ac93_c8e2651f549arow4_col0{\n",
       "            background-color:  #f7ac8e;\n",
       "            color:  #000000;\n",
       "        }#T_8df09ac9_aaa7_11eb_ac93_c8e2651f549arow4_col1,#T_8df09ac9_aaa7_11eb_ac93_c8e2651f549arow6_col17,#T_8df09ac9_aaa7_11eb_ac93_c8e2651f549arow7_col2,#T_8df09ac9_aaa7_11eb_ac93_c8e2651f549arow8_col18{\n",
       "            background-color:  #85a8fc;\n",
       "            color:  #000000;\n",
       "        }#T_8df09ac9_aaa7_11eb_ac93_c8e2651f549arow4_col2{\n",
       "            background-color:  #f2cab5;\n",
       "            color:  #000000;\n",
       "        }#T_8df09ac9_aaa7_11eb_ac93_c8e2651f549arow4_col3{\n",
       "            background-color:  #b7cff9;\n",
       "            color:  #000000;\n",
       "        }#T_8df09ac9_aaa7_11eb_ac93_c8e2651f549arow4_col7,#T_8df09ac9_aaa7_11eb_ac93_c8e2651f549arow18_col0,#T_8df09ac9_aaa7_11eb_ac93_c8e2651f549arow19_col0{\n",
       "            background-color:  #5572df;\n",
       "            color:  #000000;\n",
       "        }#T_8df09ac9_aaa7_11eb_ac93_c8e2651f549arow4_col9,#T_8df09ac9_aaa7_11eb_ac93_c8e2651f549arow9_col4{\n",
       "            background-color:  #c53334;\n",
       "            color:  #f1f1f1;\n",
       "        }#T_8df09ac9_aaa7_11eb_ac93_c8e2651f549arow4_col10{\n",
       "            background-color:  #ccd9ed;\n",
       "            color:  #000000;\n",
       "        }#T_8df09ac9_aaa7_11eb_ac93_c8e2651f549arow4_col18,#T_8df09ac9_aaa7_11eb_ac93_c8e2651f549arow5_col14,#T_8df09ac9_aaa7_11eb_ac93_c8e2651f549arow5_col15,#T_8df09ac9_aaa7_11eb_ac93_c8e2651f549arow6_col14,#T_8df09ac9_aaa7_11eb_ac93_c8e2651f549arow8_col13,#T_8df09ac9_aaa7_11eb_ac93_c8e2651f549arow9_col18,#T_8df09ac9_aaa7_11eb_ac93_c8e2651f549arow9_col19,#T_8df09ac9_aaa7_11eb_ac93_c8e2651f549arow10_col16,#T_8df09ac9_aaa7_11eb_ac93_c8e2651f549arow11_col18,#T_8df09ac9_aaa7_11eb_ac93_c8e2651f549arow17_col8{\n",
       "            background-color:  #6e90f2;\n",
       "            color:  #000000;\n",
       "        }#T_8df09ac9_aaa7_11eb_ac93_c8e2651f549arow5_col0,#T_8df09ac9_aaa7_11eb_ac93_c8e2651f549arow5_col9,#T_8df09ac9_aaa7_11eb_ac93_c8e2651f549arow11_col7,#T_8df09ac9_aaa7_11eb_ac93_c8e2651f549arow17_col9{\n",
       "            background-color:  #5a78e4;\n",
       "            color:  #000000;\n",
       "        }#T_8df09ac9_aaa7_11eb_ac93_c8e2651f549arow5_col1,#T_8df09ac9_aaa7_11eb_ac93_c8e2651f549arow5_col3,#T_8df09ac9_aaa7_11eb_ac93_c8e2651f549arow8_col1,#T_8df09ac9_aaa7_11eb_ac93_c8e2651f549arow15_col14,#T_8df09ac9_aaa7_11eb_ac93_c8e2651f549arow15_col18,#T_8df09ac9_aaa7_11eb_ac93_c8e2651f549arow15_col19,#T_8df09ac9_aaa7_11eb_ac93_c8e2651f549arow16_col1,#T_8df09ac9_aaa7_11eb_ac93_c8e2651f549arow17_col1{\n",
       "            background-color:  #4055c8;\n",
       "            color:  #f1f1f1;\n",
       "        }#T_8df09ac9_aaa7_11eb_ac93_c8e2651f549arow5_col2{\n",
       "            background-color:  #9dbdff;\n",
       "            color:  #000000;\n",
       "        }#T_8df09ac9_aaa7_11eb_ac93_c8e2651f549arow5_col6,#T_8df09ac9_aaa7_11eb_ac93_c8e2651f549arow6_col5{\n",
       "            background-color:  #c12b30;\n",
       "            color:  #f1f1f1;\n",
       "        }#T_8df09ac9_aaa7_11eb_ac93_c8e2651f549arow5_col8,#T_8df09ac9_aaa7_11eb_ac93_c8e2651f549arow15_col1,#T_8df09ac9_aaa7_11eb_ac93_c8e2651f549arow16_col8,#T_8df09ac9_aaa7_11eb_ac93_c8e2651f549arow19_col13{\n",
       "            background-color:  #3d50c3;\n",
       "            color:  #f1f1f1;\n",
       "        }#T_8df09ac9_aaa7_11eb_ac93_c8e2651f549arow5_col10,#T_8df09ac9_aaa7_11eb_ac93_c8e2651f549arow6_col10{\n",
       "            background-color:  #d9dce1;\n",
       "            color:  #000000;\n",
       "        }#T_8df09ac9_aaa7_11eb_ac93_c8e2651f549arow5_col11,#T_8df09ac9_aaa7_11eb_ac93_c8e2651f549arow6_col11{\n",
       "            background-color:  #e0dbd8;\n",
       "            color:  #000000;\n",
       "        }#T_8df09ac9_aaa7_11eb_ac93_c8e2651f549arow5_col16,#T_8df09ac9_aaa7_11eb_ac93_c8e2651f549arow6_col16,#T_8df09ac9_aaa7_11eb_ac93_c8e2651f549arow10_col0,#T_8df09ac9_aaa7_11eb_ac93_c8e2651f549arow10_col1,#T_8df09ac9_aaa7_11eb_ac93_c8e2651f549arow10_col2,#T_8df09ac9_aaa7_11eb_ac93_c8e2651f549arow10_col3,#T_8df09ac9_aaa7_11eb_ac93_c8e2651f549arow10_col4,#T_8df09ac9_aaa7_11eb_ac93_c8e2651f549arow10_col9,#T_8df09ac9_aaa7_11eb_ac93_c8e2651f549arow10_col11,#T_8df09ac9_aaa7_11eb_ac93_c8e2651f549arow11_col10,#T_8df09ac9_aaa7_11eb_ac93_c8e2651f549arow13_col14,#T_8df09ac9_aaa7_11eb_ac93_c8e2651f549arow13_col15,#T_8df09ac9_aaa7_11eb_ac93_c8e2651f549arow13_col17,#T_8df09ac9_aaa7_11eb_ac93_c8e2651f549arow13_col18,#T_8df09ac9_aaa7_11eb_ac93_c8e2651f549arow13_col19,#T_8df09ac9_aaa7_11eb_ac93_c8e2651f549arow15_col8,#T_8df09ac9_aaa7_11eb_ac93_c8e2651f549arow15_col13,#T_8df09ac9_aaa7_11eb_ac93_c8e2651f549arow16_col5,#T_8df09ac9_aaa7_11eb_ac93_c8e2651f549arow16_col6,#T_8df09ac9_aaa7_11eb_ac93_c8e2651f549arow16_col7{\n",
       "            background-color:  #3b4cc0;\n",
       "            color:  #f1f1f1;\n",
       "        }#T_8df09ac9_aaa7_11eb_ac93_c8e2651f549arow5_col17,#T_8df09ac9_aaa7_11eb_ac93_c8e2651f549arow8_col19,#T_8df09ac9_aaa7_11eb_ac93_c8e2651f549arow9_col1,#T_8df09ac9_aaa7_11eb_ac93_c8e2651f549arow17_col5,#T_8df09ac9_aaa7_11eb_ac93_c8e2651f549arow17_col6{\n",
       "            background-color:  #84a7fc;\n",
       "            color:  #000000;\n",
       "        }#T_8df09ac9_aaa7_11eb_ac93_c8e2651f549arow5_col19,#T_8df09ac9_aaa7_11eb_ac93_c8e2651f549arow6_col19{\n",
       "            background-color:  #81a4fb;\n",
       "            color:  #000000;\n",
       "        }#T_8df09ac9_aaa7_11eb_ac93_c8e2651f549arow6_col0,#T_8df09ac9_aaa7_11eb_ac93_c8e2651f549arow7_col15,#T_8df09ac9_aaa7_11eb_ac93_c8e2651f549arow14_col3,#T_8df09ac9_aaa7_11eb_ac93_c8e2651f549arow17_col3,#T_8df09ac9_aaa7_11eb_ac93_c8e2651f549arow18_col4{\n",
       "            background-color:  #5d7ce6;\n",
       "            color:  #000000;\n",
       "        }#T_8df09ac9_aaa7_11eb_ac93_c8e2651f549arow6_col1,#T_8df09ac9_aaa7_11eb_ac93_c8e2651f549arow14_col1,#T_8df09ac9_aaa7_11eb_ac93_c8e2651f549arow14_col13,#T_8df09ac9_aaa7_11eb_ac93_c8e2651f549arow15_col17,#T_8df09ac9_aaa7_11eb_ac93_c8e2651f549arow17_col14{\n",
       "            background-color:  #4257c9;\n",
       "            color:  #f1f1f1;\n",
       "        }#T_8df09ac9_aaa7_11eb_ac93_c8e2651f549arow6_col3,#T_8df09ac9_aaa7_11eb_ac93_c8e2651f549arow6_col8,#T_8df09ac9_aaa7_11eb_ac93_c8e2651f549arow15_col16,#T_8df09ac9_aaa7_11eb_ac93_c8e2651f549arow18_col14,#T_8df09ac9_aaa7_11eb_ac93_c8e2651f549arow19_col15,#T_8df09ac9_aaa7_11eb_ac93_c8e2651f549arow19_col17,#T_8df09ac9_aaa7_11eb_ac93_c8e2651f549arow19_col18{\n",
       "            background-color:  #445acc;\n",
       "            color:  #f1f1f1;\n",
       "        }#T_8df09ac9_aaa7_11eb_ac93_c8e2651f549arow6_col9,#T_8df09ac9_aaa7_11eb_ac93_c8e2651f549arow8_col0,#T_8df09ac9_aaa7_11eb_ac93_c8e2651f549arow16_col9{\n",
       "            background-color:  #5e7de7;\n",
       "            color:  #000000;\n",
       "        }#T_8df09ac9_aaa7_11eb_ac93_c8e2651f549arow7_col1,#T_8df09ac9_aaa7_11eb_ac93_c8e2651f549arow13_col16{\n",
       "            background-color:  #3e51c5;\n",
       "            color:  #f1f1f1;\n",
       "        }#T_8df09ac9_aaa7_11eb_ac93_c8e2651f549arow7_col5{\n",
       "            background-color:  #8badfd;\n",
       "            color:  #000000;\n",
       "        }#T_8df09ac9_aaa7_11eb_ac93_c8e2651f549arow7_col6,#T_8df09ac9_aaa7_11eb_ac93_c8e2651f549arow8_col2{\n",
       "            background-color:  #90b2fe;\n",
       "            color:  #000000;\n",
       "        }#T_8df09ac9_aaa7_11eb_ac93_c8e2651f549arow7_col9,#T_8df09ac9_aaa7_11eb_ac93_c8e2651f549arow15_col4{\n",
       "            background-color:  #4e68d8;\n",
       "            color:  #000000;\n",
       "        }#T_8df09ac9_aaa7_11eb_ac93_c8e2651f549arow7_col10,#T_8df09ac9_aaa7_11eb_ac93_c8e2651f549arow16_col10,#T_8df09ac9_aaa7_11eb_ac93_c8e2651f549arow17_col10,#T_8df09ac9_aaa7_11eb_ac93_c8e2651f549arow18_col10,#T_8df09ac9_aaa7_11eb_ac93_c8e2651f549arow19_col10{\n",
       "            background-color:  #dcdddd;\n",
       "            color:  #000000;\n",
       "        }#T_8df09ac9_aaa7_11eb_ac93_c8e2651f549arow7_col11,#T_8df09ac9_aaa7_11eb_ac93_c8e2651f549arow16_col11,#T_8df09ac9_aaa7_11eb_ac93_c8e2651f549arow17_col11,#T_8df09ac9_aaa7_11eb_ac93_c8e2651f549arow18_col11,#T_8df09ac9_aaa7_11eb_ac93_c8e2651f549arow19_col11{\n",
       "            background-color:  #dddcdc;\n",
       "            color:  #000000;\n",
       "        }#T_8df09ac9_aaa7_11eb_ac93_c8e2651f549arow7_col16,#T_8df09ac9_aaa7_11eb_ac93_c8e2651f549arow10_col8{\n",
       "            background-color:  #516ddb;\n",
       "            color:  #000000;\n",
       "        }#T_8df09ac9_aaa7_11eb_ac93_c8e2651f549arow7_col18,#T_8df09ac9_aaa7_11eb_ac93_c8e2651f549arow7_col19,#T_8df09ac9_aaa7_11eb_ac93_c8e2651f549arow8_col14,#T_8df09ac9_aaa7_11eb_ac93_c8e2651f549arow18_col5,#T_8df09ac9_aaa7_11eb_ac93_c8e2651f549arow18_col6{\n",
       "            background-color:  #7ea1fa;\n",
       "            color:  #000000;\n",
       "        }#T_8df09ac9_aaa7_11eb_ac93_c8e2651f549arow8_col3,#T_8df09ac9_aaa7_11eb_ac93_c8e2651f549arow17_col2,#T_8df09ac9_aaa7_11eb_ac93_c8e2651f549arow19_col2{\n",
       "            background-color:  #86a9fc;\n",
       "            color:  #000000;\n",
       "        }#T_8df09ac9_aaa7_11eb_ac93_c8e2651f549arow8_col5,#T_8df09ac9_aaa7_11eb_ac93_c8e2651f549arow9_col7,#T_8df09ac9_aaa7_11eb_ac93_c8e2651f549arow13_col3,#T_8df09ac9_aaa7_11eb_ac93_c8e2651f549arow13_col9{\n",
       "            background-color:  #506bda;\n",
       "            color:  #000000;\n",
       "        }#T_8df09ac9_aaa7_11eb_ac93_c8e2651f549arow8_col7{\n",
       "            background-color:  #bad0f8;\n",
       "            color:  #000000;\n",
       "        }#T_8df09ac9_aaa7_11eb_ac93_c8e2651f549arow8_col10{\n",
       "            background-color:  #d7dce3;\n",
       "            color:  #000000;\n",
       "        }#T_8df09ac9_aaa7_11eb_ac93_c8e2651f549arow8_col11{\n",
       "            background-color:  #e2dad5;\n",
       "            color:  #000000;\n",
       "        }#T_8df09ac9_aaa7_11eb_ac93_c8e2651f549arow8_col15,#T_8df09ac9_aaa7_11eb_ac93_c8e2651f549arow8_col16{\n",
       "            background-color:  #4f69d9;\n",
       "            color:  #000000;\n",
       "        }#T_8df09ac9_aaa7_11eb_ac93_c8e2651f549arow8_col17,#T_8df09ac9_aaa7_11eb_ac93_c8e2651f549arow11_col4{\n",
       "            background-color:  #80a3fa;\n",
       "            color:  #000000;\n",
       "        }#T_8df09ac9_aaa7_11eb_ac93_c8e2651f549arow9_col0{\n",
       "            background-color:  #f5c4ac;\n",
       "            color:  #000000;\n",
       "        }#T_8df09ac9_aaa7_11eb_ac93_c8e2651f549arow9_col2{\n",
       "            background-color:  #f5c1a9;\n",
       "            color:  #000000;\n",
       "        }#T_8df09ac9_aaa7_11eb_ac93_c8e2651f549arow9_col3{\n",
       "            background-color:  #bcd2f7;\n",
       "            color:  #000000;\n",
       "        }#T_8df09ac9_aaa7_11eb_ac93_c8e2651f549arow9_col11{\n",
       "            background-color:  #ead5c9;\n",
       "            color:  #000000;\n",
       "        }#T_8df09ac9_aaa7_11eb_ac93_c8e2651f549arow10_col5,#T_8df09ac9_aaa7_11eb_ac93_c8e2651f549arow10_col6,#T_8df09ac9_aaa7_11eb_ac93_c8e2651f549arow15_col6,#T_8df09ac9_aaa7_11eb_ac93_c8e2651f549arow19_col7{\n",
       "            background-color:  #688aef;\n",
       "            color:  #000000;\n",
       "        }#T_8df09ac9_aaa7_11eb_ac93_c8e2651f549arow11_col1,#T_8df09ac9_aaa7_11eb_ac93_c8e2651f549arow15_col0,#T_8df09ac9_aaa7_11eb_ac93_c8e2651f549arow16_col3,#T_8df09ac9_aaa7_11eb_ac93_c8e2651f549arow16_col14,#T_8df09ac9_aaa7_11eb_ac93_c8e2651f549arow16_col18,#T_8df09ac9_aaa7_11eb_ac93_c8e2651f549arow16_col19,#T_8df09ac9_aaa7_11eb_ac93_c8e2651f549arow18_col15,#T_8df09ac9_aaa7_11eb_ac93_c8e2651f549arow18_col17,#T_8df09ac9_aaa7_11eb_ac93_c8e2651f549arow18_col19{\n",
       "            background-color:  #455cce;\n",
       "            color:  #f1f1f1;\n",
       "        }#T_8df09ac9_aaa7_11eb_ac93_c8e2651f549arow13_col1,#T_8df09ac9_aaa7_11eb_ac93_c8e2651f549arow16_col13,#T_8df09ac9_aaa7_11eb_ac93_c8e2651f549arow18_col1,#T_8df09ac9_aaa7_11eb_ac93_c8e2651f549arow18_col13,#T_8df09ac9_aaa7_11eb_ac93_c8e2651f549arow19_col1{\n",
       "            background-color:  #3f53c6;\n",
       "            color:  #f1f1f1;\n",
       "        }#T_8df09ac9_aaa7_11eb_ac93_c8e2651f549arow13_col8,#T_8df09ac9_aaa7_11eb_ac93_c8e2651f549arow17_col0{\n",
       "            background-color:  #5977e3;\n",
       "            color:  #000000;\n",
       "        }#T_8df09ac9_aaa7_11eb_ac93_c8e2651f549arow13_col10,#T_8df09ac9_aaa7_11eb_ac93_c8e2651f549arow14_col11,#T_8df09ac9_aaa7_11eb_ac93_c8e2651f549arow15_col10{\n",
       "            background-color:  #dedcdb;\n",
       "            color:  #000000;\n",
       "        }#T_8df09ac9_aaa7_11eb_ac93_c8e2651f549arow13_col11,#T_8df09ac9_aaa7_11eb_ac93_c8e2651f549arow14_col10,#T_8df09ac9_aaa7_11eb_ac93_c8e2651f549arow15_col11{\n",
       "            background-color:  #dbdcde;\n",
       "            color:  #000000;\n",
       "        }#T_8df09ac9_aaa7_11eb_ac93_c8e2651f549arow14_col2{\n",
       "            background-color:  #89acfd;\n",
       "            color:  #000000;\n",
       "        }#T_8df09ac9_aaa7_11eb_ac93_c8e2651f549arow14_col15{\n",
       "            background-color:  #4961d2;\n",
       "            color:  #f1f1f1;\n",
       "        }#T_8df09ac9_aaa7_11eb_ac93_c8e2651f549arow14_col16,#T_8df09ac9_aaa7_11eb_ac93_c8e2651f549arow16_col0{\n",
       "            background-color:  #4b64d5;\n",
       "            color:  #f1f1f1;\n",
       "        }#T_8df09ac9_aaa7_11eb_ac93_c8e2651f549arow14_col17,#T_8df09ac9_aaa7_11eb_ac93_c8e2651f549arow14_col18,#T_8df09ac9_aaa7_11eb_ac93_c8e2651f549arow14_col19,#T_8df09ac9_aaa7_11eb_ac93_c8e2651f549arow18_col16{\n",
       "            background-color:  #485fd1;\n",
       "            color:  #f1f1f1;\n",
       "        }#T_8df09ac9_aaa7_11eb_ac93_c8e2651f549arow15_col3,#T_8df09ac9_aaa7_11eb_ac93_c8e2651f549arow17_col13{\n",
       "            background-color:  #3c4ec2;\n",
       "            color:  #f1f1f1;\n",
       "        }#T_8df09ac9_aaa7_11eb_ac93_c8e2651f549arow15_col7,#T_8df09ac9_aaa7_11eb_ac93_c8e2651f549arow17_col15,#T_8df09ac9_aaa7_11eb_ac93_c8e2651f549arow17_col18,#T_8df09ac9_aaa7_11eb_ac93_c8e2651f549arow17_col19,#T_8df09ac9_aaa7_11eb_ac93_c8e2651f549arow19_col14{\n",
       "            background-color:  #4358cb;\n",
       "            color:  #f1f1f1;\n",
       "        }#T_8df09ac9_aaa7_11eb_ac93_c8e2651f549arow15_col9{\n",
       "            background-color:  #4a63d3;\n",
       "            color:  #f1f1f1;\n",
       "        }#T_8df09ac9_aaa7_11eb_ac93_c8e2651f549arow16_col15,#T_8df09ac9_aaa7_11eb_ac93_c8e2651f549arow16_col17,#T_8df09ac9_aaa7_11eb_ac93_c8e2651f549arow17_col16,#T_8df09ac9_aaa7_11eb_ac93_c8e2651f549arow19_col16{\n",
       "            background-color:  #465ecf;\n",
       "            color:  #f1f1f1;\n",
       "        }#T_8df09ac9_aaa7_11eb_ac93_c8e2651f549arow18_col2{\n",
       "            background-color:  #88abfd;\n",
       "            color:  #000000;\n",
       "        }#T_8df09ac9_aaa7_11eb_ac93_c8e2651f549arow19_col5,#T_8df09ac9_aaa7_11eb_ac93_c8e2651f549arow19_col6{\n",
       "            background-color:  #82a6fb;\n",
       "            color:  #000000;\n",
       "        }</style><table id=\"T_8df09ac9_aaa7_11eb_ac93_c8e2651f549a\" ><thead>    <tr>        <th class=\"blank level0\" ></th>        <th class=\"col_heading level0 col0\" >trip_seconds</th>        <th class=\"col_heading level0 col1\" >trip_miles</th>        <th class=\"col_heading level0 col2\" >pickup_community_area</th>        <th class=\"col_heading level0 col3\" >dropoff_community_area</th>        <th class=\"col_heading level0 col4\" >fare</th>        <th class=\"col_heading level0 col5\" >trip_start_time_hour</th>        <th class=\"col_heading level0 col6\" >trip_end_time_hour</th>        <th class=\"col_heading level0 col7\" >isPeak</th>        <th class=\"col_heading level0 col8\" >isDayTime</th>        <th class=\"col_heading level0 col9\" >distance</th>        <th class=\"col_heading level0 col10\" >Downtown</th>        <th class=\"col_heading level0 col11\" >Suburb</th>        <th class=\"col_heading level0 col12\" >farecheck</th>        <th class=\"col_heading level0 col13\" >Friday</th>        <th class=\"col_heading level0 col14\" >Monday</th>        <th class=\"col_heading level0 col15\" >Saturday</th>        <th class=\"col_heading level0 col16\" >Sunday</th>        <th class=\"col_heading level0 col17\" >Thursday</th>        <th class=\"col_heading level0 col18\" >Tuesday</th>        <th class=\"col_heading level0 col19\" >Wednesday</th>    </tr></thead><tbody>\n",
       "                <tr>\n",
       "                        <th id=\"T_8df09ac9_aaa7_11eb_ac93_c8e2651f549alevel0_row0\" class=\"row_heading level0 row0\" >trip_seconds</th>\n",
       "                        <td id=\"T_8df09ac9_aaa7_11eb_ac93_c8e2651f549arow0_col0\" class=\"data row0 col0\" >1.000000</td>\n",
       "                        <td id=\"T_8df09ac9_aaa7_11eb_ac93_c8e2651f549arow0_col1\" class=\"data row0 col1\" >0.137822</td>\n",
       "                        <td id=\"T_8df09ac9_aaa7_11eb_ac93_c8e2651f549arow0_col2\" class=\"data row0 col2\" >0.312493</td>\n",
       "                        <td id=\"T_8df09ac9_aaa7_11eb_ac93_c8e2651f549arow0_col3\" class=\"data row0 col3\" >0.187556</td>\n",
       "                        <td id=\"T_8df09ac9_aaa7_11eb_ac93_c8e2651f549arow0_col4\" class=\"data row0 col4\" >0.677182</td>\n",
       "                        <td id=\"T_8df09ac9_aaa7_11eb_ac93_c8e2651f549arow0_col5\" class=\"data row0 col5\" >0.029241</td>\n",
       "                        <td id=\"T_8df09ac9_aaa7_11eb_ac93_c8e2651f549arow0_col6\" class=\"data row0 col6\" >0.034191</td>\n",
       "                        <td id=\"T_8df09ac9_aaa7_11eb_ac93_c8e2651f549arow0_col7\" class=\"data row0 col7\" >0.080681</td>\n",
       "                        <td id=\"T_8df09ac9_aaa7_11eb_ac93_c8e2651f549arow0_col8\" class=\"data row0 col8\" >0.041508</td>\n",
       "                        <td id=\"T_8df09ac9_aaa7_11eb_ac93_c8e2651f549arow0_col9\" class=\"data row0 col9\" >0.593486</td>\n",
       "                        <td id=\"T_8df09ac9_aaa7_11eb_ac93_c8e2651f549arow0_col10\" class=\"data row0 col10\" >-0.084647</td>\n",
       "                        <td id=\"T_8df09ac9_aaa7_11eb_ac93_c8e2651f549arow0_col11\" class=\"data row0 col11\" >0.084647</td>\n",
       "                        <td id=\"T_8df09ac9_aaa7_11eb_ac93_c8e2651f549arow0_col12\" class=\"data row0 col12\" >nan</td>\n",
       "                        <td id=\"T_8df09ac9_aaa7_11eb_ac93_c8e2651f549arow0_col13\" class=\"data row0 col13\" >0.004653</td>\n",
       "                        <td id=\"T_8df09ac9_aaa7_11eb_ac93_c8e2651f549arow0_col14\" class=\"data row0 col14\" >0.018997</td>\n",
       "                        <td id=\"T_8df09ac9_aaa7_11eb_ac93_c8e2651f549arow0_col15\" class=\"data row0 col15\" >-0.043132</td>\n",
       "                        <td id=\"T_8df09ac9_aaa7_11eb_ac93_c8e2651f549arow0_col16\" class=\"data row0 col16\" >-0.023030</td>\n",
       "                        <td id=\"T_8df09ac9_aaa7_11eb_ac93_c8e2651f549arow0_col17\" class=\"data row0 col17\" >0.025091</td>\n",
       "                        <td id=\"T_8df09ac9_aaa7_11eb_ac93_c8e2651f549arow0_col18\" class=\"data row0 col18\" >0.008630</td>\n",
       "                        <td id=\"T_8df09ac9_aaa7_11eb_ac93_c8e2651f549arow0_col19\" class=\"data row0 col19\" >0.010510</td>\n",
       "            </tr>\n",
       "            <tr>\n",
       "                        <th id=\"T_8df09ac9_aaa7_11eb_ac93_c8e2651f549alevel0_row1\" class=\"row_heading level0 row1\" >trip_miles</th>\n",
       "                        <td id=\"T_8df09ac9_aaa7_11eb_ac93_c8e2651f549arow1_col0\" class=\"data row1 col0\" >0.137822</td>\n",
       "                        <td id=\"T_8df09ac9_aaa7_11eb_ac93_c8e2651f549arow1_col1\" class=\"data row1 col1\" >1.000000</td>\n",
       "                        <td id=\"T_8df09ac9_aaa7_11eb_ac93_c8e2651f549arow1_col2\" class=\"data row1 col2\" >0.115952</td>\n",
       "                        <td id=\"T_8df09ac9_aaa7_11eb_ac93_c8e2651f549arow1_col3\" class=\"data row1 col3\" >0.066592</td>\n",
       "                        <td id=\"T_8df09ac9_aaa7_11eb_ac93_c8e2651f549arow1_col4\" class=\"data row1 col4\" >0.212902</td>\n",
       "                        <td id=\"T_8df09ac9_aaa7_11eb_ac93_c8e2651f549arow1_col5\" class=\"data row1 col5\" >0.003308</td>\n",
       "                        <td id=\"T_8df09ac9_aaa7_11eb_ac93_c8e2651f549arow1_col6\" class=\"data row1 col6\" >0.005940</td>\n",
       "                        <td id=\"T_8df09ac9_aaa7_11eb_ac93_c8e2651f549arow1_col7\" class=\"data row1 col7\" >-0.004358</td>\n",
       "                        <td id=\"T_8df09ac9_aaa7_11eb_ac93_c8e2651f549arow1_col8\" class=\"data row1 col8\" >0.004668</td>\n",
       "                        <td id=\"T_8df09ac9_aaa7_11eb_ac93_c8e2651f549arow1_col9\" class=\"data row1 col9\" >0.208428</td>\n",
       "                        <td id=\"T_8df09ac9_aaa7_11eb_ac93_c8e2651f549arow1_col10\" class=\"data row1 col10\" >-0.019044</td>\n",
       "                        <td id=\"T_8df09ac9_aaa7_11eb_ac93_c8e2651f549arow1_col11\" class=\"data row1 col11\" >0.019044</td>\n",
       "                        <td id=\"T_8df09ac9_aaa7_11eb_ac93_c8e2651f549arow1_col12\" class=\"data row1 col12\" >nan</td>\n",
       "                        <td id=\"T_8df09ac9_aaa7_11eb_ac93_c8e2651f549arow1_col13\" class=\"data row1 col13\" >-0.002699</td>\n",
       "                        <td id=\"T_8df09ac9_aaa7_11eb_ac93_c8e2651f549arow1_col14\" class=\"data row1 col14\" >0.007523</td>\n",
       "                        <td id=\"T_8df09ac9_aaa7_11eb_ac93_c8e2651f549arow1_col15\" class=\"data row1 col15\" >-0.009029</td>\n",
       "                        <td id=\"T_8df09ac9_aaa7_11eb_ac93_c8e2651f549arow1_col16\" class=\"data row1 col16\" >0.003559</td>\n",
       "                        <td id=\"T_8df09ac9_aaa7_11eb_ac93_c8e2651f549arow1_col17\" class=\"data row1 col17\" >0.003517</td>\n",
       "                        <td id=\"T_8df09ac9_aaa7_11eb_ac93_c8e2651f549arow1_col18\" class=\"data row1 col18\" >-0.000889</td>\n",
       "                        <td id=\"T_8df09ac9_aaa7_11eb_ac93_c8e2651f549arow1_col19\" class=\"data row1 col19\" >-0.000523</td>\n",
       "            </tr>\n",
       "            <tr>\n",
       "                        <th id=\"T_8df09ac9_aaa7_11eb_ac93_c8e2651f549alevel0_row2\" class=\"row_heading level0 row2\" >pickup_community_area</th>\n",
       "                        <td id=\"T_8df09ac9_aaa7_11eb_ac93_c8e2651f549arow2_col0\" class=\"data row2 col0\" >0.312493</td>\n",
       "                        <td id=\"T_8df09ac9_aaa7_11eb_ac93_c8e2651f549arow2_col1\" class=\"data row2 col1\" >0.115952</td>\n",
       "                        <td id=\"T_8df09ac9_aaa7_11eb_ac93_c8e2651f549arow2_col2\" class=\"data row2 col2\" >1.000000</td>\n",
       "                        <td id=\"T_8df09ac9_aaa7_11eb_ac93_c8e2651f549arow2_col3\" class=\"data row2 col3\" >0.005395</td>\n",
       "                        <td id=\"T_8df09ac9_aaa7_11eb_ac93_c8e2651f549arow2_col4\" class=\"data row2 col4\" >0.506517</td>\n",
       "                        <td id=\"T_8df09ac9_aaa7_11eb_ac93_c8e2651f549arow2_col5\" class=\"data row2 col5\" >0.120252</td>\n",
       "                        <td id=\"T_8df09ac9_aaa7_11eb_ac93_c8e2651f549arow2_col6\" class=\"data row2 col6\" >0.125999</td>\n",
       "                        <td id=\"T_8df09ac9_aaa7_11eb_ac93_c8e2651f549arow2_col7\" class=\"data row2 col7\" >0.038425</td>\n",
       "                        <td id=\"T_8df09ac9_aaa7_11eb_ac93_c8e2651f549arow2_col8\" class=\"data row2 col8\" >0.074679</td>\n",
       "                        <td id=\"T_8df09ac9_aaa7_11eb_ac93_c8e2651f549arow2_col9\" class=\"data row2 col9\" >0.546483</td>\n",
       "                        <td id=\"T_8df09ac9_aaa7_11eb_ac93_c8e2651f549arow2_col10\" class=\"data row2 col10\" >-0.247511</td>\n",
       "                        <td id=\"T_8df09ac9_aaa7_11eb_ac93_c8e2651f549arow2_col11\" class=\"data row2 col11\" >0.247511</td>\n",
       "                        <td id=\"T_8df09ac9_aaa7_11eb_ac93_c8e2651f549arow2_col12\" class=\"data row2 col12\" >nan</td>\n",
       "                        <td id=\"T_8df09ac9_aaa7_11eb_ac93_c8e2651f549arow2_col13\" class=\"data row2 col13\" >-0.020687</td>\n",
       "                        <td id=\"T_8df09ac9_aaa7_11eb_ac93_c8e2651f549arow2_col14\" class=\"data row2 col14\" >0.053138</td>\n",
       "                        <td id=\"T_8df09ac9_aaa7_11eb_ac93_c8e2651f549arow2_col15\" class=\"data row2 col15\" >-0.100212</td>\n",
       "                        <td id=\"T_8df09ac9_aaa7_11eb_ac93_c8e2651f549arow2_col16\" class=\"data row2 col16\" >-0.053564</td>\n",
       "                        <td id=\"T_8df09ac9_aaa7_11eb_ac93_c8e2651f549arow2_col17\" class=\"data row2 col17\" >0.042388</td>\n",
       "                        <td id=\"T_8df09ac9_aaa7_11eb_ac93_c8e2651f549arow2_col18\" class=\"data row2 col18\" >0.047736</td>\n",
       "                        <td id=\"T_8df09ac9_aaa7_11eb_ac93_c8e2651f549arow2_col19\" class=\"data row2 col19\" >0.041752</td>\n",
       "            </tr>\n",
       "            <tr>\n",
       "                        <th id=\"T_8df09ac9_aaa7_11eb_ac93_c8e2651f549alevel0_row3\" class=\"row_heading level0 row3\" >dropoff_community_area</th>\n",
       "                        <td id=\"T_8df09ac9_aaa7_11eb_ac93_c8e2651f549arow3_col0\" class=\"data row3 col0\" >0.187556</td>\n",
       "                        <td id=\"T_8df09ac9_aaa7_11eb_ac93_c8e2651f549arow3_col1\" class=\"data row3 col1\" >0.066592</td>\n",
       "                        <td id=\"T_8df09ac9_aaa7_11eb_ac93_c8e2651f549arow3_col2\" class=\"data row3 col2\" >0.005395</td>\n",
       "                        <td id=\"T_8df09ac9_aaa7_11eb_ac93_c8e2651f549arow3_col3\" class=\"data row3 col3\" >1.000000</td>\n",
       "                        <td id=\"T_8df09ac9_aaa7_11eb_ac93_c8e2651f549arow3_col4\" class=\"data row3 col4\" >0.321334</td>\n",
       "                        <td id=\"T_8df09ac9_aaa7_11eb_ac93_c8e2651f549arow3_col5\" class=\"data row3 col5\" >-0.060066</td>\n",
       "                        <td id=\"T_8df09ac9_aaa7_11eb_ac93_c8e2651f549arow3_col6\" class=\"data row3 col6\" >-0.049094</td>\n",
       "                        <td id=\"T_8df09ac9_aaa7_11eb_ac93_c8e2651f549arow3_col7\" class=\"data row3 col7\" >0.049935</td>\n",
       "                        <td id=\"T_8df09ac9_aaa7_11eb_ac93_c8e2651f549arow3_col8\" class=\"data row3 col8\" >0.167783</td>\n",
       "                        <td id=\"T_8df09ac9_aaa7_11eb_ac93_c8e2651f549arow3_col9\" class=\"data row3 col9\" >0.334997</td>\n",
       "                        <td id=\"T_8df09ac9_aaa7_11eb_ac93_c8e2651f549arow3_col10\" class=\"data row3 col10\" >-0.085166</td>\n",
       "                        <td id=\"T_8df09ac9_aaa7_11eb_ac93_c8e2651f549arow3_col11\" class=\"data row3 col11\" >0.085166</td>\n",
       "                        <td id=\"T_8df09ac9_aaa7_11eb_ac93_c8e2651f549arow3_col12\" class=\"data row3 col12\" >nan</td>\n",
       "                        <td id=\"T_8df09ac9_aaa7_11eb_ac93_c8e2651f549arow3_col13\" class=\"data row3 col13\" >-0.006246</td>\n",
       "                        <td id=\"T_8df09ac9_aaa7_11eb_ac93_c8e2651f549arow3_col14\" class=\"data row3 col14\" >0.034042</td>\n",
       "                        <td id=\"T_8df09ac9_aaa7_11eb_ac93_c8e2651f549arow3_col15\" class=\"data row3 col15\" >-0.078889</td>\n",
       "                        <td id=\"T_8df09ac9_aaa7_11eb_ac93_c8e2651f549arow3_col16\" class=\"data row3 col16\" >-0.044512</td>\n",
       "                        <td id=\"T_8df09ac9_aaa7_11eb_ac93_c8e2651f549arow3_col17\" class=\"data row3 col17\" >0.036038</td>\n",
       "                        <td id=\"T_8df09ac9_aaa7_11eb_ac93_c8e2651f549arow3_col18\" class=\"data row3 col18\" >0.032144</td>\n",
       "                        <td id=\"T_8df09ac9_aaa7_11eb_ac93_c8e2651f549arow3_col19\" class=\"data row3 col19\" >0.033319</td>\n",
       "            </tr>\n",
       "            <tr>\n",
       "                        <th id=\"T_8df09ac9_aaa7_11eb_ac93_c8e2651f549alevel0_row4\" class=\"row_heading level0 row4\" >fare</th>\n",
       "                        <td id=\"T_8df09ac9_aaa7_11eb_ac93_c8e2651f549arow4_col0\" class=\"data row4 col0\" >0.677182</td>\n",
       "                        <td id=\"T_8df09ac9_aaa7_11eb_ac93_c8e2651f549arow4_col1\" class=\"data row4 col1\" >0.212902</td>\n",
       "                        <td id=\"T_8df09ac9_aaa7_11eb_ac93_c8e2651f549arow4_col2\" class=\"data row4 col2\" >0.506517</td>\n",
       "                        <td id=\"T_8df09ac9_aaa7_11eb_ac93_c8e2651f549arow4_col3\" class=\"data row4 col3\" >0.321334</td>\n",
       "                        <td id=\"T_8df09ac9_aaa7_11eb_ac93_c8e2651f549arow4_col4\" class=\"data row4 col4\" >1.000000</td>\n",
       "                        <td id=\"T_8df09ac9_aaa7_11eb_ac93_c8e2651f549arow4_col5\" class=\"data row4 col5\" >0.017035</td>\n",
       "                        <td id=\"T_8df09ac9_aaa7_11eb_ac93_c8e2651f549arow4_col6\" class=\"data row4 col6\" >0.028392</td>\n",
       "                        <td id=\"T_8df09ac9_aaa7_11eb_ac93_c8e2651f549arow4_col7\" class=\"data row4 col7\" >-0.013125</td>\n",
       "                        <td id=\"T_8df09ac9_aaa7_11eb_ac93_c8e2651f549arow4_col8\" class=\"data row4 col8\" >0.016778</td>\n",
       "                        <td id=\"T_8df09ac9_aaa7_11eb_ac93_c8e2651f549arow4_col9\" class=\"data row4 col9\" >0.945866</td>\n",
       "                        <td id=\"T_8df09ac9_aaa7_11eb_ac93_c8e2651f549arow4_col10\" class=\"data row4 col10\" >-0.119826</td>\n",
       "                        <td id=\"T_8df09ac9_aaa7_11eb_ac93_c8e2651f549arow4_col11\" class=\"data row4 col11\" >0.119826</td>\n",
       "                        <td id=\"T_8df09ac9_aaa7_11eb_ac93_c8e2651f549arow4_col12\" class=\"data row4 col12\" >nan</td>\n",
       "                        <td id=\"T_8df09ac9_aaa7_11eb_ac93_c8e2651f549arow4_col13\" class=\"data row4 col13\" >-0.025870</td>\n",
       "                        <td id=\"T_8df09ac9_aaa7_11eb_ac93_c8e2651f549arow4_col14\" class=\"data row4 col14\" >0.038948</td>\n",
       "                        <td id=\"T_8df09ac9_aaa7_11eb_ac93_c8e2651f549arow4_col15\" class=\"data row4 col15\" >-0.046197</td>\n",
       "                        <td id=\"T_8df09ac9_aaa7_11eb_ac93_c8e2651f549arow4_col16\" class=\"data row4 col16\" >0.021698</td>\n",
       "                        <td id=\"T_8df09ac9_aaa7_11eb_ac93_c8e2651f549arow4_col17\" class=\"data row4 col17\" >0.016975</td>\n",
       "                        <td id=\"T_8df09ac9_aaa7_11eb_ac93_c8e2651f549arow4_col18\" class=\"data row4 col18\" >0.003923</td>\n",
       "                        <td id=\"T_8df09ac9_aaa7_11eb_ac93_c8e2651f549arow4_col19\" class=\"data row4 col19\" >0.000262</td>\n",
       "            </tr>\n",
       "            <tr>\n",
       "                        <th id=\"T_8df09ac9_aaa7_11eb_ac93_c8e2651f549alevel0_row5\" class=\"row_heading level0 row5\" >trip_start_time_hour</th>\n",
       "                        <td id=\"T_8df09ac9_aaa7_11eb_ac93_c8e2651f549arow5_col0\" class=\"data row5 col0\" >0.029241</td>\n",
       "                        <td id=\"T_8df09ac9_aaa7_11eb_ac93_c8e2651f549arow5_col1\" class=\"data row5 col1\" >0.003308</td>\n",
       "                        <td id=\"T_8df09ac9_aaa7_11eb_ac93_c8e2651f549arow5_col2\" class=\"data row5 col2\" >0.120252</td>\n",
       "                        <td id=\"T_8df09ac9_aaa7_11eb_ac93_c8e2651f549arow5_col3\" class=\"data row5 col3\" >-0.060066</td>\n",
       "                        <td id=\"T_8df09ac9_aaa7_11eb_ac93_c8e2651f549arow5_col4\" class=\"data row5 col4\" >0.017035</td>\n",
       "                        <td id=\"T_8df09ac9_aaa7_11eb_ac93_c8e2651f549arow5_col5\" class=\"data row5 col5\" >1.000000</td>\n",
       "                        <td id=\"T_8df09ac9_aaa7_11eb_ac93_c8e2651f549arow5_col6\" class=\"data row5 col6\" >0.957429</td>\n",
       "                        <td id=\"T_8df09ac9_aaa7_11eb_ac93_c8e2651f549arow5_col7\" class=\"data row5 col7\" >0.093083</td>\n",
       "                        <td id=\"T_8df09ac9_aaa7_11eb_ac93_c8e2651f549arow5_col8\" class=\"data row5 col8\" >-0.116661</td>\n",
       "                        <td id=\"T_8df09ac9_aaa7_11eb_ac93_c8e2651f549arow5_col9\" class=\"data row5 col9\" >0.012687</td>\n",
       "                        <td id=\"T_8df09ac9_aaa7_11eb_ac93_c8e2651f549arow5_col10\" class=\"data row5 col10\" >-0.025917</td>\n",
       "                        <td id=\"T_8df09ac9_aaa7_11eb_ac93_c8e2651f549arow5_col11\" class=\"data row5 col11\" >0.025917</td>\n",
       "                        <td id=\"T_8df09ac9_aaa7_11eb_ac93_c8e2651f549arow5_col12\" class=\"data row5 col12\" >nan</td>\n",
       "                        <td id=\"T_8df09ac9_aaa7_11eb_ac93_c8e2651f549arow5_col13\" class=\"data row5 col13\" >0.018114</td>\n",
       "                        <td id=\"T_8df09ac9_aaa7_11eb_ac93_c8e2651f549arow5_col14\" class=\"data row5 col14\" >0.011574</td>\n",
       "                        <td id=\"T_8df09ac9_aaa7_11eb_ac93_c8e2651f549arow5_col15\" class=\"data row5 col15\" >-0.015345</td>\n",
       "                        <td id=\"T_8df09ac9_aaa7_11eb_ac93_c8e2651f549arow5_col16\" class=\"data row5 col16\" >-0.202527</td>\n",
       "                        <td id=\"T_8df09ac9_aaa7_11eb_ac93_c8e2651f549arow5_col17\" class=\"data row5 col17\" >0.069041</td>\n",
       "                        <td id=\"T_8df09ac9_aaa7_11eb_ac93_c8e2651f549arow5_col18\" class=\"data row5 col18\" >0.049215</td>\n",
       "                        <td id=\"T_8df09ac9_aaa7_11eb_ac93_c8e2651f549arow5_col19\" class=\"data row5 col19\" >0.061543</td>\n",
       "            </tr>\n",
       "            <tr>\n",
       "                        <th id=\"T_8df09ac9_aaa7_11eb_ac93_c8e2651f549alevel0_row6\" class=\"row_heading level0 row6\" >trip_end_time_hour</th>\n",
       "                        <td id=\"T_8df09ac9_aaa7_11eb_ac93_c8e2651f549arow6_col0\" class=\"data row6 col0\" >0.034191</td>\n",
       "                        <td id=\"T_8df09ac9_aaa7_11eb_ac93_c8e2651f549arow6_col1\" class=\"data row6 col1\" >0.005940</td>\n",
       "                        <td id=\"T_8df09ac9_aaa7_11eb_ac93_c8e2651f549arow6_col2\" class=\"data row6 col2\" >0.125999</td>\n",
       "                        <td id=\"T_8df09ac9_aaa7_11eb_ac93_c8e2651f549arow6_col3\" class=\"data row6 col3\" >-0.049094</td>\n",
       "                        <td id=\"T_8df09ac9_aaa7_11eb_ac93_c8e2651f549arow6_col4\" class=\"data row6 col4\" >0.028392</td>\n",
       "                        <td id=\"T_8df09ac9_aaa7_11eb_ac93_c8e2651f549arow6_col5\" class=\"data row6 col5\" >0.957429</td>\n",
       "                        <td id=\"T_8df09ac9_aaa7_11eb_ac93_c8e2651f549arow6_col6\" class=\"data row6 col6\" >1.000000</td>\n",
       "                        <td id=\"T_8df09ac9_aaa7_11eb_ac93_c8e2651f549arow6_col7\" class=\"data row6 col7\" >0.110882</td>\n",
       "                        <td id=\"T_8df09ac9_aaa7_11eb_ac93_c8e2651f549arow6_col8\" class=\"data row6 col8\" >-0.088833</td>\n",
       "                        <td id=\"T_8df09ac9_aaa7_11eb_ac93_c8e2651f549arow6_col9\" class=\"data row6 col9\" >0.023151</td>\n",
       "                        <td id=\"T_8df09ac9_aaa7_11eb_ac93_c8e2651f549arow6_col10\" class=\"data row6 col10\" >-0.026182</td>\n",
       "                        <td id=\"T_8df09ac9_aaa7_11eb_ac93_c8e2651f549arow6_col11\" class=\"data row6 col11\" >0.026182</td>\n",
       "                        <td id=\"T_8df09ac9_aaa7_11eb_ac93_c8e2651f549arow6_col12\" class=\"data row6 col12\" >nan</td>\n",
       "                        <td id=\"T_8df09ac9_aaa7_11eb_ac93_c8e2651f549arow6_col13\" class=\"data row6 col13\" >0.014809</td>\n",
       "                        <td id=\"T_8df09ac9_aaa7_11eb_ac93_c8e2651f549arow6_col14\" class=\"data row6 col14\" >0.014995</td>\n",
       "                        <td id=\"T_8df09ac9_aaa7_11eb_ac93_c8e2651f549arow6_col15\" class=\"data row6 col15\" >-0.023331</td>\n",
       "                        <td id=\"T_8df09ac9_aaa7_11eb_ac93_c8e2651f549arow6_col16\" class=\"data row6 col16\" >-0.200710</td>\n",
       "                        <td id=\"T_8df09ac9_aaa7_11eb_ac93_c8e2651f549arow6_col17\" class=\"data row6 col17\" >0.070867</td>\n",
       "                        <td id=\"T_8df09ac9_aaa7_11eb_ac93_c8e2651f549arow6_col18\" class=\"data row6 col18\" >0.052117</td>\n",
       "                        <td id=\"T_8df09ac9_aaa7_11eb_ac93_c8e2651f549arow6_col19\" class=\"data row6 col19\" >0.064128</td>\n",
       "            </tr>\n",
       "            <tr>\n",
       "                        <th id=\"T_8df09ac9_aaa7_11eb_ac93_c8e2651f549alevel0_row7\" class=\"row_heading level0 row7\" >isPeak</th>\n",
       "                        <td id=\"T_8df09ac9_aaa7_11eb_ac93_c8e2651f549arow7_col0\" class=\"data row7 col0\" >0.080681</td>\n",
       "                        <td id=\"T_8df09ac9_aaa7_11eb_ac93_c8e2651f549arow7_col1\" class=\"data row7 col1\" >-0.004358</td>\n",
       "                        <td id=\"T_8df09ac9_aaa7_11eb_ac93_c8e2651f549arow7_col2\" class=\"data row7 col2\" >0.038425</td>\n",
       "                        <td id=\"T_8df09ac9_aaa7_11eb_ac93_c8e2651f549arow7_col3\" class=\"data row7 col3\" >0.049935</td>\n",
       "                        <td id=\"T_8df09ac9_aaa7_11eb_ac93_c8e2651f549arow7_col4\" class=\"data row7 col4\" >-0.013125</td>\n",
       "                        <td id=\"T_8df09ac9_aaa7_11eb_ac93_c8e2651f549arow7_col5\" class=\"data row7 col5\" >0.093083</td>\n",
       "                        <td id=\"T_8df09ac9_aaa7_11eb_ac93_c8e2651f549arow7_col6\" class=\"data row7 col6\" >0.110882</td>\n",
       "                        <td id=\"T_8df09ac9_aaa7_11eb_ac93_c8e2651f549arow7_col7\" class=\"data row7 col7\" >1.000000</td>\n",
       "                        <td id=\"T_8df09ac9_aaa7_11eb_ac93_c8e2651f549arow7_col8\" class=\"data row7 col8\" >0.313465</td>\n",
       "                        <td id=\"T_8df09ac9_aaa7_11eb_ac93_c8e2651f549arow7_col9\" class=\"data row7 col9\" >-0.030147</td>\n",
       "                        <td id=\"T_8df09ac9_aaa7_11eb_ac93_c8e2651f549arow7_col10\" class=\"data row7 col10\" >-0.007613</td>\n",
       "                        <td id=\"T_8df09ac9_aaa7_11eb_ac93_c8e2651f549arow7_col11\" class=\"data row7 col11\" >0.007613</td>\n",
       "                        <td id=\"T_8df09ac9_aaa7_11eb_ac93_c8e2651f549arow7_col12\" class=\"data row7 col12\" >nan</td>\n",
       "                        <td id=\"T_8df09ac9_aaa7_11eb_ac93_c8e2651f549arow7_col13\" class=\"data row7 col13\" >-0.007327</td>\n",
       "                        <td id=\"T_8df09ac9_aaa7_11eb_ac93_c8e2651f549arow7_col14\" class=\"data row7 col14\" >0.046814</td>\n",
       "                        <td id=\"T_8df09ac9_aaa7_11eb_ac93_c8e2651f549arow7_col15\" class=\"data row7 col15\" >-0.077450</td>\n",
       "                        <td id=\"T_8df09ac9_aaa7_11eb_ac93_c8e2651f549arow7_col16\" class=\"data row7 col16\" >-0.109218</td>\n",
       "                        <td id=\"T_8df09ac9_aaa7_11eb_ac93_c8e2651f549arow7_col17\" class=\"data row7 col17\" >0.042997</td>\n",
       "                        <td id=\"T_8df09ac9_aaa7_11eb_ac93_c8e2651f549arow7_col18\" class=\"data row7 col18\" >0.057178</td>\n",
       "                        <td id=\"T_8df09ac9_aaa7_11eb_ac93_c8e2651f549arow7_col19\" class=\"data row7 col19\" >0.052148</td>\n",
       "            </tr>\n",
       "            <tr>\n",
       "                        <th id=\"T_8df09ac9_aaa7_11eb_ac93_c8e2651f549alevel0_row8\" class=\"row_heading level0 row8\" >isDayTime</th>\n",
       "                        <td id=\"T_8df09ac9_aaa7_11eb_ac93_c8e2651f549arow8_col0\" class=\"data row8 col0\" >0.041508</td>\n",
       "                        <td id=\"T_8df09ac9_aaa7_11eb_ac93_c8e2651f549arow8_col1\" class=\"data row8 col1\" >0.004668</td>\n",
       "                        <td id=\"T_8df09ac9_aaa7_11eb_ac93_c8e2651f549arow8_col2\" class=\"data row8 col2\" >0.074679</td>\n",
       "                        <td id=\"T_8df09ac9_aaa7_11eb_ac93_c8e2651f549arow8_col3\" class=\"data row8 col3\" >0.167783</td>\n",
       "                        <td id=\"T_8df09ac9_aaa7_11eb_ac93_c8e2651f549arow8_col4\" class=\"data row8 col4\" >0.016778</td>\n",
       "                        <td id=\"T_8df09ac9_aaa7_11eb_ac93_c8e2651f549arow8_col5\" class=\"data row8 col5\" >-0.116661</td>\n",
       "                        <td id=\"T_8df09ac9_aaa7_11eb_ac93_c8e2651f549arow8_col6\" class=\"data row8 col6\" >-0.088833</td>\n",
       "                        <td id=\"T_8df09ac9_aaa7_11eb_ac93_c8e2651f549arow8_col7\" class=\"data row8 col7\" >0.313465</td>\n",
       "                        <td id=\"T_8df09ac9_aaa7_11eb_ac93_c8e2651f549arow8_col8\" class=\"data row8 col8\" >1.000000</td>\n",
       "                        <td id=\"T_8df09ac9_aaa7_11eb_ac93_c8e2651f549arow8_col9\" class=\"data row8 col9\" >0.015062</td>\n",
       "                        <td id=\"T_8df09ac9_aaa7_11eb_ac93_c8e2651f549arow8_col10\" class=\"data row8 col10\" >-0.042919</td>\n",
       "                        <td id=\"T_8df09ac9_aaa7_11eb_ac93_c8e2651f549arow8_col11\" class=\"data row8 col11\" >0.042919</td>\n",
       "                        <td id=\"T_8df09ac9_aaa7_11eb_ac93_c8e2651f549arow8_col12\" class=\"data row8 col12\" >nan</td>\n",
       "                        <td id=\"T_8df09ac9_aaa7_11eb_ac93_c8e2651f549arow8_col13\" class=\"data row8 col13\" >-0.015961</td>\n",
       "                        <td id=\"T_8df09ac9_aaa7_11eb_ac93_c8e2651f549arow8_col14\" class=\"data row8 col14\" >0.068010</td>\n",
       "                        <td id=\"T_8df09ac9_aaa7_11eb_ac93_c8e2651f549arow8_col15\" class=\"data row8 col15\" >-0.127900</td>\n",
       "                        <td id=\"T_8df09ac9_aaa7_11eb_ac93_c8e2651f549arow8_col16\" class=\"data row8 col16\" >-0.118260</td>\n",
       "                        <td id=\"T_8df09ac9_aaa7_11eb_ac93_c8e2651f549arow8_col17\" class=\"data row8 col17\" >0.056048</td>\n",
       "                        <td id=\"T_8df09ac9_aaa7_11eb_ac93_c8e2651f549arow8_col18\" class=\"data row8 col18\" >0.078848</td>\n",
       "                        <td id=\"T_8df09ac9_aaa7_11eb_ac93_c8e2651f549arow8_col19\" class=\"data row8 col19\" >0.069698</td>\n",
       "            </tr>\n",
       "            <tr>\n",
       "                        <th id=\"T_8df09ac9_aaa7_11eb_ac93_c8e2651f549alevel0_row9\" class=\"row_heading level0 row9\" >distance</th>\n",
       "                        <td id=\"T_8df09ac9_aaa7_11eb_ac93_c8e2651f549arow9_col0\" class=\"data row9 col0\" >0.593486</td>\n",
       "                        <td id=\"T_8df09ac9_aaa7_11eb_ac93_c8e2651f549arow9_col1\" class=\"data row9 col1\" >0.208428</td>\n",
       "                        <td id=\"T_8df09ac9_aaa7_11eb_ac93_c8e2651f549arow9_col2\" class=\"data row9 col2\" >0.546483</td>\n",
       "                        <td id=\"T_8df09ac9_aaa7_11eb_ac93_c8e2651f549arow9_col3\" class=\"data row9 col3\" >0.334997</td>\n",
       "                        <td id=\"T_8df09ac9_aaa7_11eb_ac93_c8e2651f549arow9_col4\" class=\"data row9 col4\" >0.945866</td>\n",
       "                        <td id=\"T_8df09ac9_aaa7_11eb_ac93_c8e2651f549arow9_col5\" class=\"data row9 col5\" >0.012687</td>\n",
       "                        <td id=\"T_8df09ac9_aaa7_11eb_ac93_c8e2651f549arow9_col6\" class=\"data row9 col6\" >0.023151</td>\n",
       "                        <td id=\"T_8df09ac9_aaa7_11eb_ac93_c8e2651f549arow9_col7\" class=\"data row9 col7\" >-0.030147</td>\n",
       "                        <td id=\"T_8df09ac9_aaa7_11eb_ac93_c8e2651f549arow9_col8\" class=\"data row9 col8\" >0.015062</td>\n",
       "                        <td id=\"T_8df09ac9_aaa7_11eb_ac93_c8e2651f549arow9_col9\" class=\"data row9 col9\" >1.000000</td>\n",
       "                        <td id=\"T_8df09ac9_aaa7_11eb_ac93_c8e2651f549arow9_col10\" class=\"data row9 col10\" >-0.102362</td>\n",
       "                        <td id=\"T_8df09ac9_aaa7_11eb_ac93_c8e2651f549arow9_col11\" class=\"data row9 col11\" >0.102362</td>\n",
       "                        <td id=\"T_8df09ac9_aaa7_11eb_ac93_c8e2651f549arow9_col12\" class=\"data row9 col12\" >nan</td>\n",
       "                        <td id=\"T_8df09ac9_aaa7_11eb_ac93_c8e2651f549arow9_col13\" class=\"data row9 col13\" >-0.024022</td>\n",
       "                        <td id=\"T_8df09ac9_aaa7_11eb_ac93_c8e2651f549arow9_col14\" class=\"data row9 col14\" >0.042275</td>\n",
       "                        <td id=\"T_8df09ac9_aaa7_11eb_ac93_c8e2651f549arow9_col15\" class=\"data row9 col15\" >-0.045662</td>\n",
       "                        <td id=\"T_8df09ac9_aaa7_11eb_ac93_c8e2651f549arow9_col16\" class=\"data row9 col16\" >0.025682</td>\n",
       "                        <td id=\"T_8df09ac9_aaa7_11eb_ac93_c8e2651f549arow9_col17\" class=\"data row9 col17\" >0.013040</td>\n",
       "                        <td id=\"T_8df09ac9_aaa7_11eb_ac93_c8e2651f549arow9_col18\" class=\"data row9 col18\" >0.001039</td>\n",
       "                        <td id=\"T_8df09ac9_aaa7_11eb_ac93_c8e2651f549arow9_col19\" class=\"data row9 col19\" >-0.002546</td>\n",
       "            </tr>\n",
       "            <tr>\n",
       "                        <th id=\"T_8df09ac9_aaa7_11eb_ac93_c8e2651f549alevel0_row10\" class=\"row_heading level0 row10\" >Downtown</th>\n",
       "                        <td id=\"T_8df09ac9_aaa7_11eb_ac93_c8e2651f549arow10_col0\" class=\"data row10 col0\" >-0.084647</td>\n",
       "                        <td id=\"T_8df09ac9_aaa7_11eb_ac93_c8e2651f549arow10_col1\" class=\"data row10 col1\" >-0.019044</td>\n",
       "                        <td id=\"T_8df09ac9_aaa7_11eb_ac93_c8e2651f549arow10_col2\" class=\"data row10 col2\" >-0.247511</td>\n",
       "                        <td id=\"T_8df09ac9_aaa7_11eb_ac93_c8e2651f549arow10_col3\" class=\"data row10 col3\" >-0.085166</td>\n",
       "                        <td id=\"T_8df09ac9_aaa7_11eb_ac93_c8e2651f549arow10_col4\" class=\"data row10 col4\" >-0.119826</td>\n",
       "                        <td id=\"T_8df09ac9_aaa7_11eb_ac93_c8e2651f549arow10_col5\" class=\"data row10 col5\" >-0.025917</td>\n",
       "                        <td id=\"T_8df09ac9_aaa7_11eb_ac93_c8e2651f549arow10_col6\" class=\"data row10 col6\" >-0.026182</td>\n",
       "                        <td id=\"T_8df09ac9_aaa7_11eb_ac93_c8e2651f549arow10_col7\" class=\"data row10 col7\" >-0.007613</td>\n",
       "                        <td id=\"T_8df09ac9_aaa7_11eb_ac93_c8e2651f549arow10_col8\" class=\"data row10 col8\" >-0.042919</td>\n",
       "                        <td id=\"T_8df09ac9_aaa7_11eb_ac93_c8e2651f549arow10_col9\" class=\"data row10 col9\" >-0.102362</td>\n",
       "                        <td id=\"T_8df09ac9_aaa7_11eb_ac93_c8e2651f549arow10_col10\" class=\"data row10 col10\" >1.000000</td>\n",
       "                        <td id=\"T_8df09ac9_aaa7_11eb_ac93_c8e2651f549arow10_col11\" class=\"data row10 col11\" >-1.000000</td>\n",
       "                        <td id=\"T_8df09ac9_aaa7_11eb_ac93_c8e2651f549arow10_col12\" class=\"data row10 col12\" >nan</td>\n",
       "                        <td id=\"T_8df09ac9_aaa7_11eb_ac93_c8e2651f549arow10_col13\" class=\"data row10 col13\" >0.008873</td>\n",
       "                        <td id=\"T_8df09ac9_aaa7_11eb_ac93_c8e2651f549arow10_col14\" class=\"data row10 col14\" >-0.009257</td>\n",
       "                        <td id=\"T_8df09ac9_aaa7_11eb_ac93_c8e2651f549arow10_col15\" class=\"data row10 col15\" >0.009163</td>\n",
       "                        <td id=\"T_8df09ac9_aaa7_11eb_ac93_c8e2651f549arow10_col16\" class=\"data row10 col16\" >-0.007166</td>\n",
       "                        <td id=\"T_8df09ac9_aaa7_11eb_ac93_c8e2651f549arow10_col17\" class=\"data row10 col17\" >-0.003001</td>\n",
       "                        <td id=\"T_8df09ac9_aaa7_11eb_ac93_c8e2651f549arow10_col18\" class=\"data row10 col18\" >-0.001189</td>\n",
       "                        <td id=\"T_8df09ac9_aaa7_11eb_ac93_c8e2651f549arow10_col19\" class=\"data row10 col19\" >-0.000172</td>\n",
       "            </tr>\n",
       "            <tr>\n",
       "                        <th id=\"T_8df09ac9_aaa7_11eb_ac93_c8e2651f549alevel0_row11\" class=\"row_heading level0 row11\" >Suburb</th>\n",
       "                        <td id=\"T_8df09ac9_aaa7_11eb_ac93_c8e2651f549arow11_col0\" class=\"data row11 col0\" >0.084647</td>\n",
       "                        <td id=\"T_8df09ac9_aaa7_11eb_ac93_c8e2651f549arow11_col1\" class=\"data row11 col1\" >0.019044</td>\n",
       "                        <td id=\"T_8df09ac9_aaa7_11eb_ac93_c8e2651f549arow11_col2\" class=\"data row11 col2\" >0.247511</td>\n",
       "                        <td id=\"T_8df09ac9_aaa7_11eb_ac93_c8e2651f549arow11_col3\" class=\"data row11 col3\" >0.085166</td>\n",
       "                        <td id=\"T_8df09ac9_aaa7_11eb_ac93_c8e2651f549arow11_col4\" class=\"data row11 col4\" >0.119826</td>\n",
       "                        <td id=\"T_8df09ac9_aaa7_11eb_ac93_c8e2651f549arow11_col5\" class=\"data row11 col5\" >0.025917</td>\n",
       "                        <td id=\"T_8df09ac9_aaa7_11eb_ac93_c8e2651f549arow11_col6\" class=\"data row11 col6\" >0.026182</td>\n",
       "                        <td id=\"T_8df09ac9_aaa7_11eb_ac93_c8e2651f549arow11_col7\" class=\"data row11 col7\" >0.007613</td>\n",
       "                        <td id=\"T_8df09ac9_aaa7_11eb_ac93_c8e2651f549arow11_col8\" class=\"data row11 col8\" >0.042919</td>\n",
       "                        <td id=\"T_8df09ac9_aaa7_11eb_ac93_c8e2651f549arow11_col9\" class=\"data row11 col9\" >0.102362</td>\n",
       "                        <td id=\"T_8df09ac9_aaa7_11eb_ac93_c8e2651f549arow11_col10\" class=\"data row11 col10\" >-1.000000</td>\n",
       "                        <td id=\"T_8df09ac9_aaa7_11eb_ac93_c8e2651f549arow11_col11\" class=\"data row11 col11\" >1.000000</td>\n",
       "                        <td id=\"T_8df09ac9_aaa7_11eb_ac93_c8e2651f549arow11_col12\" class=\"data row11 col12\" >nan</td>\n",
       "                        <td id=\"T_8df09ac9_aaa7_11eb_ac93_c8e2651f549arow11_col13\" class=\"data row11 col13\" >-0.008873</td>\n",
       "                        <td id=\"T_8df09ac9_aaa7_11eb_ac93_c8e2651f549arow11_col14\" class=\"data row11 col14\" >0.009257</td>\n",
       "                        <td id=\"T_8df09ac9_aaa7_11eb_ac93_c8e2651f549arow11_col15\" class=\"data row11 col15\" >-0.009163</td>\n",
       "                        <td id=\"T_8df09ac9_aaa7_11eb_ac93_c8e2651f549arow11_col16\" class=\"data row11 col16\" >0.007166</td>\n",
       "                        <td id=\"T_8df09ac9_aaa7_11eb_ac93_c8e2651f549arow11_col17\" class=\"data row11 col17\" >0.003001</td>\n",
       "                        <td id=\"T_8df09ac9_aaa7_11eb_ac93_c8e2651f549arow11_col18\" class=\"data row11 col18\" >0.001189</td>\n",
       "                        <td id=\"T_8df09ac9_aaa7_11eb_ac93_c8e2651f549arow11_col19\" class=\"data row11 col19\" >0.000172</td>\n",
       "            </tr>\n",
       "            <tr>\n",
       "                        <th id=\"T_8df09ac9_aaa7_11eb_ac93_c8e2651f549alevel0_row12\" class=\"row_heading level0 row12\" >farecheck</th>\n",
       "                        <td id=\"T_8df09ac9_aaa7_11eb_ac93_c8e2651f549arow12_col0\" class=\"data row12 col0\" >nan</td>\n",
       "                        <td id=\"T_8df09ac9_aaa7_11eb_ac93_c8e2651f549arow12_col1\" class=\"data row12 col1\" >nan</td>\n",
       "                        <td id=\"T_8df09ac9_aaa7_11eb_ac93_c8e2651f549arow12_col2\" class=\"data row12 col2\" >nan</td>\n",
       "                        <td id=\"T_8df09ac9_aaa7_11eb_ac93_c8e2651f549arow12_col3\" class=\"data row12 col3\" >nan</td>\n",
       "                        <td id=\"T_8df09ac9_aaa7_11eb_ac93_c8e2651f549arow12_col4\" class=\"data row12 col4\" >nan</td>\n",
       "                        <td id=\"T_8df09ac9_aaa7_11eb_ac93_c8e2651f549arow12_col5\" class=\"data row12 col5\" >nan</td>\n",
       "                        <td id=\"T_8df09ac9_aaa7_11eb_ac93_c8e2651f549arow12_col6\" class=\"data row12 col6\" >nan</td>\n",
       "                        <td id=\"T_8df09ac9_aaa7_11eb_ac93_c8e2651f549arow12_col7\" class=\"data row12 col7\" >nan</td>\n",
       "                        <td id=\"T_8df09ac9_aaa7_11eb_ac93_c8e2651f549arow12_col8\" class=\"data row12 col8\" >nan</td>\n",
       "                        <td id=\"T_8df09ac9_aaa7_11eb_ac93_c8e2651f549arow12_col9\" class=\"data row12 col9\" >nan</td>\n",
       "                        <td id=\"T_8df09ac9_aaa7_11eb_ac93_c8e2651f549arow12_col10\" class=\"data row12 col10\" >nan</td>\n",
       "                        <td id=\"T_8df09ac9_aaa7_11eb_ac93_c8e2651f549arow12_col11\" class=\"data row12 col11\" >nan</td>\n",
       "                        <td id=\"T_8df09ac9_aaa7_11eb_ac93_c8e2651f549arow12_col12\" class=\"data row12 col12\" >nan</td>\n",
       "                        <td id=\"T_8df09ac9_aaa7_11eb_ac93_c8e2651f549arow12_col13\" class=\"data row12 col13\" >nan</td>\n",
       "                        <td id=\"T_8df09ac9_aaa7_11eb_ac93_c8e2651f549arow12_col14\" class=\"data row12 col14\" >nan</td>\n",
       "                        <td id=\"T_8df09ac9_aaa7_11eb_ac93_c8e2651f549arow12_col15\" class=\"data row12 col15\" >nan</td>\n",
       "                        <td id=\"T_8df09ac9_aaa7_11eb_ac93_c8e2651f549arow12_col16\" class=\"data row12 col16\" >nan</td>\n",
       "                        <td id=\"T_8df09ac9_aaa7_11eb_ac93_c8e2651f549arow12_col17\" class=\"data row12 col17\" >nan</td>\n",
       "                        <td id=\"T_8df09ac9_aaa7_11eb_ac93_c8e2651f549arow12_col18\" class=\"data row12 col18\" >nan</td>\n",
       "                        <td id=\"T_8df09ac9_aaa7_11eb_ac93_c8e2651f549arow12_col19\" class=\"data row12 col19\" >nan</td>\n",
       "            </tr>\n",
       "            <tr>\n",
       "                        <th id=\"T_8df09ac9_aaa7_11eb_ac93_c8e2651f549alevel0_row13\" class=\"row_heading level0 row13\" >Friday</th>\n",
       "                        <td id=\"T_8df09ac9_aaa7_11eb_ac93_c8e2651f549arow13_col0\" class=\"data row13 col0\" >0.004653</td>\n",
       "                        <td id=\"T_8df09ac9_aaa7_11eb_ac93_c8e2651f549arow13_col1\" class=\"data row13 col1\" >-0.002699</td>\n",
       "                        <td id=\"T_8df09ac9_aaa7_11eb_ac93_c8e2651f549arow13_col2\" class=\"data row13 col2\" >-0.020687</td>\n",
       "                        <td id=\"T_8df09ac9_aaa7_11eb_ac93_c8e2651f549arow13_col3\" class=\"data row13 col3\" >-0.006246</td>\n",
       "                        <td id=\"T_8df09ac9_aaa7_11eb_ac93_c8e2651f549arow13_col4\" class=\"data row13 col4\" >-0.025870</td>\n",
       "                        <td id=\"T_8df09ac9_aaa7_11eb_ac93_c8e2651f549arow13_col5\" class=\"data row13 col5\" >0.018114</td>\n",
       "                        <td id=\"T_8df09ac9_aaa7_11eb_ac93_c8e2651f549arow13_col6\" class=\"data row13 col6\" >0.014809</td>\n",
       "                        <td id=\"T_8df09ac9_aaa7_11eb_ac93_c8e2651f549arow13_col7\" class=\"data row13 col7\" >-0.007327</td>\n",
       "                        <td id=\"T_8df09ac9_aaa7_11eb_ac93_c8e2651f549arow13_col8\" class=\"data row13 col8\" >-0.015961</td>\n",
       "                        <td id=\"T_8df09ac9_aaa7_11eb_ac93_c8e2651f549arow13_col9\" class=\"data row13 col9\" >-0.024022</td>\n",
       "                        <td id=\"T_8df09ac9_aaa7_11eb_ac93_c8e2651f549arow13_col10\" class=\"data row13 col10\" >0.008873</td>\n",
       "                        <td id=\"T_8df09ac9_aaa7_11eb_ac93_c8e2651f549arow13_col11\" class=\"data row13 col11\" >-0.008873</td>\n",
       "                        <td id=\"T_8df09ac9_aaa7_11eb_ac93_c8e2651f549arow13_col12\" class=\"data row13 col12\" >nan</td>\n",
       "                        <td id=\"T_8df09ac9_aaa7_11eb_ac93_c8e2651f549arow13_col13\" class=\"data row13 col13\" >1.000000</td>\n",
       "                        <td id=\"T_8df09ac9_aaa7_11eb_ac93_c8e2651f549arow13_col14\" class=\"data row13 col14\" >-0.178250</td>\n",
       "                        <td id=\"T_8df09ac9_aaa7_11eb_ac93_c8e2651f549arow13_col15\" class=\"data row13 col15\" >-0.211033</td>\n",
       "                        <td id=\"T_8df09ac9_aaa7_11eb_ac93_c8e2651f549arow13_col16\" class=\"data row13 col16\" >-0.188073</td>\n",
       "                        <td id=\"T_8df09ac9_aaa7_11eb_ac93_c8e2651f549arow13_col17\" class=\"data row13 col17\" >-0.202223</td>\n",
       "                        <td id=\"T_8df09ac9_aaa7_11eb_ac93_c8e2651f549arow13_col18\" class=\"data row13 col18\" >-0.191078</td>\n",
       "                        <td id=\"T_8df09ac9_aaa7_11eb_ac93_c8e2651f549arow13_col19\" class=\"data row13 col19\" >-0.197311</td>\n",
       "            </tr>\n",
       "            <tr>\n",
       "                        <th id=\"T_8df09ac9_aaa7_11eb_ac93_c8e2651f549alevel0_row14\" class=\"row_heading level0 row14\" >Monday</th>\n",
       "                        <td id=\"T_8df09ac9_aaa7_11eb_ac93_c8e2651f549arow14_col0\" class=\"data row14 col0\" >0.018997</td>\n",
       "                        <td id=\"T_8df09ac9_aaa7_11eb_ac93_c8e2651f549arow14_col1\" class=\"data row14 col1\" >0.007523</td>\n",
       "                        <td id=\"T_8df09ac9_aaa7_11eb_ac93_c8e2651f549arow14_col2\" class=\"data row14 col2\" >0.053138</td>\n",
       "                        <td id=\"T_8df09ac9_aaa7_11eb_ac93_c8e2651f549arow14_col3\" class=\"data row14 col3\" >0.034042</td>\n",
       "                        <td id=\"T_8df09ac9_aaa7_11eb_ac93_c8e2651f549arow14_col4\" class=\"data row14 col4\" >0.038948</td>\n",
       "                        <td id=\"T_8df09ac9_aaa7_11eb_ac93_c8e2651f549arow14_col5\" class=\"data row14 col5\" >0.011574</td>\n",
       "                        <td id=\"T_8df09ac9_aaa7_11eb_ac93_c8e2651f549arow14_col6\" class=\"data row14 col6\" >0.014995</td>\n",
       "                        <td id=\"T_8df09ac9_aaa7_11eb_ac93_c8e2651f549arow14_col7\" class=\"data row14 col7\" >0.046814</td>\n",
       "                        <td id=\"T_8df09ac9_aaa7_11eb_ac93_c8e2651f549arow14_col8\" class=\"data row14 col8\" >0.068010</td>\n",
       "                        <td id=\"T_8df09ac9_aaa7_11eb_ac93_c8e2651f549arow14_col9\" class=\"data row14 col9\" >0.042275</td>\n",
       "                        <td id=\"T_8df09ac9_aaa7_11eb_ac93_c8e2651f549arow14_col10\" class=\"data row14 col10\" >-0.009257</td>\n",
       "                        <td id=\"T_8df09ac9_aaa7_11eb_ac93_c8e2651f549arow14_col11\" class=\"data row14 col11\" >0.009257</td>\n",
       "                        <td id=\"T_8df09ac9_aaa7_11eb_ac93_c8e2651f549arow14_col12\" class=\"data row14 col12\" >nan</td>\n",
       "                        <td id=\"T_8df09ac9_aaa7_11eb_ac93_c8e2651f549arow14_col13\" class=\"data row14 col13\" >-0.178250</td>\n",
       "                        <td id=\"T_8df09ac9_aaa7_11eb_ac93_c8e2651f549arow14_col14\" class=\"data row14 col14\" >1.000000</td>\n",
       "                        <td id=\"T_8df09ac9_aaa7_11eb_ac93_c8e2651f549arow14_col15\" class=\"data row14 col15\" >-0.153134</td>\n",
       "                        <td id=\"T_8df09ac9_aaa7_11eb_ac93_c8e2651f549arow14_col16\" class=\"data row14 col16\" >-0.136474</td>\n",
       "                        <td id=\"T_8df09ac9_aaa7_11eb_ac93_c8e2651f549arow14_col17\" class=\"data row14 col17\" >-0.146741</td>\n",
       "                        <td id=\"T_8df09ac9_aaa7_11eb_ac93_c8e2651f549arow14_col18\" class=\"data row14 col18\" >-0.138654</td>\n",
       "                        <td id=\"T_8df09ac9_aaa7_11eb_ac93_c8e2651f549arow14_col19\" class=\"data row14 col19\" >-0.143177</td>\n",
       "            </tr>\n",
       "            <tr>\n",
       "                        <th id=\"T_8df09ac9_aaa7_11eb_ac93_c8e2651f549alevel0_row15\" class=\"row_heading level0 row15\" >Saturday</th>\n",
       "                        <td id=\"T_8df09ac9_aaa7_11eb_ac93_c8e2651f549arow15_col0\" class=\"data row15 col0\" >-0.043132</td>\n",
       "                        <td id=\"T_8df09ac9_aaa7_11eb_ac93_c8e2651f549arow15_col1\" class=\"data row15 col1\" >-0.009029</td>\n",
       "                        <td id=\"T_8df09ac9_aaa7_11eb_ac93_c8e2651f549arow15_col2\" class=\"data row15 col2\" >-0.100212</td>\n",
       "                        <td id=\"T_8df09ac9_aaa7_11eb_ac93_c8e2651f549arow15_col3\" class=\"data row15 col3\" >-0.078889</td>\n",
       "                        <td id=\"T_8df09ac9_aaa7_11eb_ac93_c8e2651f549arow15_col4\" class=\"data row15 col4\" >-0.046197</td>\n",
       "                        <td id=\"T_8df09ac9_aaa7_11eb_ac93_c8e2651f549arow15_col5\" class=\"data row15 col5\" >-0.015345</td>\n",
       "                        <td id=\"T_8df09ac9_aaa7_11eb_ac93_c8e2651f549arow15_col6\" class=\"data row15 col6\" >-0.023331</td>\n",
       "                        <td id=\"T_8df09ac9_aaa7_11eb_ac93_c8e2651f549arow15_col7\" class=\"data row15 col7\" >-0.077450</td>\n",
       "                        <td id=\"T_8df09ac9_aaa7_11eb_ac93_c8e2651f549arow15_col8\" class=\"data row15 col8\" >-0.127900</td>\n",
       "                        <td id=\"T_8df09ac9_aaa7_11eb_ac93_c8e2651f549arow15_col9\" class=\"data row15 col9\" >-0.045662</td>\n",
       "                        <td id=\"T_8df09ac9_aaa7_11eb_ac93_c8e2651f549arow15_col10\" class=\"data row15 col10\" >0.009163</td>\n",
       "                        <td id=\"T_8df09ac9_aaa7_11eb_ac93_c8e2651f549arow15_col11\" class=\"data row15 col11\" >-0.009163</td>\n",
       "                        <td id=\"T_8df09ac9_aaa7_11eb_ac93_c8e2651f549arow15_col12\" class=\"data row15 col12\" >nan</td>\n",
       "                        <td id=\"T_8df09ac9_aaa7_11eb_ac93_c8e2651f549arow15_col13\" class=\"data row15 col13\" >-0.211033</td>\n",
       "                        <td id=\"T_8df09ac9_aaa7_11eb_ac93_c8e2651f549arow15_col14\" class=\"data row15 col14\" >-0.153134</td>\n",
       "                        <td id=\"T_8df09ac9_aaa7_11eb_ac93_c8e2651f549arow15_col15\" class=\"data row15 col15\" >1.000000</td>\n",
       "                        <td id=\"T_8df09ac9_aaa7_11eb_ac93_c8e2651f549arow15_col16\" class=\"data row15 col16\" >-0.161573</td>\n",
       "                        <td id=\"T_8df09ac9_aaa7_11eb_ac93_c8e2651f549arow15_col17\" class=\"data row15 col17\" >-0.173729</td>\n",
       "                        <td id=\"T_8df09ac9_aaa7_11eb_ac93_c8e2651f549arow15_col18\" class=\"data row15 col18\" >-0.164154</td>\n",
       "                        <td id=\"T_8df09ac9_aaa7_11eb_ac93_c8e2651f549arow15_col19\" class=\"data row15 col19\" >-0.169509</td>\n",
       "            </tr>\n",
       "            <tr>\n",
       "                        <th id=\"T_8df09ac9_aaa7_11eb_ac93_c8e2651f549alevel0_row16\" class=\"row_heading level0 row16\" >Sunday</th>\n",
       "                        <td id=\"T_8df09ac9_aaa7_11eb_ac93_c8e2651f549arow16_col0\" class=\"data row16 col0\" >-0.023030</td>\n",
       "                        <td id=\"T_8df09ac9_aaa7_11eb_ac93_c8e2651f549arow16_col1\" class=\"data row16 col1\" >0.003559</td>\n",
       "                        <td id=\"T_8df09ac9_aaa7_11eb_ac93_c8e2651f549arow16_col2\" class=\"data row16 col2\" >-0.053564</td>\n",
       "                        <td id=\"T_8df09ac9_aaa7_11eb_ac93_c8e2651f549arow16_col3\" class=\"data row16 col3\" >-0.044512</td>\n",
       "                        <td id=\"T_8df09ac9_aaa7_11eb_ac93_c8e2651f549arow16_col4\" class=\"data row16 col4\" >0.021698</td>\n",
       "                        <td id=\"T_8df09ac9_aaa7_11eb_ac93_c8e2651f549arow16_col5\" class=\"data row16 col5\" >-0.202527</td>\n",
       "                        <td id=\"T_8df09ac9_aaa7_11eb_ac93_c8e2651f549arow16_col6\" class=\"data row16 col6\" >-0.200710</td>\n",
       "                        <td id=\"T_8df09ac9_aaa7_11eb_ac93_c8e2651f549arow16_col7\" class=\"data row16 col7\" >-0.109218</td>\n",
       "                        <td id=\"T_8df09ac9_aaa7_11eb_ac93_c8e2651f549arow16_col8\" class=\"data row16 col8\" >-0.118260</td>\n",
       "                        <td id=\"T_8df09ac9_aaa7_11eb_ac93_c8e2651f549arow16_col9\" class=\"data row16 col9\" >0.025682</td>\n",
       "                        <td id=\"T_8df09ac9_aaa7_11eb_ac93_c8e2651f549arow16_col10\" class=\"data row16 col10\" >-0.007166</td>\n",
       "                        <td id=\"T_8df09ac9_aaa7_11eb_ac93_c8e2651f549arow16_col11\" class=\"data row16 col11\" >0.007166</td>\n",
       "                        <td id=\"T_8df09ac9_aaa7_11eb_ac93_c8e2651f549arow16_col12\" class=\"data row16 col12\" >nan</td>\n",
       "                        <td id=\"T_8df09ac9_aaa7_11eb_ac93_c8e2651f549arow16_col13\" class=\"data row16 col13\" >-0.188073</td>\n",
       "                        <td id=\"T_8df09ac9_aaa7_11eb_ac93_c8e2651f549arow16_col14\" class=\"data row16 col14\" >-0.136474</td>\n",
       "                        <td id=\"T_8df09ac9_aaa7_11eb_ac93_c8e2651f549arow16_col15\" class=\"data row16 col15\" >-0.161573</td>\n",
       "                        <td id=\"T_8df09ac9_aaa7_11eb_ac93_c8e2651f549arow16_col16\" class=\"data row16 col16\" >1.000000</td>\n",
       "                        <td id=\"T_8df09ac9_aaa7_11eb_ac93_c8e2651f549arow16_col17\" class=\"data row16 col17\" >-0.154828</td>\n",
       "                        <td id=\"T_8df09ac9_aaa7_11eb_ac93_c8e2651f549arow16_col18\" class=\"data row16 col18\" >-0.146295</td>\n",
       "                        <td id=\"T_8df09ac9_aaa7_11eb_ac93_c8e2651f549arow16_col19\" class=\"data row16 col19\" >-0.151067</td>\n",
       "            </tr>\n",
       "            <tr>\n",
       "                        <th id=\"T_8df09ac9_aaa7_11eb_ac93_c8e2651f549alevel0_row17\" class=\"row_heading level0 row17\" >Thursday</th>\n",
       "                        <td id=\"T_8df09ac9_aaa7_11eb_ac93_c8e2651f549arow17_col0\" class=\"data row17 col0\" >0.025091</td>\n",
       "                        <td id=\"T_8df09ac9_aaa7_11eb_ac93_c8e2651f549arow17_col1\" class=\"data row17 col1\" >0.003517</td>\n",
       "                        <td id=\"T_8df09ac9_aaa7_11eb_ac93_c8e2651f549arow17_col2\" class=\"data row17 col2\" >0.042388</td>\n",
       "                        <td id=\"T_8df09ac9_aaa7_11eb_ac93_c8e2651f549arow17_col3\" class=\"data row17 col3\" >0.036038</td>\n",
       "                        <td id=\"T_8df09ac9_aaa7_11eb_ac93_c8e2651f549arow17_col4\" class=\"data row17 col4\" >0.016975</td>\n",
       "                        <td id=\"T_8df09ac9_aaa7_11eb_ac93_c8e2651f549arow17_col5\" class=\"data row17 col5\" >0.069041</td>\n",
       "                        <td id=\"T_8df09ac9_aaa7_11eb_ac93_c8e2651f549arow17_col6\" class=\"data row17 col6\" >0.070867</td>\n",
       "                        <td id=\"T_8df09ac9_aaa7_11eb_ac93_c8e2651f549arow17_col7\" class=\"data row17 col7\" >0.042997</td>\n",
       "                        <td id=\"T_8df09ac9_aaa7_11eb_ac93_c8e2651f549arow17_col8\" class=\"data row17 col8\" >0.056048</td>\n",
       "                        <td id=\"T_8df09ac9_aaa7_11eb_ac93_c8e2651f549arow17_col9\" class=\"data row17 col9\" >0.013040</td>\n",
       "                        <td id=\"T_8df09ac9_aaa7_11eb_ac93_c8e2651f549arow17_col10\" class=\"data row17 col10\" >-0.003001</td>\n",
       "                        <td id=\"T_8df09ac9_aaa7_11eb_ac93_c8e2651f549arow17_col11\" class=\"data row17 col11\" >0.003001</td>\n",
       "                        <td id=\"T_8df09ac9_aaa7_11eb_ac93_c8e2651f549arow17_col12\" class=\"data row17 col12\" >nan</td>\n",
       "                        <td id=\"T_8df09ac9_aaa7_11eb_ac93_c8e2651f549arow17_col13\" class=\"data row17 col13\" >-0.202223</td>\n",
       "                        <td id=\"T_8df09ac9_aaa7_11eb_ac93_c8e2651f549arow17_col14\" class=\"data row17 col14\" >-0.146741</td>\n",
       "                        <td id=\"T_8df09ac9_aaa7_11eb_ac93_c8e2651f549arow17_col15\" class=\"data row17 col15\" >-0.173729</td>\n",
       "                        <td id=\"T_8df09ac9_aaa7_11eb_ac93_c8e2651f549arow17_col16\" class=\"data row17 col16\" >-0.154828</td>\n",
       "                        <td id=\"T_8df09ac9_aaa7_11eb_ac93_c8e2651f549arow17_col17\" class=\"data row17 col17\" >1.000000</td>\n",
       "                        <td id=\"T_8df09ac9_aaa7_11eb_ac93_c8e2651f549arow17_col18\" class=\"data row17 col18\" >-0.157302</td>\n",
       "                        <td id=\"T_8df09ac9_aaa7_11eb_ac93_c8e2651f549arow17_col19\" class=\"data row17 col19\" >-0.162433</td>\n",
       "            </tr>\n",
       "            <tr>\n",
       "                        <th id=\"T_8df09ac9_aaa7_11eb_ac93_c8e2651f549alevel0_row18\" class=\"row_heading level0 row18\" >Tuesday</th>\n",
       "                        <td id=\"T_8df09ac9_aaa7_11eb_ac93_c8e2651f549arow18_col0\" class=\"data row18 col0\" >0.008630</td>\n",
       "                        <td id=\"T_8df09ac9_aaa7_11eb_ac93_c8e2651f549arow18_col1\" class=\"data row18 col1\" >-0.000889</td>\n",
       "                        <td id=\"T_8df09ac9_aaa7_11eb_ac93_c8e2651f549arow18_col2\" class=\"data row18 col2\" >0.047736</td>\n",
       "                        <td id=\"T_8df09ac9_aaa7_11eb_ac93_c8e2651f549arow18_col3\" class=\"data row18 col3\" >0.032144</td>\n",
       "                        <td id=\"T_8df09ac9_aaa7_11eb_ac93_c8e2651f549arow18_col4\" class=\"data row18 col4\" >0.003923</td>\n",
       "                        <td id=\"T_8df09ac9_aaa7_11eb_ac93_c8e2651f549arow18_col5\" class=\"data row18 col5\" >0.049215</td>\n",
       "                        <td id=\"T_8df09ac9_aaa7_11eb_ac93_c8e2651f549arow18_col6\" class=\"data row18 col6\" >0.052117</td>\n",
       "                        <td id=\"T_8df09ac9_aaa7_11eb_ac93_c8e2651f549arow18_col7\" class=\"data row18 col7\" >0.057178</td>\n",
       "                        <td id=\"T_8df09ac9_aaa7_11eb_ac93_c8e2651f549arow18_col8\" class=\"data row18 col8\" >0.078848</td>\n",
       "                        <td id=\"T_8df09ac9_aaa7_11eb_ac93_c8e2651f549arow18_col9\" class=\"data row18 col9\" >0.001039</td>\n",
       "                        <td id=\"T_8df09ac9_aaa7_11eb_ac93_c8e2651f549arow18_col10\" class=\"data row18 col10\" >-0.001189</td>\n",
       "                        <td id=\"T_8df09ac9_aaa7_11eb_ac93_c8e2651f549arow18_col11\" class=\"data row18 col11\" >0.001189</td>\n",
       "                        <td id=\"T_8df09ac9_aaa7_11eb_ac93_c8e2651f549arow18_col12\" class=\"data row18 col12\" >nan</td>\n",
       "                        <td id=\"T_8df09ac9_aaa7_11eb_ac93_c8e2651f549arow18_col13\" class=\"data row18 col13\" >-0.191078</td>\n",
       "                        <td id=\"T_8df09ac9_aaa7_11eb_ac93_c8e2651f549arow18_col14\" class=\"data row18 col14\" >-0.138654</td>\n",
       "                        <td id=\"T_8df09ac9_aaa7_11eb_ac93_c8e2651f549arow18_col15\" class=\"data row18 col15\" >-0.164154</td>\n",
       "                        <td id=\"T_8df09ac9_aaa7_11eb_ac93_c8e2651f549arow18_col16\" class=\"data row18 col16\" >-0.146295</td>\n",
       "                        <td id=\"T_8df09ac9_aaa7_11eb_ac93_c8e2651f549arow18_col17\" class=\"data row18 col17\" >-0.157302</td>\n",
       "                        <td id=\"T_8df09ac9_aaa7_11eb_ac93_c8e2651f549arow18_col18\" class=\"data row18 col18\" >1.000000</td>\n",
       "                        <td id=\"T_8df09ac9_aaa7_11eb_ac93_c8e2651f549arow18_col19\" class=\"data row18 col19\" >-0.153481</td>\n",
       "            </tr>\n",
       "            <tr>\n",
       "                        <th id=\"T_8df09ac9_aaa7_11eb_ac93_c8e2651f549alevel0_row19\" class=\"row_heading level0 row19\" >Wednesday</th>\n",
       "                        <td id=\"T_8df09ac9_aaa7_11eb_ac93_c8e2651f549arow19_col0\" class=\"data row19 col0\" >0.010510</td>\n",
       "                        <td id=\"T_8df09ac9_aaa7_11eb_ac93_c8e2651f549arow19_col1\" class=\"data row19 col1\" >-0.000523</td>\n",
       "                        <td id=\"T_8df09ac9_aaa7_11eb_ac93_c8e2651f549arow19_col2\" class=\"data row19 col2\" >0.041752</td>\n",
       "                        <td id=\"T_8df09ac9_aaa7_11eb_ac93_c8e2651f549arow19_col3\" class=\"data row19 col3\" >0.033319</td>\n",
       "                        <td id=\"T_8df09ac9_aaa7_11eb_ac93_c8e2651f549arow19_col4\" class=\"data row19 col4\" >0.000262</td>\n",
       "                        <td id=\"T_8df09ac9_aaa7_11eb_ac93_c8e2651f549arow19_col5\" class=\"data row19 col5\" >0.061543</td>\n",
       "                        <td id=\"T_8df09ac9_aaa7_11eb_ac93_c8e2651f549arow19_col6\" class=\"data row19 col6\" >0.064128</td>\n",
       "                        <td id=\"T_8df09ac9_aaa7_11eb_ac93_c8e2651f549arow19_col7\" class=\"data row19 col7\" >0.052148</td>\n",
       "                        <td id=\"T_8df09ac9_aaa7_11eb_ac93_c8e2651f549arow19_col8\" class=\"data row19 col8\" >0.069698</td>\n",
       "                        <td id=\"T_8df09ac9_aaa7_11eb_ac93_c8e2651f549arow19_col9\" class=\"data row19 col9\" >-0.002546</td>\n",
       "                        <td id=\"T_8df09ac9_aaa7_11eb_ac93_c8e2651f549arow19_col10\" class=\"data row19 col10\" >-0.000172</td>\n",
       "                        <td id=\"T_8df09ac9_aaa7_11eb_ac93_c8e2651f549arow19_col11\" class=\"data row19 col11\" >0.000172</td>\n",
       "                        <td id=\"T_8df09ac9_aaa7_11eb_ac93_c8e2651f549arow19_col12\" class=\"data row19 col12\" >nan</td>\n",
       "                        <td id=\"T_8df09ac9_aaa7_11eb_ac93_c8e2651f549arow19_col13\" class=\"data row19 col13\" >-0.197311</td>\n",
       "                        <td id=\"T_8df09ac9_aaa7_11eb_ac93_c8e2651f549arow19_col14\" class=\"data row19 col14\" >-0.143177</td>\n",
       "                        <td id=\"T_8df09ac9_aaa7_11eb_ac93_c8e2651f549arow19_col15\" class=\"data row19 col15\" >-0.169509</td>\n",
       "                        <td id=\"T_8df09ac9_aaa7_11eb_ac93_c8e2651f549arow19_col16\" class=\"data row19 col16\" >-0.151067</td>\n",
       "                        <td id=\"T_8df09ac9_aaa7_11eb_ac93_c8e2651f549arow19_col17\" class=\"data row19 col17\" >-0.162433</td>\n",
       "                        <td id=\"T_8df09ac9_aaa7_11eb_ac93_c8e2651f549arow19_col18\" class=\"data row19 col18\" >-0.153481</td>\n",
       "                        <td id=\"T_8df09ac9_aaa7_11eb_ac93_c8e2651f549arow19_col19\" class=\"data row19 col19\" >1.000000</td>\n",
       "            </tr>\n",
       "    </tbody></table>"
      ],
      "text/plain": [
       "<pandas.io.formats.style.Styler at 0x24a94ca16d0>"
      ]
     },
     "execution_count": 70,
     "metadata": {},
     "output_type": "execute_result"
    }
   ],
   "source": [
    "print('''Correlation matrix''')\n",
    "corr = data.corr()\n",
    "corr.style.background_gradient(cmap='coolwarm')"
   ]
  },
  {
   "cell_type": "code",
   "execution_count": 47,
   "metadata": {},
   "outputs": [],
   "source": [
    "data = data.drop(index=data[data.isna().any(axis=1)].index)"
   ]
  },
  {
   "cell_type": "code",
   "execution_count": 48,
   "metadata": {},
   "outputs": [
    {
     "data": {
      "text/html": [
       "<div>\n",
       "<style scoped>\n",
       "    .dataframe tbody tr th:only-of-type {\n",
       "        vertical-align: middle;\n",
       "    }\n",
       "\n",
       "    .dataframe tbody tr th {\n",
       "        vertical-align: top;\n",
       "    }\n",
       "\n",
       "    .dataframe thead th {\n",
       "        text-align: right;\n",
       "    }\n",
       "</style>\n",
       "<table border=\"1\" class=\"dataframe\">\n",
       "  <thead>\n",
       "    <tr style=\"text-align: right;\">\n",
       "      <th></th>\n",
       "      <th>trip_seconds</th>\n",
       "      <th>trip_miles</th>\n",
       "      <th>pickup_community_area</th>\n",
       "      <th>dropoff_community_area</th>\n",
       "      <th>fare</th>\n",
       "      <th>trip_start_time_hour</th>\n",
       "      <th>trip_end_time_hour</th>\n",
       "      <th>isPeak</th>\n",
       "      <th>isDayTime</th>\n",
       "      <th>distance</th>\n",
       "      <th>Downtown</th>\n",
       "      <th>Suburb</th>\n",
       "      <th>farecheck</th>\n",
       "      <th>Friday</th>\n",
       "      <th>Monday</th>\n",
       "      <th>Saturday</th>\n",
       "      <th>Sunday</th>\n",
       "      <th>Thursday</th>\n",
       "      <th>Tuesday</th>\n",
       "      <th>Wednesday</th>\n",
       "    </tr>\n",
       "  </thead>\n",
       "  <tbody>\n",
       "    <tr>\n",
       "      <th>5</th>\n",
       "      <td>1080.0</td>\n",
       "      <td>6.2</td>\n",
       "      <td>8.0</td>\n",
       "      <td>3.0</td>\n",
       "      <td>17.75</td>\n",
       "      <td>181500.0</td>\n",
       "      <td>184500.0</td>\n",
       "      <td>1.0</td>\n",
       "      <td>1.0</td>\n",
       "      <td>7588.575486</td>\n",
       "      <td>1.0</td>\n",
       "      <td>0.0</td>\n",
       "      <td>0.0</td>\n",
       "      <td>1</td>\n",
       "      <td>0</td>\n",
       "      <td>0</td>\n",
       "      <td>0</td>\n",
       "      <td>0</td>\n",
       "      <td>0</td>\n",
       "      <td>0</td>\n",
       "    </tr>\n",
       "    <tr>\n",
       "      <th>8</th>\n",
       "      <td>180.0</td>\n",
       "      <td>0.0</td>\n",
       "      <td>8.0</td>\n",
       "      <td>32.0</td>\n",
       "      <td>5.00</td>\n",
       "      <td>113000.0</td>\n",
       "      <td>114500.0</td>\n",
       "      <td>0.0</td>\n",
       "      <td>1.0</td>\n",
       "      <td>941.060331</td>\n",
       "      <td>1.0</td>\n",
       "      <td>0.0</td>\n",
       "      <td>0.0</td>\n",
       "      <td>1</td>\n",
       "      <td>0</td>\n",
       "      <td>0</td>\n",
       "      <td>0</td>\n",
       "      <td>0</td>\n",
       "      <td>0</td>\n",
       "      <td>0</td>\n",
       "    </tr>\n",
       "    <tr>\n",
       "      <th>10</th>\n",
       "      <td>480.0</td>\n",
       "      <td>1.3</td>\n",
       "      <td>8.0</td>\n",
       "      <td>8.0</td>\n",
       "      <td>7.00</td>\n",
       "      <td>90000.0</td>\n",
       "      <td>90000.0</td>\n",
       "      <td>1.0</td>\n",
       "      <td>1.0</td>\n",
       "      <td>1527.140786</td>\n",
       "      <td>1.0</td>\n",
       "      <td>0.0</td>\n",
       "      <td>0.0</td>\n",
       "      <td>0</td>\n",
       "      <td>1</td>\n",
       "      <td>0</td>\n",
       "      <td>0</td>\n",
       "      <td>0</td>\n",
       "      <td>0</td>\n",
       "      <td>0</td>\n",
       "    </tr>\n",
       "    <tr>\n",
       "      <th>11</th>\n",
       "      <td>420.0</td>\n",
       "      <td>0.0</td>\n",
       "      <td>8.0</td>\n",
       "      <td>28.0</td>\n",
       "      <td>7.25</td>\n",
       "      <td>231500.0</td>\n",
       "      <td>233000.0</td>\n",
       "      <td>0.0</td>\n",
       "      <td>0.0</td>\n",
       "      <td>1601.150845</td>\n",
       "      <td>1.0</td>\n",
       "      <td>0.0</td>\n",
       "      <td>0.0</td>\n",
       "      <td>0</td>\n",
       "      <td>0</td>\n",
       "      <td>0</td>\n",
       "      <td>0</td>\n",
       "      <td>0</td>\n",
       "      <td>0</td>\n",
       "      <td>1</td>\n",
       "    </tr>\n",
       "    <tr>\n",
       "      <th>12</th>\n",
       "      <td>1380.0</td>\n",
       "      <td>5.1</td>\n",
       "      <td>32.0</td>\n",
       "      <td>31.0</td>\n",
       "      <td>17.25</td>\n",
       "      <td>183000.0</td>\n",
       "      <td>190000.0</td>\n",
       "      <td>1.0</td>\n",
       "      <td>0.0</td>\n",
       "      <td>4740.212665</td>\n",
       "      <td>1.0</td>\n",
       "      <td>0.0</td>\n",
       "      <td>0.0</td>\n",
       "      <td>0</td>\n",
       "      <td>0</td>\n",
       "      <td>0</td>\n",
       "      <td>0</td>\n",
       "      <td>0</td>\n",
       "      <td>0</td>\n",
       "      <td>1</td>\n",
       "    </tr>\n",
       "    <tr>\n",
       "      <th>...</th>\n",
       "      <td>...</td>\n",
       "      <td>...</td>\n",
       "      <td>...</td>\n",
       "      <td>...</td>\n",
       "      <td>...</td>\n",
       "      <td>...</td>\n",
       "      <td>...</td>\n",
       "      <td>...</td>\n",
       "      <td>...</td>\n",
       "      <td>...</td>\n",
       "      <td>...</td>\n",
       "      <td>...</td>\n",
       "      <td>...</td>\n",
       "      <td>...</td>\n",
       "      <td>...</td>\n",
       "      <td>...</td>\n",
       "      <td>...</td>\n",
       "      <td>...</td>\n",
       "      <td>...</td>\n",
       "      <td>...</td>\n",
       "    </tr>\n",
       "    <tr>\n",
       "      <th>1705799</th>\n",
       "      <td>540.0</td>\n",
       "      <td>0.2</td>\n",
       "      <td>32.0</td>\n",
       "      <td>7.0</td>\n",
       "      <td>12.25</td>\n",
       "      <td>90000.0</td>\n",
       "      <td>90000.0</td>\n",
       "      <td>1.0</td>\n",
       "      <td>1.0</td>\n",
       "      <td>3886.179349</td>\n",
       "      <td>1.0</td>\n",
       "      <td>0.0</td>\n",
       "      <td>0.0</td>\n",
       "      <td>0</td>\n",
       "      <td>0</td>\n",
       "      <td>0</td>\n",
       "      <td>0</td>\n",
       "      <td>0</td>\n",
       "      <td>1</td>\n",
       "      <td>0</td>\n",
       "    </tr>\n",
       "    <tr>\n",
       "      <th>1705800</th>\n",
       "      <td>840.0</td>\n",
       "      <td>2.4</td>\n",
       "      <td>22.0</td>\n",
       "      <td>7.0</td>\n",
       "      <td>10.25</td>\n",
       "      <td>193000.0</td>\n",
       "      <td>194500.0</td>\n",
       "      <td>0.0</td>\n",
       "      <td>0.0</td>\n",
       "      <td>4119.899881</td>\n",
       "      <td>1.0</td>\n",
       "      <td>0.0</td>\n",
       "      <td>0.0</td>\n",
       "      <td>0</td>\n",
       "      <td>0</td>\n",
       "      <td>1</td>\n",
       "      <td>0</td>\n",
       "      <td>0</td>\n",
       "      <td>0</td>\n",
       "      <td>0</td>\n",
       "    </tr>\n",
       "    <tr>\n",
       "      <th>1705802</th>\n",
       "      <td>1380.0</td>\n",
       "      <td>17.9</td>\n",
       "      <td>32.0</td>\n",
       "      <td>76.0</td>\n",
       "      <td>44.00</td>\n",
       "      <td>63000.0</td>\n",
       "      <td>64500.0</td>\n",
       "      <td>0.0</td>\n",
       "      <td>1.0</td>\n",
       "      <td>25903.648791</td>\n",
       "      <td>0.0</td>\n",
       "      <td>1.0</td>\n",
       "      <td>0.0</td>\n",
       "      <td>0</td>\n",
       "      <td>0</td>\n",
       "      <td>0</td>\n",
       "      <td>0</td>\n",
       "      <td>1</td>\n",
       "      <td>0</td>\n",
       "      <td>0</td>\n",
       "    </tr>\n",
       "    <tr>\n",
       "      <th>1705803</th>\n",
       "      <td>960.0</td>\n",
       "      <td>2.5</td>\n",
       "      <td>8.0</td>\n",
       "      <td>28.0</td>\n",
       "      <td>11.75</td>\n",
       "      <td>123000.0</td>\n",
       "      <td>124500.0</td>\n",
       "      <td>0.0</td>\n",
       "      <td>1.0</td>\n",
       "      <td>2790.888479</td>\n",
       "      <td>1.0</td>\n",
       "      <td>0.0</td>\n",
       "      <td>0.0</td>\n",
       "      <td>0</td>\n",
       "      <td>0</td>\n",
       "      <td>0</td>\n",
       "      <td>1</td>\n",
       "      <td>0</td>\n",
       "      <td>0</td>\n",
       "      <td>0</td>\n",
       "    </tr>\n",
       "    <tr>\n",
       "      <th>1705804</th>\n",
       "      <td>360.0</td>\n",
       "      <td>2.1</td>\n",
       "      <td>8.0</td>\n",
       "      <td>24.0</td>\n",
       "      <td>8.25</td>\n",
       "      <td>31500.0</td>\n",
       "      <td>31500.0</td>\n",
       "      <td>0.0</td>\n",
       "      <td>0.0</td>\n",
       "      <td>3221.874844</td>\n",
       "      <td>1.0</td>\n",
       "      <td>0.0</td>\n",
       "      <td>0.0</td>\n",
       "      <td>0</td>\n",
       "      <td>0</td>\n",
       "      <td>0</td>\n",
       "      <td>1</td>\n",
       "      <td>0</td>\n",
       "      <td>0</td>\n",
       "      <td>0</td>\n",
       "    </tr>\n",
       "  </tbody>\n",
       "</table>\n",
       "<p>1204719 rows × 20 columns</p>\n",
       "</div>"
      ],
      "text/plain": [
       "         trip_seconds  trip_miles  pickup_community_area  \\\n",
       "5              1080.0         6.2                    8.0   \n",
       "8               180.0         0.0                    8.0   \n",
       "10              480.0         1.3                    8.0   \n",
       "11              420.0         0.0                    8.0   \n",
       "12             1380.0         5.1                   32.0   \n",
       "...               ...         ...                    ...   \n",
       "1705799         540.0         0.2                   32.0   \n",
       "1705800         840.0         2.4                   22.0   \n",
       "1705802        1380.0        17.9                   32.0   \n",
       "1705803         960.0         2.5                    8.0   \n",
       "1705804         360.0         2.1                    8.0   \n",
       "\n",
       "         dropoff_community_area   fare  trip_start_time_hour  \\\n",
       "5                           3.0  17.75              181500.0   \n",
       "8                          32.0   5.00              113000.0   \n",
       "10                          8.0   7.00               90000.0   \n",
       "11                         28.0   7.25              231500.0   \n",
       "12                         31.0  17.25              183000.0   \n",
       "...                         ...    ...                   ...   \n",
       "1705799                     7.0  12.25               90000.0   \n",
       "1705800                     7.0  10.25              193000.0   \n",
       "1705802                    76.0  44.00               63000.0   \n",
       "1705803                    28.0  11.75              123000.0   \n",
       "1705804                    24.0   8.25               31500.0   \n",
       "\n",
       "         trip_end_time_hour  isPeak  isDayTime      distance  Downtown  \\\n",
       "5                  184500.0     1.0        1.0   7588.575486       1.0   \n",
       "8                  114500.0     0.0        1.0    941.060331       1.0   \n",
       "10                  90000.0     1.0        1.0   1527.140786       1.0   \n",
       "11                 233000.0     0.0        0.0   1601.150845       1.0   \n",
       "12                 190000.0     1.0        0.0   4740.212665       1.0   \n",
       "...                     ...     ...        ...           ...       ...   \n",
       "1705799             90000.0     1.0        1.0   3886.179349       1.0   \n",
       "1705800            194500.0     0.0        0.0   4119.899881       1.0   \n",
       "1705802             64500.0     0.0        1.0  25903.648791       0.0   \n",
       "1705803            124500.0     0.0        1.0   2790.888479       1.0   \n",
       "1705804             31500.0     0.0        0.0   3221.874844       1.0   \n",
       "\n",
       "         Suburb  farecheck  Friday  Monday  Saturday  Sunday  Thursday  \\\n",
       "5           0.0        0.0       1       0         0       0         0   \n",
       "8           0.0        0.0       1       0         0       0         0   \n",
       "10          0.0        0.0       0       1         0       0         0   \n",
       "11          0.0        0.0       0       0         0       0         0   \n",
       "12          0.0        0.0       0       0         0       0         0   \n",
       "...         ...        ...     ...     ...       ...     ...       ...   \n",
       "1705799     0.0        0.0       0       0         0       0         0   \n",
       "1705800     0.0        0.0       0       0         1       0         0   \n",
       "1705802     1.0        0.0       0       0         0       0         1   \n",
       "1705803     0.0        0.0       0       0         0       1         0   \n",
       "1705804     0.0        0.0       0       0         0       1         0   \n",
       "\n",
       "         Tuesday  Wednesday  \n",
       "5              0          0  \n",
       "8              0          0  \n",
       "10             0          0  \n",
       "11             0          1  \n",
       "12             0          1  \n",
       "...          ...        ...  \n",
       "1705799        1          0  \n",
       "1705800        0          0  \n",
       "1705802        0          0  \n",
       "1705803        0          0  \n",
       "1705804        0          0  \n",
       "\n",
       "[1204719 rows x 20 columns]"
      ]
     },
     "execution_count": 48,
     "metadata": {},
     "output_type": "execute_result"
    }
   ],
   "source": [
    "data"
   ]
  },
  {
   "cell_type": "markdown",
   "metadata": {},
   "source": [
    "# Feature selection \n"
   ]
  },
  {
   "cell_type": "code",
   "execution_count": 49,
   "metadata": {},
   "outputs": [],
   "source": [
    "X=data.loc[:, ['trip_seconds','trip_miles','isPeak','isDayTime','Suburb', 'Downtown', 'Friday','Monday','Saturday','Sunday','Thursday','Tuesday','Wednesday']]\n",
    "y=data[\"fare\"]"
   ]
  },
  {
   "cell_type": "code",
   "execution_count": 50,
   "metadata": {},
   "outputs": [],
   "source": [
    "from sklearn.model_selection import train_test_split\n",
    "X_train, X_test, y_train, y_test = train_test_split(X, y, test_size=0.2)"
   ]
  },
  {
   "cell_type": "code",
   "execution_count": 51,
   "metadata": {},
   "outputs": [
    {
     "data": {
      "text/plain": [
       "240944"
      ]
     },
     "execution_count": 51,
     "metadata": {},
     "output_type": "execute_result"
    }
   ],
   "source": [
    "len(X_train)\n",
    "len(X_test)"
   ]
  },
  {
   "cell_type": "markdown",
   "metadata": {},
   "source": [
    "# Multiple Regression"
   ]
  },
  {
   "cell_type": "code",
   "execution_count": 52,
   "metadata": {},
   "outputs": [
    {
     "data": {
      "text/plain": [
       "LinearRegression()"
      ]
     },
     "execution_count": 52,
     "metadata": {},
     "output_type": "execute_result"
    }
   ],
   "source": [
    "from sklearn.linear_model import LinearRegression\n",
    "regressor=LinearRegression()\n",
    "regressor.fit(X_train,y_train)"
   ]
  },
  {
   "cell_type": "code",
   "execution_count": 53,
   "metadata": {},
   "outputs": [
    {
     "data": {
      "text/plain": [
       "array([10.36164425, 21.2700803 ,  8.74351331, ..., 17.98397314,\n",
       "        8.15150604, 12.70353241])"
      ]
     },
     "execution_count": 53,
     "metadata": {},
     "output_type": "execute_result"
    }
   ],
   "source": [
    "y_predmulti=regressor.predict(X_test)\n",
    "y_predmulti"
   ]
  },
  {
   "cell_type": "code",
   "execution_count": 54,
   "metadata": {},
   "outputs": [
    {
     "data": {
      "text/plain": [
       "924181      9.25\n",
       "992996     34.00\n",
       "632075      6.75\n",
       "1289274     8.75\n",
       "1128503     5.25\n",
       "           ...  \n",
       "1051162    44.75\n",
       "455439      4.50\n",
       "1080760    29.25\n",
       "1459541     5.75\n",
       "1270740    11.00\n",
       "Name: fare, Length: 240944, dtype: float64"
      ]
     },
     "execution_count": 54,
     "metadata": {},
     "output_type": "execute_result"
    }
   ],
   "source": [
    "y_test"
   ]
  },
  {
   "cell_type": "code",
   "execution_count": 55,
   "metadata": {},
   "outputs": [
    {
     "data": {
      "text/plain": [
       "0.4830753423467146"
      ]
     },
     "execution_count": 55,
     "metadata": {},
     "output_type": "execute_result"
    }
   ],
   "source": [
    "from sklearn.model_selection import cross_val_score\n",
    "cross_val_score(regressor, X, y).mean()"
   ]
  },
  {
   "cell_type": "code",
   "execution_count": 56,
   "metadata": {},
   "outputs": [
    {
     "data": {
      "text/plain": [
       "0.5450731864210887"
      ]
     },
     "execution_count": 56,
     "metadata": {},
     "output_type": "execute_result"
    }
   ],
   "source": [
    "from sklearn.metrics import r2_score\n",
    "score=r2_score(y_test,y_predmulti)\n",
    "score"
   ]
  },
  {
   "cell_type": "markdown",
   "metadata": {},
   "source": [
    "# Decision Tree"
   ]
  },
  {
   "cell_type": "code",
   "execution_count": 57,
   "metadata": {},
   "outputs": [
    {
     "data": {
      "text/plain": [
       "DecisionTreeRegressor(random_state=0)"
      ]
     },
     "execution_count": 57,
     "metadata": {},
     "output_type": "execute_result"
    }
   ],
   "source": [
    "from sklearn import tree\n",
    "reg=tree.DecisionTreeRegressor(random_state=0)\n",
    "reg.fit(X_train,y_train)"
   ]
  },
  {
   "cell_type": "code",
   "execution_count": 58,
   "metadata": {},
   "outputs": [
    {
     "data": {
      "text/plain": [
       "array([ 8.28715596, 34.33333333,  6.54910448, ..., 28.875     ,\n",
       "        5.76049689, 10.85188679])"
      ]
     },
     "execution_count": 58,
     "metadata": {},
     "output_type": "execute_result"
    }
   ],
   "source": [
    "y_pred = reg.predict(X_test)\n",
    "y_pred"
   ]
  },
  {
   "cell_type": "code",
   "execution_count": 59,
   "metadata": {},
   "outputs": [
    {
     "data": {
      "text/plain": [
       "924181      9.25\n",
       "992996     34.00\n",
       "632075      6.75\n",
       "1289274     8.75\n",
       "1128503     5.25\n",
       "           ...  \n",
       "1051162    44.75\n",
       "455439      4.50\n",
       "1080760    29.25\n",
       "1459541     5.75\n",
       "1270740    11.00\n",
       "Name: fare, Length: 240944, dtype: float64"
      ]
     },
     "execution_count": 59,
     "metadata": {},
     "output_type": "execute_result"
    }
   ],
   "source": [
    "y_test"
   ]
  },
  {
   "cell_type": "code",
   "execution_count": 60,
   "metadata": {},
   "outputs": [
    {
     "data": {
      "text/plain": [
       "0.9481561272982169"
      ]
     },
     "execution_count": 60,
     "metadata": {},
     "output_type": "execute_result"
    }
   ],
   "source": [
    "from sklearn.metrics import r2_score\n",
    "score=r2_score(y_test,y_pred)\n",
    "score"
   ]
  },
  {
   "cell_type": "code",
   "execution_count": 84,
   "metadata": {},
   "outputs": [],
   "source": [
    "adj = 1-(1-reg.score(X_train, y_train))*(len(y_train)-1)/(len(y_train)-X_train.shape[1]-1)"
   ]
  },
  {
   "cell_type": "code",
   "execution_count": 85,
   "metadata": {},
   "outputs": [
    {
     "data": {
      "text/plain": [
       "0.9794624798467894"
      ]
     },
     "execution_count": 85,
     "metadata": {},
     "output_type": "execute_result"
    }
   ],
   "source": [
    "adj"
   ]
  },
  {
   "cell_type": "markdown",
   "metadata": {},
   "source": [
    "# Xgboost"
   ]
  },
  {
   "cell_type": "code",
   "execution_count": 86,
   "metadata": {},
   "outputs": [
    {
     "data": {
      "text/plain": [
       "XGBRegressor(base_score=0.5, booster='gbtree', colsample_bylevel=1,\n",
       "             colsample_bynode=1, colsample_bytree=1, gamma=0, gpu_id=-1,\n",
       "             importance_type='gain', interaction_constraints='',\n",
       "             learning_rate=0.300000012, max_delta_step=0, max_depth=6,\n",
       "             min_child_weight=1, missing=nan, monotone_constraints='()',\n",
       "             n_estimators=100, n_jobs=8, num_parallel_tree=1, random_state=0,\n",
       "             reg_alpha=0, reg_lambda=1, scale_pos_weight=1, subsample=1,\n",
       "             tree_method='exact', validate_parameters=1, verbosity=None)"
      ]
     },
     "execution_count": 86,
     "metadata": {},
     "output_type": "execute_result"
    }
   ],
   "source": [
    "import xgboost\n",
    "regx=xgboost.XGBRegressor()\n",
    "regx.fit(X_train,y_train)"
   ]
  },
  {
   "cell_type": "code",
   "execution_count": 87,
   "metadata": {},
   "outputs": [],
   "source": [
    "y_pred1=regx.predict(X_test)"
   ]
  },
  {
   "cell_type": "code",
   "execution_count": 88,
   "metadata": {},
   "outputs": [],
   "source": [
    "adjr = 1-(1-regx.score(X_train, y_train))*(len(y_train)-1)/(len(y_train)-X_train.shape[1]-1)"
   ]
  },
  {
   "cell_type": "code",
   "execution_count": 89,
   "metadata": {},
   "outputs": [
    {
     "data": {
      "text/plain": [
       "0.9672943189152327"
      ]
     },
     "execution_count": 89,
     "metadata": {},
     "output_type": "execute_result"
    }
   ],
   "source": [
    "adjr"
   ]
  },
  {
   "cell_type": "code",
   "execution_count": 81,
   "metadata": {},
   "outputs": [],
   "source": [
    "from sklearn.metrics import r2_score\n",
    "score=r2_score(y_test,y_pred1)\n",
    "score\n"
   ]
  },
  {
   "cell_type": "markdown",
   "metadata": {},
   "source": [
    "# Random Forest"
   ]
  },
  {
   "cell_type": "code",
   "execution_count": 64,
   "metadata": {},
   "outputs": [
    {
     "data": {
      "text/plain": [
       "RandomForestRegressor(random_state=0)"
      ]
     },
     "execution_count": 64,
     "metadata": {},
     "output_type": "execute_result"
    }
   ],
   "source": [
    "from sklearn.ensemble import RandomForestRegressor\n",
    "regressor=RandomForestRegressor(random_state=0)\n",
    "regressor.fit(X_train,y_train)"
   ]
  },
  {
   "cell_type": "code",
   "execution_count": 65,
   "metadata": {},
   "outputs": [],
   "source": [
    "y_random=regressor.predict(X_test)"
   ]
  },
  {
   "cell_type": "code",
   "execution_count": 66,
   "metadata": {},
   "outputs": [
    {
     "name": "stdout",
     "output_type": "stream",
     "text": [
      "924181      9.25\n",
      "992996     34.00\n",
      "632075      6.75\n",
      "1289274     8.75\n",
      "1128503     5.25\n",
      "           ...  \n",
      "1051162    44.75\n",
      "455439      4.50\n",
      "1080760    29.25\n",
      "1459541     5.75\n",
      "1270740    11.00\n",
      "Name: fare, Length: 240944, dtype: float64\n"
     ]
    }
   ],
   "source": [
    "print(y_test)"
   ]
  },
  {
   "cell_type": "code",
   "execution_count": 68,
   "metadata": {},
   "outputs": [
    {
     "data": {
      "text/plain": [
       "12.722746349978832"
      ]
     },
     "execution_count": 68,
     "metadata": {},
     "output_type": "execute_result"
    }
   ],
   "source": [
    "mean_check = data['fare'].mean()\n",
    "mean_check"
   ]
  },
  {
   "cell_type": "code",
   "execution_count": 72,
   "metadata": {},
   "outputs": [
    {
     "name": "stdout",
     "output_type": "stream",
     "text": [
      "2.258700375258823\n"
     ]
    }
   ],
   "source": [
    "from sklearn.metrics import mean_squared_error\n",
    "from math import sqrt\n",
    "rmse = sqrt(mean_squared_error(y_random, y_test))\n",
    "print(rmse)"
   ]
  },
  {
   "cell_type": "code",
   "execution_count": 90,
   "metadata": {},
   "outputs": [
    {
     "name": "stdout",
     "output_type": "stream",
     "text": [
      "MAE: 0.7417038200463885\n"
     ]
    }
   ],
   "source": [
    "from sklearn import metrics\n",
    "print('MAE:', metrics.mean_absolute_error(y_test, y_random))"
   ]
  },
  {
   "cell_type": "code",
   "execution_count": 91,
   "metadata": {},
   "outputs": [],
   "source": [
    "adjr = 1-(1-regressor.score(X_train, y_train))*(len(y_train)-1)/(len(y_train)-X_train.shape[1]-1)"
   ]
  },
  {
   "cell_type": "code",
   "execution_count": 92,
   "metadata": {},
   "outputs": [
    {
     "data": {
      "text/plain": [
       "0.9772393644537791"
      ]
     },
     "execution_count": 92,
     "metadata": {},
     "output_type": "execute_result"
    }
   ],
   "source": [
    "adjr"
   ]
  },
  {
   "cell_type": "code",
   "execution_count": null,
   "metadata": {},
   "outputs": [],
   "source": []
  }
 ],
 "metadata": {
  "kernelspec": {
   "display_name": "Python 3",
   "language": "python",
   "name": "python3"
  },
  "language_info": {
   "codemirror_mode": {
    "name": "ipython",
    "version": 3
   },
   "file_extension": ".py",
   "mimetype": "text/x-python",
   "name": "python",
   "nbconvert_exporter": "python",
   "pygments_lexer": "ipython3",
   "version": "3.8.5"
  }
 },
 "nbformat": 4,
 "nbformat_minor": 4
}
